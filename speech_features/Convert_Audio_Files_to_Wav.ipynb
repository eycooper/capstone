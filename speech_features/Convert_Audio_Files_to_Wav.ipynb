{
 "cells": [
  {
   "cell_type": "markdown",
   "id": "379a6f72-e41f-46e2-8776-40d515c711e5",
   "metadata": {},
   "source": [
    "# Convert Audio Files to Wav Files\n",
    "\n",
    "Original audio files are .m4a, but many of the Python libraries work with .wav files so we need to convert them."
   ]
  },
  {
   "cell_type": "code",
   "execution_count": 1,
   "id": "a8c6add3-6af6-44f6-8a6e-6c1e6f77138c",
   "metadata": {},
   "outputs": [],
   "source": [
    "import os\n",
    "from pydub import AudioSegment"
   ]
  },
  {
   "cell_type": "markdown",
   "id": "683363bd-2844-4d11-9ea4-0f6f19f21786",
   "metadata": {},
   "source": [
    "For pydub was getting \"No such file or directory: 'ffprobe'\" error with pydub so instead used `conda install -c conda-forge ffmpeg` (rather than pip) to install."
   ]
  },
  {
   "cell_type": "code",
   "execution_count": 2,
   "id": "75506a84-ccae-41c4-958b-f181047d8fe3",
   "metadata": {},
   "outputs": [],
   "source": [
    "# File paths for audio files\n",
    "m4a_path = './data/m4a_files/'\n",
    "wav_path = './data/wav_files/'"
   ]
  },
  {
   "cell_type": "code",
   "execution_count": 3,
   "id": "54e06800-4be6-4c77-8698-3d2cf416b7ff",
   "metadata": {},
   "outputs": [],
   "source": [
    "def convert_m4a_to_wav(file_name, m4a_path, wav_path):\n",
    "    '''\n",
    "    Convert an .m4a audio file to a .wav audio file using PyDub.\n",
    "\n",
    "    Inputs:\n",
    "        file_name (str): name of file (without extension)\n",
    "        m4a_path (str): directory path for input .m4a file\n",
    "        wav_path (str): directory path for output .wav file\n",
    "\n",
    "    '''\n",
    "    \n",
    "    try:\n",
    "        # Load the m4a file\n",
    "        audio = AudioSegment.from_file(m4a_path + file_name + '.m4a', format = 'm4a')\n",
    "\n",
    "        # Set the desired sample rate and bit depth\n",
    "        desired_sample_rate = 44100\n",
    "        desired_sample_width = 2  # 16-bit depth\n",
    "\n",
    "        # Resample the audio to the desired sample rate\n",
    "        resampled_audio = audio.set_frame_rate(desired_sample_rate)\n",
    "\n",
    "        # Set the bit depth to the desired value\n",
    "        converted_audio = resampled_audio.set_sample_width(desired_sample_width)\n",
    "\n",
    "        # Export the converted audio to a new WAV file\n",
    "        converted_audio.export(wav_path + file_name + '.wav', format=\"wav\")\n",
    "    \n",
    "    except:\n",
    "        print(f'Error converting {file_name}')\n",
    "    \n",
    "    \n"
   ]
  },
  {
   "cell_type": "code",
   "execution_count": 4,
   "id": "ae4c3a51-d997-485b-86e6-4899508ad45b",
   "metadata": {},
   "outputs": [],
   "source": [
    "# Create empty directories for wav files (if it doesn't exist)\n",
    "if not os.path.exists(wav_path):\n",
    "    os.makedirs(wav_path)\n"
   ]
  },
  {
   "cell_type": "code",
   "execution_count": 5,
   "id": "f5aab5f1-02ab-42e1-9611-b626eeaf9196",
   "metadata": {},
   "outputs": [],
   "source": [
    "# List of file names\n",
    "file_list = os.listdir(m4a_path) # List all files in original directory\n",
    "# Updated list of files names\n",
    "# remove extension and skip files that start with '.' (e.g. ipynb checkpoints)\n",
    "file_list = [x.replace('.m4a', '')for x in file_list if x[0] != '.'] # Remove extension\n"
   ]
  },
  {
   "cell_type": "code",
   "execution_count": 6,
   "id": "9413fbd4-64a9-4c1b-bf4e-d7a01da000fa",
   "metadata": {},
   "outputs": [],
   "source": [
    "# Convert all audio files to wav format\n",
    "for file in file_list:\n",
    "    convert_m4a_to_wav(file, m4a_path, wav_path)\n"
   ]
  }
 ],
 "metadata": {
  "kernelspec": {
   "display_name": "Python 3",
   "language": "python",
   "name": "python3"
  },
  "language_info": {
   "codemirror_mode": {
    "name": "ipython",
    "version": 3
   },
   "file_extension": ".py",
   "mimetype": "text/x-python",
   "name": "python",
   "nbconvert_exporter": "python",
   "pygments_lexer": "ipython3",
   "version": "3.8.8"
  }
 },
 "nbformat": 4,
 "nbformat_minor": 5
}
