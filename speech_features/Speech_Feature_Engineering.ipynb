{
 "cells": [
  {
   "cell_type": "markdown",
   "id": "4c9545e3-0dd9-43f9-a573-03b71b8ffdb8",
   "metadata": {},
   "source": [
    "# Speech Feature Engineering\n",
    "\n",
    "\n"
   ]
  },
  {
   "cell_type": "code",
   "execution_count": 1,
   "id": "aaedce31-4f31-4805-bc40-2d82d26e4e2c",
   "metadata": {},
   "outputs": [],
   "source": [
    "# One file to test on\n",
    "# wav_path = './data/wav_files/'\n",
    "wav_path = './data/teacher_wav_files/'\n",
    "file_name = '228_3.4.20_S_SC'\n",
    "wav_file = wav_path + file_name + '.wav'"
   ]
  },
  {
   "cell_type": "markdown",
   "id": "da4a30f7-ac60-409d-b4f4-a913488499ae",
   "metadata": {},
   "source": [
    "## My-Voice-Analysis Library\n",
    "\n",
    "https://github.com/Shahabks/my-voice-analysis\n",
    "\n",
    "From [paper](https://www.jmir.org/2021/4/e24191/) analyzing stress of health care professionals:\n",
    "\n",
    "For the temporal features, the My-Voice Analysis [28] package was used. This package was built off of the speech analysis research tool praat [29]. Temporal features were actualized as the speech rate, syllable count, rate of articulation, speaking duration, total duration, and ratio of speaking to nonspeaking. This package was also used to extract prosodic features, namely the F0 values: mean, standard deviation, minimum, maximum, and upper and lower quartiles. The F0 value is the representation of what is known as the pitch.\n",
    "\n",
    "Temporal characteristics include measures of the proportion of speech (eg, duration of pauses and duration of speech segments), speech segment connectivity, and overall speech rate.\n",
    "\n",
    "Prosodic characteristics, on long-term variations in perceived stress and speech rhythm. Prosodic features also measure alterations in personal speech style (eg, perceived pitch and speech intonation)."
   ]
  },
  {
   "cell_type": "markdown",
   "id": "79fbe460-9793-4a75-91aa-22c1cebf8761",
   "metadata": {},
   "source": [
    "At first I was getting a \"Try again the sound of the audio was not clear\" response whenever I ran any of the functions from this package. I ended up copying the code from that package's repo and modified all the `sourcerun` file paths in the functions and now it works."
   ]
  },
  {
   "cell_type": "code",
   "execution_count": 2,
   "id": "15d37a45-68e4-4fdf-82a8-bf1a20f7881b",
   "metadata": {},
   "outputs": [],
   "source": [
    "# This will import it from the local version I edited slightly\n",
    "mysp=__import__('my-voice-analysis')"
   ]
  },
  {
   "cell_type": "code",
   "execution_count": 3,
   "id": "3300ab90-9d35-4d4a-a68a-d026698edd14",
   "metadata": {},
   "outputs": [],
   "source": [
    "summary_dataset = mysp.mysptotal(file_name, wav_path[:-1])"
   ]
  },
  {
   "cell_type": "code",
   "execution_count": 4,
   "id": "7378b5bc-5a6d-45f2-af1f-81cb91fd08e3",
   "metadata": {},
   "outputs": [
    {
     "data": {
      "text/html": [
       "<div>\n",
       "<style scoped>\n",
       "    .dataframe tbody tr th:only-of-type {\n",
       "        vertical-align: middle;\n",
       "    }\n",
       "\n",
       "    .dataframe tbody tr th {\n",
       "        vertical-align: top;\n",
       "    }\n",
       "\n",
       "    .dataframe thead th {\n",
       "        text-align: right;\n",
       "    }\n",
       "</style>\n",
       "<table border=\"1\" class=\"dataframe\">\n",
       "  <thead>\n",
       "    <tr style=\"text-align: right;\">\n",
       "      <th></th>\n",
       "      <th>0</th>\n",
       "    </tr>\n",
       "  </thead>\n",
       "  <tbody>\n",
       "    <tr>\n",
       "      <th>number_ of_syllables</th>\n",
       "      <td>645</td>\n",
       "    </tr>\n",
       "    <tr>\n",
       "      <th>number_of_pauses</th>\n",
       "      <td>82</td>\n",
       "    </tr>\n",
       "    <tr>\n",
       "      <th>rate_of_speech</th>\n",
       "      <td>4</td>\n",
       "    </tr>\n",
       "    <tr>\n",
       "      <th>articulation_rate</th>\n",
       "      <td>5</td>\n",
       "    </tr>\n",
       "    <tr>\n",
       "      <th>speaking_duration</th>\n",
       "      <td>118.9</td>\n",
       "    </tr>\n",
       "    <tr>\n",
       "      <th>original_duration</th>\n",
       "      <td>183</td>\n",
       "    </tr>\n",
       "    <tr>\n",
       "      <th>balance</th>\n",
       "      <td>0.6</td>\n",
       "    </tr>\n",
       "    <tr>\n",
       "      <th>f0_mean</th>\n",
       "      <td>216.9</td>\n",
       "    </tr>\n",
       "    <tr>\n",
       "      <th>f0_std</th>\n",
       "      <td>54.33</td>\n",
       "    </tr>\n",
       "    <tr>\n",
       "      <th>f0_median</th>\n",
       "      <td>214</td>\n",
       "    </tr>\n",
       "    <tr>\n",
       "      <th>f0_min</th>\n",
       "      <td>71</td>\n",
       "    </tr>\n",
       "    <tr>\n",
       "      <th>f0_max</th>\n",
       "      <td>423</td>\n",
       "    </tr>\n",
       "    <tr>\n",
       "      <th>f0_quantile25</th>\n",
       "      <td>189</td>\n",
       "    </tr>\n",
       "    <tr>\n",
       "      <th>f0_quan75</th>\n",
       "      <td>241</td>\n",
       "    </tr>\n",
       "  </tbody>\n",
       "</table>\n",
       "</div>"
      ],
      "text/plain": [
       "                          0\n",
       "number_ of_syllables    645\n",
       "number_of_pauses         82\n",
       "rate_of_speech            4\n",
       "articulation_rate         5\n",
       "speaking_duration     118.9\n",
       "original_duration       183\n",
       "balance                 0.6\n",
       "f0_mean               216.9\n",
       "f0_std                54.33\n",
       "f0_median               214\n",
       "f0_min                   71\n",
       "f0_max                  423\n",
       "f0_quantile25           189\n",
       "f0_quan75               241"
      ]
     },
     "execution_count": 4,
     "metadata": {},
     "output_type": "execute_result"
    }
   ],
   "source": [
    "summary_dataset.T"
   ]
  },
  {
   "cell_type": "code",
   "execution_count": 5,
   "id": "1361dd15-a487-4a73-9e2a-b0a2589fc5b1",
   "metadata": {},
   "outputs": [
    {
     "data": {
      "text/plain": [
       "('a female, mood of speech: Reading, p-value/sample size= :0.00', 5)"
      ]
     },
     "execution_count": 5,
     "metadata": {},
     "output_type": "execute_result"
    }
   ],
   "source": [
    "# Gender recognition and mood of speech:\n",
    "gender_mood = mysp.myspgend(file_name, wav_path[:-1])\n",
    "gender_mood"
   ]
  },
  {
   "cell_type": "code",
   "execution_count": 6,
   "id": "5efa5cfe-e69d-4113-994c-33ac7f22870f",
   "metadata": {},
   "outputs": [],
   "source": [
    "def extract_mood(gender_mood_string):\n",
    "    '''\n",
    "    Want to extract the mood of speech from the gender and mood string from my-voice-analysis package\n",
    "    \n",
    "    For example, from the string:\n",
    "    ('a female, mood of speech: Reading, p-value/sample size= :0.00', 5)\n",
    "    I'd want to return \"Reading\"\n",
    "    \n",
    "    '''\n",
    "    \n",
    "    # Find the index of the first colon and the next comma after it\n",
    "    colon_index = gender_mood_string.find(':')\n",
    "    comma_index = gender_mood_string.find(',', colon_index)\n",
    "\n",
    "    # Extract the text between the colon and comma using slicing\n",
    "    mood = gender_mood_string[colon_index+2:comma_index]\n",
    "    \n",
    "    return mood\n",
    "    "
   ]
  },
  {
   "cell_type": "code",
   "execution_count": 7,
   "id": "818b6672-a060-422d-9d35-8702c0e1d93d",
   "metadata": {},
   "outputs": [
    {
     "data": {
      "text/plain": [
       "'Reading'"
      ]
     },
     "execution_count": 7,
     "metadata": {},
     "output_type": "execute_result"
    }
   ],
   "source": [
    "mood = extract_mood(gender_mood[0])\n",
    "mood"
   ]
  },
  {
   "cell_type": "markdown",
   "id": "8a0b0430-d6cf-4752-aaa5-ffe3d5bbda23",
   "metadata": {},
   "source": [
    "## Python Speech Features Library\n",
    "\n",
    "https://github.com/jameslyons/python_speech_features\n",
    "\n",
    "[Mel Frequency Cepstral Coefficients (MFCC)](http://www.practicalcryptography.com/miscellaneous/machine-learning/guide-mel-frequency-cepstral-coefficients-mfccs/)\n",
    "\n",
    "\n",
    "From [paper](https://www.jmir.org/2021/4/e24191/) analyzing stress of health care professionals:\n",
    "\n",
    "Formant features were calculated using the Python Speech Features library [30]. To characterize this aspect of speech, the original sound recording was refit according to a series of transformations commonly used for speech recognition that yield a better representation of the sound called the mel-frequency cepstrum (MFC). From this new representation of the sound form, the first 14 coefficients of the MFC were extracted. The MFC values were extracted given that they describe the spectral shape of the audio file, generally with diminishing returns in terms of how informative they are, which is why we only considered the first 14 coefficients. If we were to select a greater number of MFC values, it would result in a potentially needlessly more complex machine learning model using less informative features.\n",
    "\n",
    "From each of these waves, the mean, variance, skewness, and kurtosis were calculated for the energy (static coefficient), velocity (first differential), and acceleration (second differential).\n",
    "\n",
    "Formant characteristics represent the dominant components of the speech spectrum and convey information about the acoustic resonance of the vocal tract and its use. These markers are often indicative of articulatory coordination problems in motor speech control disorders."
   ]
  },
  {
   "cell_type": "code",
   "execution_count": 8,
   "id": "1da4c736-035a-49d9-a74d-e2a05d4dc8e6",
   "metadata": {},
   "outputs": [],
   "source": [
    "# pip install python_speech_features"
   ]
  },
  {
   "cell_type": "code",
   "execution_count": 9,
   "id": "79ec7f52-5546-4c22-bd43-a4b8ae31a8dc",
   "metadata": {},
   "outputs": [],
   "source": [
    "from python_speech_features import mfcc\n",
    "from python_speech_features import logfbank\n",
    "import scipy.io.wavfile as wav\n",
    "from scipy.stats import kurtosis, skew\n",
    "import pandas as pd\n",
    "import numpy as np"
   ]
  },
  {
   "cell_type": "code",
   "execution_count": 10,
   "id": "3c480771-da4f-4278-9645-12eeff60abec",
   "metadata": {},
   "outputs": [],
   "source": [
    "(rate,sig) = wav.read(wav_file)\n",
    "num_mfccs = 13\n",
    "mfcc_feat = mfcc(sig, rate, nfft = 2000, numcep = num_mfccs)\n",
    "# fbank_feat = logfbank(sig, rate, nfft = 2000)"
   ]
  },
  {
   "cell_type": "code",
   "execution_count": 11,
   "id": "192eb6cd-e984-40ec-b14f-5dfa056e3fcf",
   "metadata": {},
   "outputs": [
    {
     "data": {
      "text/plain": [
       "array([[  8.21398726,  -0.94272344,   1.61217927, ...,  -5.22272978,\n",
       "         10.41307205,   7.18030457],\n",
       "       [  9.49550784,  10.74725207, -10.09674287, ...,  -7.3159577 ,\n",
       "         17.53966079,   9.70359799],\n",
       "       [ 10.56571434,  11.60457192, -18.64122097, ..., -12.30325592,\n",
       "         15.31123069,  12.63877943],\n",
       "       ...,\n",
       "       [ 15.35200665,  25.40331055,  16.44454652, ..., -16.59204303,\n",
       "        -18.24428657, -19.38499411],\n",
       "       [ 15.14867481,  27.10373493,  18.54972296, ..., -15.62857001,\n",
       "        -15.50449545, -13.23567051],\n",
       "       [ 15.13878566,  27.68397097,  19.47926471, ..., -20.72077487,\n",
       "        -18.03577014, -13.06890145]])"
      ]
     },
     "execution_count": 11,
     "metadata": {},
     "output_type": "execute_result"
    }
   ],
   "source": [
    "mfcc_feat"
   ]
  },
  {
   "cell_type": "code",
   "execution_count": 12,
   "id": "cfb76f3e-5fa8-4e09-a9ad-5b187d0f002a",
   "metadata": {},
   "outputs": [
    {
     "data": {
      "text/plain": [
       "(18301, 13)"
      ]
     },
     "execution_count": 12,
     "metadata": {},
     "output_type": "execute_result"
    }
   ],
   "source": [
    "mfcc_feat.shape"
   ]
  },
  {
   "cell_type": "code",
   "execution_count": 13,
   "id": "c747836a-5c7c-48ec-9b1a-c7745f647eee",
   "metadata": {},
   "outputs": [],
   "source": [
    "df_mean = pd.DataFrame(mfcc_feat.mean(axis = 0)).T\n",
    "df_mean.columns = [f'MFCC_{i+1}_Mean' for i in range(num_mfccs)]\n"
   ]
  },
  {
   "cell_type": "code",
   "execution_count": 14,
   "id": "4ce4cd62-a1d8-4e3c-a77e-397b8798df8d",
   "metadata": {},
   "outputs": [],
   "source": [
    "df_var = pd.DataFrame(mfcc_feat.var(axis = 0)).T\n",
    "df_var.columns = [f'MFCC_{i+1}_Var' for i in range(num_mfccs)]\n"
   ]
  },
  {
   "cell_type": "code",
   "execution_count": 15,
   "id": "0c59522b-0c83-44f1-9cdc-f301c7f10c1a",
   "metadata": {},
   "outputs": [],
   "source": [
    "df_skew = pd.DataFrame(skew(mfcc_feat)).T\n",
    "df_skew.columns = [f'MFCC_{i+1}_Skew' for i in range(num_mfccs)]\n"
   ]
  },
  {
   "cell_type": "code",
   "execution_count": 16,
   "id": "92648c6b-3385-457d-bc93-26c34872e948",
   "metadata": {},
   "outputs": [],
   "source": [
    "df_kurtosis = pd.DataFrame(kurtosis(mfcc_feat)).T\n",
    "df_kurtosis.columns = [f'MFCC_{i+1}_Kurtosis' for i in range(num_mfccs)]\n"
   ]
  },
  {
   "cell_type": "code",
   "execution_count": 17,
   "id": "8f8f38b0-cf4b-47f9-8fed-fadc4b4a7482",
   "metadata": {},
   "outputs": [
    {
     "data": {
      "text/html": [
       "<div>\n",
       "<style scoped>\n",
       "    .dataframe tbody tr th:only-of-type {\n",
       "        vertical-align: middle;\n",
       "    }\n",
       "\n",
       "    .dataframe tbody tr th {\n",
       "        vertical-align: top;\n",
       "    }\n",
       "\n",
       "    .dataframe thead th {\n",
       "        text-align: right;\n",
       "    }\n",
       "</style>\n",
       "<table border=\"1\" class=\"dataframe\">\n",
       "  <thead>\n",
       "    <tr style=\"text-align: right;\">\n",
       "      <th></th>\n",
       "      <th>0</th>\n",
       "    </tr>\n",
       "  </thead>\n",
       "  <tbody>\n",
       "    <tr>\n",
       "      <th>MFCC_1_Mean</th>\n",
       "      <td>13.523993</td>\n",
       "    </tr>\n",
       "    <tr>\n",
       "      <th>MFCC_2_Mean</th>\n",
       "      <td>17.242075</td>\n",
       "    </tr>\n",
       "    <tr>\n",
       "      <th>MFCC_3_Mean</th>\n",
       "      <td>-5.181864</td>\n",
       "    </tr>\n",
       "    <tr>\n",
       "      <th>MFCC_4_Mean</th>\n",
       "      <td>-4.193514</td>\n",
       "    </tr>\n",
       "    <tr>\n",
       "      <th>MFCC_5_Mean</th>\n",
       "      <td>4.482192</td>\n",
       "    </tr>\n",
       "    <tr>\n",
       "      <th>MFCC_6_Mean</th>\n",
       "      <td>-7.730148</td>\n",
       "    </tr>\n",
       "    <tr>\n",
       "      <th>MFCC_7_Mean</th>\n",
       "      <td>-3.215254</td>\n",
       "    </tr>\n",
       "    <tr>\n",
       "      <th>MFCC_8_Mean</th>\n",
       "      <td>-7.670091</td>\n",
       "    </tr>\n",
       "    <tr>\n",
       "      <th>MFCC_9_Mean</th>\n",
       "      <td>-13.003896</td>\n",
       "    </tr>\n",
       "    <tr>\n",
       "      <th>MFCC_10_Mean</th>\n",
       "      <td>-3.161761</td>\n",
       "    </tr>\n",
       "    <tr>\n",
       "      <th>MFCC_11_Mean</th>\n",
       "      <td>-3.292989</td>\n",
       "    </tr>\n",
       "    <tr>\n",
       "      <th>MFCC_12_Mean</th>\n",
       "      <td>2.713618</td>\n",
       "    </tr>\n",
       "    <tr>\n",
       "      <th>MFCC_13_Mean</th>\n",
       "      <td>-1.211745</td>\n",
       "    </tr>\n",
       "    <tr>\n",
       "      <th>MFCC_1_Var</th>\n",
       "      <td>21.667515</td>\n",
       "    </tr>\n",
       "    <tr>\n",
       "      <th>MFCC_2_Var</th>\n",
       "      <td>234.102924</td>\n",
       "    </tr>\n",
       "    <tr>\n",
       "      <th>MFCC_3_Var</th>\n",
       "      <td>219.381953</td>\n",
       "    </tr>\n",
       "    <tr>\n",
       "      <th>MFCC_4_Var</th>\n",
       "      <td>417.203726</td>\n",
       "    </tr>\n",
       "    <tr>\n",
       "      <th>MFCC_5_Var</th>\n",
       "      <td>336.552469</td>\n",
       "    </tr>\n",
       "    <tr>\n",
       "      <th>MFCC_6_Var</th>\n",
       "      <td>334.535633</td>\n",
       "    </tr>\n",
       "    <tr>\n",
       "      <th>MFCC_7_Var</th>\n",
       "      <td>505.624122</td>\n",
       "    </tr>\n",
       "    <tr>\n",
       "      <th>MFCC_8_Var</th>\n",
       "      <td>336.225017</td>\n",
       "    </tr>\n",
       "    <tr>\n",
       "      <th>MFCC_9_Var</th>\n",
       "      <td>250.758226</td>\n",
       "    </tr>\n",
       "    <tr>\n",
       "      <th>MFCC_10_Var</th>\n",
       "      <td>163.271370</td>\n",
       "    </tr>\n",
       "    <tr>\n",
       "      <th>MFCC_11_Var</th>\n",
       "      <td>137.992529</td>\n",
       "    </tr>\n",
       "    <tr>\n",
       "      <th>MFCC_12_Var</th>\n",
       "      <td>187.451959</td>\n",
       "    </tr>\n",
       "    <tr>\n",
       "      <th>MFCC_13_Var</th>\n",
       "      <td>164.399929</td>\n",
       "    </tr>\n",
       "    <tr>\n",
       "      <th>MFCC_1_Skew</th>\n",
       "      <td>-0.663705</td>\n",
       "    </tr>\n",
       "    <tr>\n",
       "      <th>MFCC_2_Skew</th>\n",
       "      <td>-0.609496</td>\n",
       "    </tr>\n",
       "    <tr>\n",
       "      <th>MFCC_3_Skew</th>\n",
       "      <td>0.001285</td>\n",
       "    </tr>\n",
       "    <tr>\n",
       "      <th>MFCC_4_Skew</th>\n",
       "      <td>-0.016632</td>\n",
       "    </tr>\n",
       "    <tr>\n",
       "      <th>MFCC_5_Skew</th>\n",
       "      <td>0.063455</td>\n",
       "    </tr>\n",
       "    <tr>\n",
       "      <th>MFCC_6_Skew</th>\n",
       "      <td>-0.527052</td>\n",
       "    </tr>\n",
       "    <tr>\n",
       "      <th>MFCC_7_Skew</th>\n",
       "      <td>0.335168</td>\n",
       "    </tr>\n",
       "    <tr>\n",
       "      <th>MFCC_8_Skew</th>\n",
       "      <td>-0.198182</td>\n",
       "    </tr>\n",
       "    <tr>\n",
       "      <th>MFCC_9_Skew</th>\n",
       "      <td>-0.096597</td>\n",
       "    </tr>\n",
       "    <tr>\n",
       "      <th>MFCC_10_Skew</th>\n",
       "      <td>-0.066011</td>\n",
       "    </tr>\n",
       "    <tr>\n",
       "      <th>MFCC_11_Skew</th>\n",
       "      <td>-0.016974</td>\n",
       "    </tr>\n",
       "    <tr>\n",
       "      <th>MFCC_12_Skew</th>\n",
       "      <td>0.276040</td>\n",
       "    </tr>\n",
       "    <tr>\n",
       "      <th>MFCC_13_Skew</th>\n",
       "      <td>-0.336948</td>\n",
       "    </tr>\n",
       "    <tr>\n",
       "      <th>MFCC_1_Kurtosis</th>\n",
       "      <td>-1.017209</td>\n",
       "    </tr>\n",
       "    <tr>\n",
       "      <th>MFCC_2_Kurtosis</th>\n",
       "      <td>-0.952299</td>\n",
       "    </tr>\n",
       "    <tr>\n",
       "      <th>MFCC_3_Kurtosis</th>\n",
       "      <td>-0.858424</td>\n",
       "    </tr>\n",
       "    <tr>\n",
       "      <th>MFCC_4_Kurtosis</th>\n",
       "      <td>-0.799295</td>\n",
       "    </tr>\n",
       "    <tr>\n",
       "      <th>MFCC_5_Kurtosis</th>\n",
       "      <td>-0.235006</td>\n",
       "    </tr>\n",
       "    <tr>\n",
       "      <th>MFCC_6_Kurtosis</th>\n",
       "      <td>0.269681</td>\n",
       "    </tr>\n",
       "    <tr>\n",
       "      <th>MFCC_7_Kurtosis</th>\n",
       "      <td>-0.303559</td>\n",
       "    </tr>\n",
       "    <tr>\n",
       "      <th>MFCC_8_Kurtosis</th>\n",
       "      <td>-0.225972</td>\n",
       "    </tr>\n",
       "    <tr>\n",
       "      <th>MFCC_9_Kurtosis</th>\n",
       "      <td>-0.211145</td>\n",
       "    </tr>\n",
       "    <tr>\n",
       "      <th>MFCC_10_Kurtosis</th>\n",
       "      <td>0.122668</td>\n",
       "    </tr>\n",
       "    <tr>\n",
       "      <th>MFCC_11_Kurtosis</th>\n",
       "      <td>0.328857</td>\n",
       "    </tr>\n",
       "    <tr>\n",
       "      <th>MFCC_12_Kurtosis</th>\n",
       "      <td>0.056609</td>\n",
       "    </tr>\n",
       "    <tr>\n",
       "      <th>MFCC_13_Kurtosis</th>\n",
       "      <td>0.329501</td>\n",
       "    </tr>\n",
       "  </tbody>\n",
       "</table>\n",
       "</div>"
      ],
      "text/plain": [
       "                           0\n",
       "MFCC_1_Mean        13.523993\n",
       "MFCC_2_Mean        17.242075\n",
       "MFCC_3_Mean        -5.181864\n",
       "MFCC_4_Mean        -4.193514\n",
       "MFCC_5_Mean         4.482192\n",
       "MFCC_6_Mean        -7.730148\n",
       "MFCC_7_Mean        -3.215254\n",
       "MFCC_8_Mean        -7.670091\n",
       "MFCC_9_Mean       -13.003896\n",
       "MFCC_10_Mean       -3.161761\n",
       "MFCC_11_Mean       -3.292989\n",
       "MFCC_12_Mean        2.713618\n",
       "MFCC_13_Mean       -1.211745\n",
       "MFCC_1_Var         21.667515\n",
       "MFCC_2_Var        234.102924\n",
       "MFCC_3_Var        219.381953\n",
       "MFCC_4_Var        417.203726\n",
       "MFCC_5_Var        336.552469\n",
       "MFCC_6_Var        334.535633\n",
       "MFCC_7_Var        505.624122\n",
       "MFCC_8_Var        336.225017\n",
       "MFCC_9_Var        250.758226\n",
       "MFCC_10_Var       163.271370\n",
       "MFCC_11_Var       137.992529\n",
       "MFCC_12_Var       187.451959\n",
       "MFCC_13_Var       164.399929\n",
       "MFCC_1_Skew        -0.663705\n",
       "MFCC_2_Skew        -0.609496\n",
       "MFCC_3_Skew         0.001285\n",
       "MFCC_4_Skew        -0.016632\n",
       "MFCC_5_Skew         0.063455\n",
       "MFCC_6_Skew        -0.527052\n",
       "MFCC_7_Skew         0.335168\n",
       "MFCC_8_Skew        -0.198182\n",
       "MFCC_9_Skew        -0.096597\n",
       "MFCC_10_Skew       -0.066011\n",
       "MFCC_11_Skew       -0.016974\n",
       "MFCC_12_Skew        0.276040\n",
       "MFCC_13_Skew       -0.336948\n",
       "MFCC_1_Kurtosis    -1.017209\n",
       "MFCC_2_Kurtosis    -0.952299\n",
       "MFCC_3_Kurtosis    -0.858424\n",
       "MFCC_4_Kurtosis    -0.799295\n",
       "MFCC_5_Kurtosis    -0.235006\n",
       "MFCC_6_Kurtosis     0.269681\n",
       "MFCC_7_Kurtosis    -0.303559\n",
       "MFCC_8_Kurtosis    -0.225972\n",
       "MFCC_9_Kurtosis    -0.211145\n",
       "MFCC_10_Kurtosis    0.122668\n",
       "MFCC_11_Kurtosis    0.328857\n",
       "MFCC_12_Kurtosis    0.056609\n",
       "MFCC_13_Kurtosis    0.329501"
      ]
     },
     "execution_count": 17,
     "metadata": {},
     "output_type": "execute_result"
    }
   ],
   "source": [
    "df_mfcc = pd.concat([df_mean, df_var, df_skew, df_kurtosis], axis=1)\n",
    "df_mfcc.T"
   ]
  },
  {
   "cell_type": "markdown",
   "id": "7cb55498-795a-43e1-930e-1263e07acf44",
   "metadata": {},
   "source": [
    "## Librosa Library\n",
    "\n",
    "https://pypi.org/project/librosa/\n",
    "\n",
    "From [paper](https://www.jmir.org/2021/4/e24191/) analyzing stress of health care professionals:\n",
    "\n",
    "The Librosa package [31] was used to calculate the mean, maximum, minimum, and standard deviation of the root mean square value, centroid, bandwidth, flatness, zero-crossing rate, loudness, and flux of the spectrogram, or the visualization of the recording."
   ]
  },
  {
   "cell_type": "code",
   "execution_count": 18,
   "id": "2a7745cc-feed-457e-8d69-1a144dc151db",
   "metadata": {},
   "outputs": [],
   "source": [
    "# pip install librosa\n"
   ]
  },
  {
   "cell_type": "code",
   "execution_count": 19,
   "id": "85983d6b-5cd2-4ff0-b535-88ad7d2a0a29",
   "metadata": {},
   "outputs": [],
   "source": [
    "import librosa"
   ]
  },
  {
   "cell_type": "code",
   "execution_count": 21,
   "id": "9ee76f2f-0ee3-48cc-b365-661f8a3e7f19",
   "metadata": {},
   "outputs": [],
   "source": [
    "# Load the WAV file using librosa\n",
    "y, sr = librosa.load(wav_file)\n"
   ]
  },
  {
   "cell_type": "code",
   "execution_count": 58,
   "id": "5873f199-3b66-4fc4-b1e1-b8a6b2f1d1be",
   "metadata": {},
   "outputs": [],
   "source": [
    "rms = librosa.feature.rms(y=y)\n"
   ]
  },
  {
   "cell_type": "code",
   "execution_count": 59,
   "id": "97af3923-7481-492d-bfec-632a45838afe",
   "metadata": {},
   "outputs": [
    {
     "data": {
      "text/plain": [
       "array([[0.00092698, 0.00125816, 0.00255589, ..., 0.05829348, 0.0525038 ,\n",
       "        0.04251017]], dtype=float32)"
      ]
     },
     "execution_count": 59,
     "metadata": {},
     "output_type": "execute_result"
    }
   ],
   "source": [
    "rms"
   ]
  },
  {
   "cell_type": "code",
   "execution_count": 60,
   "id": "1532a8d9-739a-48f1-a359-ee993e99fd30",
   "metadata": {},
   "outputs": [
    {
     "data": {
      "text/plain": [
       "(1, 7883)"
      ]
     },
     "execution_count": 60,
     "metadata": {},
     "output_type": "execute_result"
    }
   ],
   "source": [
    "rms.shape"
   ]
  },
  {
   "cell_type": "code",
   "execution_count": 31,
   "id": "7b06d9f1-5c45-42e6-b3e8-d6d5d44bd2d7",
   "metadata": {},
   "outputs": [],
   "source": [
    "def calc_mean_max_min_stdev(array):\n",
    "    return [np.mean(array), np.max(array), np.min(array), np.std(array)]"
   ]
  },
  {
   "cell_type": "code",
   "execution_count": 38,
   "id": "b2f87824-b72f-46eb-8578-35c2abaa2114",
   "metadata": {},
   "outputs": [],
   "source": [
    "# Root mean square value\n",
    "rms = pd.DataFrame(calc_mean_max_min_stdev(librosa.feature.rms(y=y))).T\n",
    "rms.columns = [f'RMS_{i}' for i in ['Mean', 'Min', 'Max', 'Std']]\n"
   ]
  },
  {
   "cell_type": "code",
   "execution_count": 39,
   "id": "9881f2db-0b8d-479d-8e8a-1ba36730cd71",
   "metadata": {},
   "outputs": [],
   "source": [
    "centroid = pd.DataFrame(calc_mean_max_min_stdev(librosa.feature.spectral_centroid(y=y))).T\n",
    "centroid.columns = [f'Centroid_{i}' for i in ['Mean', 'Min', 'Max', 'Std']]\n"
   ]
  },
  {
   "cell_type": "code",
   "execution_count": 40,
   "id": "3857ce9f-4937-4c9f-9d34-9b197ef69b43",
   "metadata": {},
   "outputs": [],
   "source": [
    "bandwidth = pd.DataFrame(calc_mean_max_min_stdev(librosa.feature.spectral_bandwidth(y=y))).T\n",
    "bandwidth.columns = [f'Bandwidth_{i}' for i in ['Mean', 'Min', 'Max', 'Std']]\n"
   ]
  },
  {
   "cell_type": "code",
   "execution_count": 41,
   "id": "30d647d0-b66a-4227-bdd0-fd08155eda40",
   "metadata": {},
   "outputs": [],
   "source": [
    "flatness = pd.DataFrame(calc_mean_max_min_stdev(librosa.feature.spectral_flatness(y=y))).T\n",
    "flatness.columns = [f'Flatness_{i}' for i in ['Mean', 'Min', 'Max', 'Std']]\n"
   ]
  },
  {
   "cell_type": "code",
   "execution_count": 47,
   "id": "beed999e-45f9-4849-93e8-be667c18fdc7",
   "metadata": {},
   "outputs": [],
   "source": [
    "zero_crossing_rate = pd.DataFrame(calc_mean_max_min_stdev(librosa.feature.zero_crossing_rate(y=y))).T\n",
    "zero_crossing_rate.columns = [f'Zero_Crossing_Rate_{i}' for i in ['Mean', 'Min', 'Max', 'Std']]\n"
   ]
  },
  {
   "cell_type": "code",
   "execution_count": 48,
   "id": "a038e1f7-83b1-4f41-9490-6e5aa0d1f9d2",
   "metadata": {},
   "outputs": [],
   "source": [
    "loudness = pd.DataFrame(calc_mean_max_min_stdev(librosa.amplitude_to_db(librosa.feature.rms(y=y)))).T\n",
    "loudness.columns = [f'Loudness_{i}' for i in ['Mean', 'Min', 'Max', 'Std']]\n"
   ]
  },
  {
   "cell_type": "code",
   "execution_count": 49,
   "id": "5edfa6c6-50b0-4239-81f2-920cca3f1adb",
   "metadata": {},
   "outputs": [
    {
     "data": {
      "text/html": [
       "<div>\n",
       "<style scoped>\n",
       "    .dataframe tbody tr th:only-of-type {\n",
       "        vertical-align: middle;\n",
       "    }\n",
       "\n",
       "    .dataframe tbody tr th {\n",
       "        vertical-align: top;\n",
       "    }\n",
       "\n",
       "    .dataframe thead th {\n",
       "        text-align: right;\n",
       "    }\n",
       "</style>\n",
       "<table border=\"1\" class=\"dataframe\">\n",
       "  <thead>\n",
       "    <tr style=\"text-align: right;\">\n",
       "      <th></th>\n",
       "      <th>0</th>\n",
       "    </tr>\n",
       "  </thead>\n",
       "  <tbody>\n",
       "    <tr>\n",
       "      <th>RMS_Mean</th>\n",
       "      <td>4.572282e-02</td>\n",
       "    </tr>\n",
       "    <tr>\n",
       "      <th>RMS_Min</th>\n",
       "      <td>3.379434e-01</td>\n",
       "    </tr>\n",
       "    <tr>\n",
       "      <th>RMS_Max</th>\n",
       "      <td>1.835118e-04</td>\n",
       "    </tr>\n",
       "    <tr>\n",
       "      <th>RMS_Std</th>\n",
       "      <td>4.680617e-02</td>\n",
       "    </tr>\n",
       "    <tr>\n",
       "      <th>Centroid_Mean</th>\n",
       "      <td>1.166937e+03</td>\n",
       "    </tr>\n",
       "    <tr>\n",
       "      <th>Centroid_Min</th>\n",
       "      <td>5.838620e+03</td>\n",
       "    </tr>\n",
       "    <tr>\n",
       "      <th>Centroid_Max</th>\n",
       "      <td>2.716106e+02</td>\n",
       "    </tr>\n",
       "    <tr>\n",
       "      <th>Centroid_Std</th>\n",
       "      <td>6.293843e+02</td>\n",
       "    </tr>\n",
       "    <tr>\n",
       "      <th>Bandwidth_Mean</th>\n",
       "      <td>1.288237e+03</td>\n",
       "    </tr>\n",
       "    <tr>\n",
       "      <th>Bandwidth_Min</th>\n",
       "      <td>3.084776e+03</td>\n",
       "    </tr>\n",
       "    <tr>\n",
       "      <th>Bandwidth_Max</th>\n",
       "      <td>3.389451e+02</td>\n",
       "    </tr>\n",
       "    <tr>\n",
       "      <th>Bandwidth_Std</th>\n",
       "      <td>5.323211e+02</td>\n",
       "    </tr>\n",
       "    <tr>\n",
       "      <th>Flatness_Mean</th>\n",
       "      <td>6.744001e-04</td>\n",
       "    </tr>\n",
       "    <tr>\n",
       "      <th>Flatness_Min</th>\n",
       "      <td>2.112661e-02</td>\n",
       "    </tr>\n",
       "    <tr>\n",
       "      <th>Flatness_Max</th>\n",
       "      <td>6.174973e-07</td>\n",
       "    </tr>\n",
       "    <tr>\n",
       "      <th>Flatness_Std</th>\n",
       "      <td>1.645633e-03</td>\n",
       "    </tr>\n",
       "    <tr>\n",
       "      <th>Zero_Crossing_Rate_Mean</th>\n",
       "      <td>6.549107e-02</td>\n",
       "    </tr>\n",
       "    <tr>\n",
       "      <th>Zero_Crossing_Rate_Min</th>\n",
       "      <td>5.537109e-01</td>\n",
       "    </tr>\n",
       "    <tr>\n",
       "      <th>Zero_Crossing_Rate_Max</th>\n",
       "      <td>6.347656e-03</td>\n",
       "    </tr>\n",
       "    <tr>\n",
       "      <th>Zero_Crossing_Rate_Std</th>\n",
       "      <td>5.066166e-02</td>\n",
       "    </tr>\n",
       "    <tr>\n",
       "      <th>Loudness_Mean</th>\n",
       "      <td>-3.637818e+01</td>\n",
       "    </tr>\n",
       "    <tr>\n",
       "      <th>Loudness_Min</th>\n",
       "      <td>-9.423120e+00</td>\n",
       "    </tr>\n",
       "    <tr>\n",
       "      <th>Loudness_Max</th>\n",
       "      <td>-7.472672e+01</td>\n",
       "    </tr>\n",
       "    <tr>\n",
       "      <th>Loudness_Std</th>\n",
       "      <td>1.759273e+01</td>\n",
       "    </tr>\n",
       "  </tbody>\n",
       "</table>\n",
       "</div>"
      ],
      "text/plain": [
       "                                    0\n",
       "RMS_Mean                 4.572282e-02\n",
       "RMS_Min                  3.379434e-01\n",
       "RMS_Max                  1.835118e-04\n",
       "RMS_Std                  4.680617e-02\n",
       "Centroid_Mean            1.166937e+03\n",
       "Centroid_Min             5.838620e+03\n",
       "Centroid_Max             2.716106e+02\n",
       "Centroid_Std             6.293843e+02\n",
       "Bandwidth_Mean           1.288237e+03\n",
       "Bandwidth_Min            3.084776e+03\n",
       "Bandwidth_Max            3.389451e+02\n",
       "Bandwidth_Std            5.323211e+02\n",
       "Flatness_Mean            6.744001e-04\n",
       "Flatness_Min             2.112661e-02\n",
       "Flatness_Max             6.174973e-07\n",
       "Flatness_Std             1.645633e-03\n",
       "Zero_Crossing_Rate_Mean  6.549107e-02\n",
       "Zero_Crossing_Rate_Min   5.537109e-01\n",
       "Zero_Crossing_Rate_Max   6.347656e-03\n",
       "Zero_Crossing_Rate_Std   5.066166e-02\n",
       "Loudness_Mean           -3.637818e+01\n",
       "Loudness_Min            -9.423120e+00\n",
       "Loudness_Max            -7.472672e+01\n",
       "Loudness_Std             1.759273e+01"
      ]
     },
     "execution_count": 49,
     "metadata": {},
     "output_type": "execute_result"
    }
   ],
   "source": [
    "df_librosa = pd.concat([rms, centroid, bandwidth, \n",
    "                        flatness, zero_crossing_rate, loudness], axis=1)\n",
    "df_librosa.T"
   ]
  },
  {
   "cell_type": "code",
   "execution_count": null,
   "id": "ce6d6d7c-212d-496f-835d-cfa4ad885e19",
   "metadata": {},
   "outputs": [],
   "source": []
  }
 ],
 "metadata": {
  "kernelspec": {
   "display_name": "Python 3",
   "language": "python",
   "name": "python3"
  },
  "language_info": {
   "codemirror_mode": {
    "name": "ipython",
    "version": 3
   },
   "file_extension": ".py",
   "mimetype": "text/x-python",
   "name": "python",
   "nbconvert_exporter": "python",
   "pygments_lexer": "ipython3",
   "version": "3.8.8"
  }
 },
 "nbformat": 4,
 "nbformat_minor": 5
}
