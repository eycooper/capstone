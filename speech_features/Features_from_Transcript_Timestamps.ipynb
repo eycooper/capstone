{
 "cells": [
  {
   "cell_type": "markdown",
   "id": "4e17444c-da9a-4e08-bae7-c9c7975e5b0e",
   "metadata": {},
   "source": [
    "# Features from Transcript Timestamps\n",
    "\n",
    "Exploring some feature creation from the transcript files such as:\n",
    "- How many times are there changes in speakers?\n",
    "- What percent of the time is the teacher the speaker?"
   ]
  },
  {
   "cell_type": "code",
   "execution_count": 1,
   "id": "5bb6a096-d380-45b9-a347-44837faddbc5",
   "metadata": {},
   "outputs": [],
   "source": [
    "import os\n",
    "import wave\n",
    "import numpy as np\n",
    "import pandas as pd\n",
    "from datetime import datetime, timedelta\n"
   ]
  },
  {
   "cell_type": "code",
   "execution_count": 2,
   "id": "56a10ff6-ef2b-4c2d-8e39-5f8e6badc0e3",
   "metadata": {},
   "outputs": [],
   "source": [
    "# File paths\n",
    "transcript_path = './data/transcript_files/'\n",
    "wav_path = './data/wav_files/'"
   ]
  },
  {
   "cell_type": "code",
   "execution_count": 3,
   "id": "cdfc0c9c-484e-497c-95ad-4980aee157cf",
   "metadata": {},
   "outputs": [],
   "source": [
    "# File name to test on\n",
    "file_name = \"228_3.4.20_S_SC\"\n",
    "teacher_speaker_num = 2 "
   ]
  },
  {
   "cell_type": "code",
   "execution_count": 4,
   "id": "1d8ba334-e96c-4430-a8db-967c420d7387",
   "metadata": {},
   "outputs": [],
   "source": [
    "def extract_transcript_features(file_name, transcript_path, wav_path, teacher_speaker_num):\n",
    "    # Read in transcript\n",
    "    df = pd.read_csv(transcript_path + file_name + '.txt', \n",
    "                 engine = 'python', \n",
    "                 delimiter = \"                                             \",\n",
    "                 header = None)\n",
    "    df.columns = ['Speaker', 'Timestamp', 'Text']\n",
    "    \n",
    "    # Create a column that converts the timestamps to seconds\n",
    "    df['Timestamp_Secs'] = df['Timestamp'].apply(convert_time_to_seconds)\n",
    "    \n",
    "    # Create a column with pairs of timestamps\n",
    "    df['Timestamp_Pairs'] = df.apply(create_timestamp_pairs, col = 'Timestamp_Secs', df = df, axis=1)\n",
    "    \n",
    "    # Create a column that is the duration (in seconds) of talking for each row\n",
    "    df['Duration'] = df['Timestamp_Pairs'].apply(lambda x: x[1] - x[0])\n",
    "    \n",
    "    # Generate a few features from this data\n",
    "    # How many changes in speaker are there?\n",
    "    num_speaker_changes = df.shape[0]\n",
    "    \n",
    "    # What percent of the total time is the teacher speaking?\n",
    "    # First need to update final timestamp's end time\n",
    "    duration = get_total_duration(wav_path, file_name)\n",
    "    df.iloc[-1]['Timestamp_Pairs'] = (df.iloc[-1]['Timestamp_Pairs'][0], duration)\n",
    "    teacher_duration = df[df['Speaker'] == f'Speaker {teacher_speaker_num}:'].Duration.sum()\n",
    "    percent_teacher = teacher_duration/duration\n",
    "    \n",
    "    # Create a dataframe row with these features\n",
    "    df_summary = pd.DataFrame({'ID': file_name[0:3], \n",
    "                               'Num_Speaker_Changes': num_speaker_changes,\n",
    "                               'Percent_Time_Teacher': percent_teacher\n",
    "                              }, index = [0])\n",
    "    \n",
    "    return df, df_summary"
   ]
  },
  {
   "cell_type": "code",
   "execution_count": 5,
   "id": "1803dd2f-bd9b-4988-a3a9-da978eedffdf",
   "metadata": {},
   "outputs": [],
   "source": [
    "def convert_time_to_seconds(timestamp):\n",
    "    # Parse the timestamp as a datetime object\n",
    "    time_obj = datetime.strptime(timestamp, '%M:%S')\n",
    "    \n",
    "    # Convert the datetime object to a timedelta object\n",
    "    time_delta = timedelta(minutes=time_obj.minute, seconds=time_obj.second)\n",
    "    \n",
    "    # Convert the timedelta object to seconds\n",
    "    return time_delta.total_seconds()"
   ]
  },
  {
   "cell_type": "code",
   "execution_count": 6,
   "id": "c85409b8-9b27-4210-bc79-be5274471af5",
   "metadata": {},
   "outputs": [],
   "source": [
    "def create_timestamp_pairs(row, col, df):\n",
    "    # Get the index of the current row\n",
    "    index = row.name\n",
    "    \n",
    "    # Get the timestamp for the current row\n",
    "    current_timestamp = row[col]\n",
    "\n",
    "    # Check if there is a next row\n",
    "    if index < len(df) - 1:\n",
    "        # If there is, get the timestamp for the next row\n",
    "        next_timestamp = df.loc[index + 1, col]\n",
    "    else:\n",
    "        # If there isn't, use the current timestamp value as a placeholder\n",
    "        next_timestamp = current_timestamp\n",
    "\n",
    "    # Create the tuple\n",
    "    return (current_timestamp, next_timestamp)\n",
    "\n"
   ]
  },
  {
   "cell_type": "code",
   "execution_count": 7,
   "id": "c6aa6678-66d7-4199-9d59-de3353e4e92e",
   "metadata": {},
   "outputs": [],
   "source": [
    "def get_total_duration(wav_path, file_name):\n",
    "    with wave.open(wav_path + file_name + '.wav', 'rb') as wave_file:\n",
    "        # Get the number of frames and the frame rate\n",
    "        num_frames = wave_file.getnframes()\n",
    "        frame_rate = wave_file.getframerate()\n",
    "\n",
    "        # Calculate duration (in seconds)\n",
    "        duration = num_frames / float(frame_rate)\n",
    "        \n",
    "    return duration"
   ]
  },
  {
   "cell_type": "code",
   "execution_count": 8,
   "id": "6a42f29d-b705-4a64-a877-9c08483c29cd",
   "metadata": {},
   "outputs": [
    {
     "name": "stderr",
     "output_type": "stream",
     "text": [
      "<ipython-input-4-bd870b615249>:25: SettingWithCopyWarning: \n",
      "A value is trying to be set on a copy of a slice from a DataFrame\n",
      "\n",
      "See the caveats in the documentation: https://pandas.pydata.org/pandas-docs/stable/user_guide/indexing.html#returning-a-view-versus-a-copy\n",
      "  df.iloc[-1]['Timestamp_Pairs'] = (df.iloc[-1]['Timestamp_Pairs'][0], duration)\n"
     ]
    }
   ],
   "source": [
    "df, df_summary = extract_transcript_features(file_name, transcript_path, wav_path, teacher_speaker_num)"
   ]
  },
  {
   "cell_type": "code",
   "execution_count": 9,
   "id": "cfc394ce-e4dd-4990-aa2a-e817b3394481",
   "metadata": {},
   "outputs": [
    {
     "data": {
      "text/html": [
       "<div>\n",
       "<style scoped>\n",
       "    .dataframe tbody tr th:only-of-type {\n",
       "        vertical-align: middle;\n",
       "    }\n",
       "\n",
       "    .dataframe tbody tr th {\n",
       "        vertical-align: top;\n",
       "    }\n",
       "\n",
       "    .dataframe thead th {\n",
       "        text-align: right;\n",
       "    }\n",
       "</style>\n",
       "<table border=\"1\" class=\"dataframe\">\n",
       "  <thead>\n",
       "    <tr style=\"text-align: right;\">\n",
       "      <th></th>\n",
       "      <th>Speaker</th>\n",
       "      <th>Timestamp</th>\n",
       "      <th>Text</th>\n",
       "      <th>Timestamp_Secs</th>\n",
       "      <th>Timestamp_Pairs</th>\n",
       "      <th>Duration</th>\n",
       "    </tr>\n",
       "  </thead>\n",
       "  <tbody>\n",
       "    <tr>\n",
       "      <th>0</th>\n",
       "      <td>Speaker 1:</td>\n",
       "      <td>00:05</td>\n",
       "      <td>We start simulation.</td>\n",
       "      <td>5.0</td>\n",
       "      <td>(5.0, 9.0)</td>\n",
       "      <td>4.0</td>\n",
       "    </tr>\n",
       "    <tr>\n",
       "      <th>1</th>\n",
       "      <td>Speaker 2:</td>\n",
       "      <td>00:09</td>\n",
       "      <td>Hi everybody, I'm Ms. Murphy.</td>\n",
       "      <td>9.0</td>\n",
       "      <td>(9.0, 11.0)</td>\n",
       "      <td>2.0</td>\n",
       "    </tr>\n",
       "    <tr>\n",
       "      <th>2</th>\n",
       "      <td>Speaker 1:</td>\n",
       "      <td>00:11</td>\n",
       "      <td>Hey.</td>\n",
       "      <td>11.0</td>\n",
       "      <td>(11.0, 12.0)</td>\n",
       "      <td>1.0</td>\n",
       "    </tr>\n",
       "    <tr>\n",
       "      <th>3</th>\n",
       "      <td>Speaker 2:</td>\n",
       "      <td>00:12</td>\n",
       "      <td>Hi. Hi there. So I just wanted to review some ...</td>\n",
       "      <td>12.0</td>\n",
       "      <td>(12.0, 33.0)</td>\n",
       "      <td>21.0</td>\n",
       "    </tr>\n",
       "    <tr>\n",
       "      <th>4</th>\n",
       "      <td>Speaker 1:</td>\n",
       "      <td>00:33</td>\n",
       "      <td>Oh, it helps. I think everybody, um, maintain ...</td>\n",
       "      <td>33.0</td>\n",
       "      <td>(33.0, 37.0)</td>\n",
       "      <td>4.0</td>\n",
       "    </tr>\n",
       "  </tbody>\n",
       "</table>\n",
       "</div>"
      ],
      "text/plain": [
       "      Speaker Timestamp                                               Text  \\\n",
       "0  Speaker 1:     00:05                               We start simulation.   \n",
       "1  Speaker 2:     00:09                      Hi everybody, I'm Ms. Murphy.   \n",
       "2  Speaker 1:     00:11                                               Hey.   \n",
       "3  Speaker 2:     00:12  Hi. Hi there. So I just wanted to review some ...   \n",
       "4  Speaker 1:     00:33  Oh, it helps. I think everybody, um, maintain ...   \n",
       "\n",
       "   Timestamp_Secs Timestamp_Pairs  Duration  \n",
       "0             5.0      (5.0, 9.0)       4.0  \n",
       "1             9.0     (9.0, 11.0)       2.0  \n",
       "2            11.0    (11.0, 12.0)       1.0  \n",
       "3            12.0    (12.0, 33.0)      21.0  \n",
       "4            33.0    (33.0, 37.0)       4.0  "
      ]
     },
     "execution_count": 9,
     "metadata": {},
     "output_type": "execute_result"
    }
   ],
   "source": [
    "df.head()"
   ]
  },
  {
   "cell_type": "code",
   "execution_count": 10,
   "id": "37718b09-e0ea-4dba-badf-35ffef126ad1",
   "metadata": {},
   "outputs": [
    {
     "data": {
      "text/html": [
       "<div>\n",
       "<style scoped>\n",
       "    .dataframe tbody tr th:only-of-type {\n",
       "        vertical-align: middle;\n",
       "    }\n",
       "\n",
       "    .dataframe tbody tr th {\n",
       "        vertical-align: top;\n",
       "    }\n",
       "\n",
       "    .dataframe thead th {\n",
       "        text-align: right;\n",
       "    }\n",
       "</style>\n",
       "<table border=\"1\" class=\"dataframe\">\n",
       "  <thead>\n",
       "    <tr style=\"text-align: right;\">\n",
       "      <th></th>\n",
       "      <th>ID</th>\n",
       "      <th>Num_Speaker_Changes</th>\n",
       "      <th>Percent_Time_Teacher</th>\n",
       "    </tr>\n",
       "  </thead>\n",
       "  <tbody>\n",
       "    <tr>\n",
       "      <th>0</th>\n",
       "      <td>228</td>\n",
       "      <td>60</td>\n",
       "      <td>0.576387</td>\n",
       "    </tr>\n",
       "  </tbody>\n",
       "</table>\n",
       "</div>"
      ],
      "text/plain": [
       "    ID  Num_Speaker_Changes  Percent_Time_Teacher\n",
       "0  228                   60              0.576387"
      ]
     },
     "execution_count": 10,
     "metadata": {},
     "output_type": "execute_result"
    }
   ],
   "source": [
    "df_summary"
   ]
  },
  {
   "cell_type": "code",
   "execution_count": null,
   "id": "b56b821b-918c-43d6-85af-591dfb768117",
   "metadata": {},
   "outputs": [],
   "source": []
  },
  {
   "cell_type": "code",
   "execution_count": null,
   "id": "db0f98af-f561-4cf0-96d7-578473c0af0c",
   "metadata": {},
   "outputs": [],
   "source": []
  },
  {
   "cell_type": "code",
   "execution_count": null,
   "id": "c313f932-f327-4ee9-a08f-8229f124d7f4",
   "metadata": {},
   "outputs": [],
   "source": []
  },
  {
   "cell_type": "code",
   "execution_count": null,
   "id": "732c84c7-02dd-4143-98a7-106e5de7ca05",
   "metadata": {},
   "outputs": [],
   "source": []
  }
 ],
 "metadata": {
  "kernelspec": {
   "display_name": "Python 3",
   "language": "python",
   "name": "python3"
  },
  "language_info": {
   "codemirror_mode": {
    "name": "ipython",
    "version": 3
   },
   "file_extension": ".py",
   "mimetype": "text/x-python",
   "name": "python",
   "nbconvert_exporter": "python",
   "pygments_lexer": "ipython3",
   "version": "3.8.8"
  }
 },
 "nbformat": 4,
 "nbformat_minor": 5
}
