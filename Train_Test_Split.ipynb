{
 "cells": [
  {
   "cell_type": "markdown",
   "id": "b5ab7458-1bf9-4e83-90b0-a9fae0713b54",
   "metadata": {},
   "source": [
    "# Split Data into Train and Test\n",
    "\n",
    "Randomly select 30% of the participants to keep as a holdout sample. We will perform our analysis and model training on the training 70% and then can use the holdout data to see whether our findings generalize well to unseen data. The code below was used to generate this random split. We've chosen to stratify our sample by both the response column (mindfulness), but also the study year (200s versus 300s) to have approximately the same number of treatment/control and 200s/300s participants in the training and test sample. We will use the lookup table with the holdout indicator generated here to split our data in our other analysis to ensure we're always using the same participants for our holdour set."
   ]
  },
  {
   "cell_type": "code",
   "execution_count": null,
   "id": "fbdfcff1-44bc-4158-a882-65960d154481",
   "metadata": {},
   "outputs": [],
   "source": [
    "import pandas as pd\n",
    "import numpy as np\n",
    "from sklearn.model_selection import train_test_split\n"
   ]
  },
  {
   "cell_type": "code",
   "execution_count": 10,
   "id": "8729fb92-5b12-41c9-baee-0bbbc9b998ec",
   "metadata": {},
   "outputs": [
    {
     "data": {
      "text/html": [
       "<div>\n",
       "<style scoped>\n",
       "    .dataframe tbody tr th:only-of-type {\n",
       "        vertical-align: middle;\n",
       "    }\n",
       "\n",
       "    .dataframe tbody tr th {\n",
       "        vertical-align: top;\n",
       "    }\n",
       "\n",
       "    .dataframe thead th {\n",
       "        text-align: right;\n",
       "    }\n",
       "</style>\n",
       "<table border=\"1\" class=\"dataframe\">\n",
       "  <thead>\n",
       "    <tr style=\"text-align: right;\">\n",
       "      <th></th>\n",
       "      <th>studyid</th>\n",
       "      <th>mindfulness</th>\n",
       "    </tr>\n",
       "  </thead>\n",
       "  <tbody>\n",
       "    <tr>\n",
       "      <th>0</th>\n",
       "      <td>201</td>\n",
       "      <td>1</td>\n",
       "    </tr>\n",
       "    <tr>\n",
       "      <th>1</th>\n",
       "      <td>202</td>\n",
       "      <td>0</td>\n",
       "    </tr>\n",
       "    <tr>\n",
       "      <th>2</th>\n",
       "      <td>203</td>\n",
       "      <td>1</td>\n",
       "    </tr>\n",
       "    <tr>\n",
       "      <th>3</th>\n",
       "      <td>204</td>\n",
       "      <td>0</td>\n",
       "    </tr>\n",
       "    <tr>\n",
       "      <th>4</th>\n",
       "      <td>205</td>\n",
       "      <td>1</td>\n",
       "    </tr>\n",
       "  </tbody>\n",
       "</table>\n",
       "</div>"
      ],
      "text/plain": [
       "   studyid  mindfulness\n",
       "0      201            1\n",
       "1      202            0\n",
       "2      203            1\n",
       "3      204            0\n",
       "4      205            1"
      ]
     },
     "execution_count": 10,
     "metadata": {},
     "output_type": "execute_result"
    }
   ],
   "source": [
    "# Read in survey data\n",
    "df = pd.read_csv('survey data.csv',\n",
    "                 usecols = ['studyid', 'mindfulness'])\n",
    "df.head()\n"
   ]
  },
  {
   "cell_type": "code",
   "execution_count": 11,
   "id": "7895c820-d6f2-499a-a5f5-23c833e8e9d0",
   "metadata": {},
   "outputs": [],
   "source": [
    "# Add indicator for 200s vs 300s\n",
    "df['300s'] = np.where(df['studyid']>=300, 1, 0)"
   ]
  },
  {
   "cell_type": "code",
   "execution_count": 33,
   "id": "b5e1945c-de39-4136-8569-fafe51ecb100",
   "metadata": {},
   "outputs": [],
   "source": [
    "# Split data into train and test\n",
    "# Stratify using mindfulness and 300s indicator\n",
    "train, test = train_test_split(df, test_size=0.3, random_state=0, \n",
    "                               stratify=df[['mindfulness', '300s']])\n"
   ]
  },
  {
   "cell_type": "code",
   "execution_count": 43,
   "id": "b79c6c0f-9138-4585-a096-df7817d3a547",
   "metadata": {},
   "outputs": [],
   "source": [
    "# Create indicator for sample being in holdout or not\n",
    "test['holdout'] = 1\n",
    "train['holdout'] = 0"
   ]
  },
  {
   "cell_type": "code",
   "execution_count": 44,
   "id": "e2cfd63b-c7ba-4614-af42-14491f35e567",
   "metadata": {},
   "outputs": [],
   "source": [
    "# Append train and test data back togehter\n",
    "df = pd.concat([train, test], axis = 0)\n"
   ]
  },
  {
   "cell_type": "code",
   "execution_count": 45,
   "id": "1857e0ed-84e4-4aba-bfca-86e06afd6edc",
   "metadata": {},
   "outputs": [
    {
     "data": {
      "text/html": [
       "<div>\n",
       "<style scoped>\n",
       "    .dataframe tbody tr th:only-of-type {\n",
       "        vertical-align: middle;\n",
       "    }\n",
       "\n",
       "    .dataframe tbody tr th {\n",
       "        vertical-align: top;\n",
       "    }\n",
       "\n",
       "    .dataframe thead th {\n",
       "        text-align: right;\n",
       "    }\n",
       "</style>\n",
       "<table border=\"1\" class=\"dataframe\">\n",
       "  <thead>\n",
       "    <tr style=\"text-align: right;\">\n",
       "      <th></th>\n",
       "      <th>studyid</th>\n",
       "      <th>mindfulness</th>\n",
       "      <th>300s</th>\n",
       "      <th>holdout</th>\n",
       "    </tr>\n",
       "  </thead>\n",
       "  <tbody>\n",
       "    <tr>\n",
       "      <th>77</th>\n",
       "      <td>349</td>\n",
       "      <td>1</td>\n",
       "      <td>1</td>\n",
       "      <td>0</td>\n",
       "    </tr>\n",
       "    <tr>\n",
       "      <th>42</th>\n",
       "      <td>314</td>\n",
       "      <td>1</td>\n",
       "      <td>1</td>\n",
       "      <td>0</td>\n",
       "    </tr>\n",
       "    <tr>\n",
       "      <th>22</th>\n",
       "      <td>223</td>\n",
       "      <td>1</td>\n",
       "      <td>0</td>\n",
       "      <td>0</td>\n",
       "    </tr>\n",
       "    <tr>\n",
       "      <th>6</th>\n",
       "      <td>207</td>\n",
       "      <td>0</td>\n",
       "      <td>0</td>\n",
       "      <td>0</td>\n",
       "    </tr>\n",
       "    <tr>\n",
       "      <th>61</th>\n",
       "      <td>333</td>\n",
       "      <td>0</td>\n",
       "      <td>1</td>\n",
       "      <td>0</td>\n",
       "    </tr>\n",
       "    <tr>\n",
       "      <th>...</th>\n",
       "      <td>...</td>\n",
       "      <td>...</td>\n",
       "      <td>...</td>\n",
       "      <td>...</td>\n",
       "    </tr>\n",
       "    <tr>\n",
       "      <th>63</th>\n",
       "      <td>335</td>\n",
       "      <td>1</td>\n",
       "      <td>1</td>\n",
       "      <td>1</td>\n",
       "    </tr>\n",
       "    <tr>\n",
       "      <th>8</th>\n",
       "      <td>209</td>\n",
       "      <td>1</td>\n",
       "      <td>0</td>\n",
       "      <td>1</td>\n",
       "    </tr>\n",
       "    <tr>\n",
       "      <th>16</th>\n",
       "      <td>217</td>\n",
       "      <td>0</td>\n",
       "      <td>0</td>\n",
       "      <td>1</td>\n",
       "    </tr>\n",
       "    <tr>\n",
       "      <th>24</th>\n",
       "      <td>225</td>\n",
       "      <td>0</td>\n",
       "      <td>0</td>\n",
       "      <td>1</td>\n",
       "    </tr>\n",
       "    <tr>\n",
       "      <th>56</th>\n",
       "      <td>328</td>\n",
       "      <td>0</td>\n",
       "      <td>1</td>\n",
       "      <td>1</td>\n",
       "    </tr>\n",
       "  </tbody>\n",
       "</table>\n",
       "<p>89 rows × 4 columns</p>\n",
       "</div>"
      ],
      "text/plain": [
       "    studyid  mindfulness  300s  holdout\n",
       "77      349            1     1        0\n",
       "42      314            1     1        0\n",
       "22      223            1     0        0\n",
       "6       207            0     0        0\n",
       "61      333            0     1        0\n",
       "..      ...          ...   ...      ...\n",
       "63      335            1     1        1\n",
       "8       209            1     0        1\n",
       "16      217            0     0        1\n",
       "24      225            0     0        1\n",
       "56      328            0     1        1\n",
       "\n",
       "[89 rows x 4 columns]"
      ]
     },
     "execution_count": 45,
     "metadata": {},
     "output_type": "execute_result"
    }
   ],
   "source": [
    "df"
   ]
  },
  {
   "cell_type": "code",
   "execution_count": 46,
   "id": "75ee5f47-2e93-418f-8f49-b2cbaf54b3bb",
   "metadata": {},
   "outputs": [],
   "source": [
    "df.to_csv('holdout_samples_lookup.csv', index = False)"
   ]
  },
  {
   "cell_type": "code",
   "execution_count": null,
   "id": "7cb1d14c-c7e1-47cb-8500-cfbeb3cfb54b",
   "metadata": {},
   "outputs": [],
   "source": []
  }
 ],
 "metadata": {
  "kernelspec": {
   "display_name": "Python 3",
   "language": "python",
   "name": "python3"
  },
  "language_info": {
   "codemirror_mode": {
    "name": "ipython",
    "version": 3
   },
   "file_extension": ".py",
   "mimetype": "text/x-python",
   "name": "python",
   "nbconvert_exporter": "python",
   "pygments_lexer": "ipython3",
   "version": "3.8.8"
  }
 },
 "nbformat": 4,
 "nbformat_minor": 5
}
