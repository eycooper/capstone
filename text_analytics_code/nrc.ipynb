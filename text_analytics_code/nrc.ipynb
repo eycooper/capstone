{
 "cells": [
  {
   "cell_type": "code",
   "execution_count": 1,
   "id": "34e12543-65d7-4654-88b8-10b2abdd5aff",
   "metadata": {},
   "outputs": [],
   "source": [
    "import pandas as pd\n",
    "import numpy as np\n",
    "from glob2 import glob\n",
    "from sklearn.decomposition import PCA\n",
    "from scipy.linalg import norm \n",
    "import plotly_express as px\n",
    "import seaborn as sns\n",
    "sns.set(style = 'ticks')\n",
    "%matplotlib inline\n",
    "import os \n",
    "os.chdir('/Users/gracelyons/Desktop/MSDS/Capstone/')"
   ]
  },
  {
   "cell_type": "markdown",
   "id": "54f017b5-df30-48bf-a285-bfc4b5ba9e29",
   "metadata": {
    "tags": []
   },
   "source": [
    "## NRC"
   ]
  },
  {
   "cell_type": "code",
   "execution_count": 2,
   "id": "a6c3d306-06eb-4e3a-8a10-b831f2818e64",
   "metadata": {},
   "outputs": [],
   "source": [
    "nrc = pd.read_csv('NRC.csv')"
   ]
  },
  {
   "cell_type": "code",
   "execution_count": 3,
   "id": "b1558172-7877-4b1e-8db4-e12bdacf93fa",
   "metadata": {},
   "outputs": [
    {
     "data": {
      "text/html": [
       "<div>\n",
       "<style scoped>\n",
       "    .dataframe tbody tr th:only-of-type {\n",
       "        vertical-align: middle;\n",
       "    }\n",
       "\n",
       "    .dataframe tbody tr th {\n",
       "        vertical-align: top;\n",
       "    }\n",
       "\n",
       "    .dataframe thead th {\n",
       "        text-align: right;\n",
       "    }\n",
       "</style>\n",
       "<table border=\"1\" class=\"dataframe\">\n",
       "  <thead>\n",
       "    <tr style=\"text-align: right;\">\n",
       "      <th></th>\n",
       "      <th>word</th>\n",
       "      <th>sentiment</th>\n",
       "    </tr>\n",
       "  </thead>\n",
       "  <tbody>\n",
       "    <tr>\n",
       "      <th>0</th>\n",
       "      <td>abacus</td>\n",
       "      <td>trust</td>\n",
       "    </tr>\n",
       "    <tr>\n",
       "      <th>1</th>\n",
       "      <td>abandon</td>\n",
       "      <td>fear</td>\n",
       "    </tr>\n",
       "    <tr>\n",
       "      <th>2</th>\n",
       "      <td>abandon</td>\n",
       "      <td>negative</td>\n",
       "    </tr>\n",
       "    <tr>\n",
       "      <th>3</th>\n",
       "      <td>abandon</td>\n",
       "      <td>sadness</td>\n",
       "    </tr>\n",
       "    <tr>\n",
       "      <th>4</th>\n",
       "      <td>abandoned</td>\n",
       "      <td>anger</td>\n",
       "    </tr>\n",
       "  </tbody>\n",
       "</table>\n",
       "</div>"
      ],
      "text/plain": [
       "        word sentiment\n",
       "0     abacus     trust\n",
       "1    abandon      fear\n",
       "2    abandon  negative\n",
       "3    abandon   sadness\n",
       "4  abandoned     anger"
      ]
     },
     "execution_count": 3,
     "metadata": {},
     "output_type": "execute_result"
    }
   ],
   "source": [
    "nrc.head()"
   ]
  },
  {
   "cell_type": "code",
   "execution_count": 4,
   "id": "b1f27362-6f04-4e63-853d-e6637d26c663",
   "metadata": {},
   "outputs": [],
   "source": [
    "sentiments = nrc.sentiment.unique()"
   ]
  },
  {
   "cell_type": "code",
   "execution_count": 5,
   "id": "2d3f69dc-52b9-4fc7-a462-20c00315474d",
   "metadata": {
    "tags": []
   },
   "outputs": [],
   "source": [
    "d = {}\n",
    "for sent in sentiments:\n",
    "    d[f\"df_{sent}\"] = nrc[nrc.sentiment == sent].reset_index().drop('index', axis = 1)\n",
    "#d   "
   ]
  },
  {
   "cell_type": "code",
   "execution_count": 6,
   "id": "389b10ca-b79b-471a-a600-519125879f21",
   "metadata": {},
   "outputs": [
    {
     "data": {
      "text/html": [
       "<div>\n",
       "<style scoped>\n",
       "    .dataframe tbody tr th:only-of-type {\n",
       "        vertical-align: middle;\n",
       "    }\n",
       "\n",
       "    .dataframe tbody tr th {\n",
       "        vertical-align: top;\n",
       "    }\n",
       "\n",
       "    .dataframe thead th {\n",
       "        text-align: right;\n",
       "    }\n",
       "</style>\n",
       "<table border=\"1\" class=\"dataframe\">\n",
       "  <thead>\n",
       "    <tr style=\"text-align: right;\">\n",
       "      <th></th>\n",
       "      <th>word</th>\n",
       "      <th>sentiment</th>\n",
       "    </tr>\n",
       "  </thead>\n",
       "  <tbody>\n",
       "    <tr>\n",
       "      <th>0</th>\n",
       "      <td>abacus</td>\n",
       "      <td>trust</td>\n",
       "    </tr>\n",
       "    <tr>\n",
       "      <th>1</th>\n",
       "      <td>abbot</td>\n",
       "      <td>trust</td>\n",
       "    </tr>\n",
       "    <tr>\n",
       "      <th>2</th>\n",
       "      <td>absolution</td>\n",
       "      <td>trust</td>\n",
       "    </tr>\n",
       "    <tr>\n",
       "      <th>3</th>\n",
       "      <td>abundance</td>\n",
       "      <td>trust</td>\n",
       "    </tr>\n",
       "    <tr>\n",
       "      <th>4</th>\n",
       "      <td>academic</td>\n",
       "      <td>trust</td>\n",
       "    </tr>\n",
       "  </tbody>\n",
       "</table>\n",
       "</div>"
      ],
      "text/plain": [
       "         word sentiment\n",
       "0      abacus     trust\n",
       "1       abbot     trust\n",
       "2  absolution     trust\n",
       "3   abundance     trust\n",
       "4    academic     trust"
      ]
     },
     "execution_count": 6,
     "metadata": {},
     "output_type": "execute_result"
    }
   ],
   "source": [
    "d['df_trust'].head()"
   ]
  },
  {
   "cell_type": "code",
   "execution_count": 8,
   "id": "676b8bd2-7715-402c-8cba-57dce7caf470",
   "metadata": {},
   "outputs": [],
   "source": [
    "token = pd.read_csv('output files/TOKEN.csv')"
   ]
  },
  {
   "cell_type": "code",
   "execution_count": 9,
   "id": "f8f68c68-8b43-4c62-b83c-389d4e4f7c6c",
   "metadata": {},
   "outputs": [
    {
     "data": {
      "text/html": [
       "<div>\n",
       "<style scoped>\n",
       "    .dataframe tbody tr th:only-of-type {\n",
       "        vertical-align: middle;\n",
       "    }\n",
       "\n",
       "    .dataframe tbody tr th {\n",
       "        vertical-align: top;\n",
       "    }\n",
       "\n",
       "    .dataframe thead th {\n",
       "        text-align: right;\n",
       "    }\n",
       "</style>\n",
       "<table border=\"1\" class=\"dataframe\">\n",
       "  <thead>\n",
       "    <tr style=\"text-align: right;\">\n",
       "      <th></th>\n",
       "      <th>speaker_id</th>\n",
       "      <th>line_num</th>\n",
       "      <th>sent_num</th>\n",
       "      <th>token_num</th>\n",
       "      <th>pos_tuple</th>\n",
       "      <th>pos</th>\n",
       "      <th>token_str</th>\n",
       "      <th>term_str</th>\n",
       "      <th>term_id</th>\n",
       "    </tr>\n",
       "  </thead>\n",
       "  <tbody>\n",
       "    <tr>\n",
       "      <th>0</th>\n",
       "      <td>201</td>\n",
       "      <td>1</td>\n",
       "      <td>0</td>\n",
       "      <td>0</td>\n",
       "      <td>('Good', 'JJ')</td>\n",
       "      <td>JJ</td>\n",
       "      <td>Good</td>\n",
       "      <td>good</td>\n",
       "      <td>542</td>\n",
       "    </tr>\n",
       "    <tr>\n",
       "      <th>1</th>\n",
       "      <td>201</td>\n",
       "      <td>1</td>\n",
       "      <td>0</td>\n",
       "      <td>1</td>\n",
       "      <td>('morning', 'NN')</td>\n",
       "      <td>NN</td>\n",
       "      <td>morning</td>\n",
       "      <td>morning</td>\n",
       "      <td>828</td>\n",
       "    </tr>\n",
       "    <tr>\n",
       "      <th>2</th>\n",
       "      <td>201</td>\n",
       "      <td>1</td>\n",
       "      <td>0</td>\n",
       "      <td>2</td>\n",
       "      <td>('class', 'NN')</td>\n",
       "      <td>NN</td>\n",
       "      <td>class</td>\n",
       "      <td>class</td>\n",
       "      <td>231</td>\n",
       "    </tr>\n",
       "    <tr>\n",
       "      <th>3</th>\n",
       "      <td>201</td>\n",
       "      <td>1</td>\n",
       "      <td>1</td>\n",
       "      <td>0</td>\n",
       "      <td>('I', 'PRP')</td>\n",
       "      <td>PRP</td>\n",
       "      <td>I</td>\n",
       "      <td>i</td>\n",
       "      <td>621</td>\n",
       "    </tr>\n",
       "    <tr>\n",
       "      <th>4</th>\n",
       "      <td>201</td>\n",
       "      <td>1</td>\n",
       "      <td>1</td>\n",
       "      <td>1</td>\n",
       "      <td>(\"'m\", 'VBP')</td>\n",
       "      <td>VBP</td>\n",
       "      <td>'m</td>\n",
       "      <td>m</td>\n",
       "      <td>764</td>\n",
       "    </tr>\n",
       "  </tbody>\n",
       "</table>\n",
       "</div>"
      ],
      "text/plain": [
       "   speaker_id  line_num  sent_num  token_num          pos_tuple  pos  \\\n",
       "0         201         1         0          0     ('Good', 'JJ')   JJ   \n",
       "1         201         1         0          1  ('morning', 'NN')   NN   \n",
       "2         201         1         0          2    ('class', 'NN')   NN   \n",
       "3         201         1         1          0       ('I', 'PRP')  PRP   \n",
       "4         201         1         1          1      (\"'m\", 'VBP')  VBP   \n",
       "\n",
       "  token_str term_str  term_id  \n",
       "0      Good     good      542  \n",
       "1   morning  morning      828  \n",
       "2     class    class      231  \n",
       "3         I        i      621  \n",
       "4        'm        m      764  "
      ]
     },
     "execution_count": 9,
     "metadata": {},
     "output_type": "execute_result"
    }
   ],
   "source": [
    "token.head()"
   ]
  },
  {
   "cell_type": "code",
   "execution_count": 10,
   "id": "bce3ffe0-6758-409e-9177-04c1f42197c4",
   "metadata": {},
   "outputs": [
    {
     "data": {
      "text/html": [
       "<div>\n",
       "<style scoped>\n",
       "    .dataframe tbody tr th:only-of-type {\n",
       "        vertical-align: middle;\n",
       "    }\n",
       "\n",
       "    .dataframe tbody tr th {\n",
       "        vertical-align: top;\n",
       "    }\n",
       "\n",
       "    .dataframe thead th {\n",
       "        text-align: right;\n",
       "    }\n",
       "</style>\n",
       "<table border=\"1\" class=\"dataframe\">\n",
       "  <thead>\n",
       "    <tr style=\"text-align: right;\">\n",
       "      <th></th>\n",
       "      <th>speaker_id</th>\n",
       "      <th>line_num</th>\n",
       "      <th>sent_num</th>\n",
       "      <th>token_num</th>\n",
       "      <th>pos_tuple</th>\n",
       "      <th>pos</th>\n",
       "      <th>token_str</th>\n",
       "      <th>term_str</th>\n",
       "      <th>term_id</th>\n",
       "      <th>trust</th>\n",
       "      <th>fear</th>\n",
       "      <th>negative</th>\n",
       "      <th>sadness</th>\n",
       "      <th>anger</th>\n",
       "      <th>surprise</th>\n",
       "      <th>positive</th>\n",
       "      <th>disgust</th>\n",
       "      <th>joy</th>\n",
       "      <th>anticipation</th>\n",
       "    </tr>\n",
       "  </thead>\n",
       "  <tbody>\n",
       "    <tr>\n",
       "      <th>0</th>\n",
       "      <td>201</td>\n",
       "      <td>1</td>\n",
       "      <td>0</td>\n",
       "      <td>0</td>\n",
       "      <td>('Good', 'JJ')</td>\n",
       "      <td>JJ</td>\n",
       "      <td>Good</td>\n",
       "      <td>good</td>\n",
       "      <td>542</td>\n",
       "      <td>1</td>\n",
       "      <td>0</td>\n",
       "      <td>0</td>\n",
       "      <td>0</td>\n",
       "      <td>0</td>\n",
       "      <td>1</td>\n",
       "      <td>1</td>\n",
       "      <td>0</td>\n",
       "      <td>1</td>\n",
       "      <td>1</td>\n",
       "    </tr>\n",
       "    <tr>\n",
       "      <th>1</th>\n",
       "      <td>201</td>\n",
       "      <td>1</td>\n",
       "      <td>0</td>\n",
       "      <td>1</td>\n",
       "      <td>('morning', 'NN')</td>\n",
       "      <td>NN</td>\n",
       "      <td>morning</td>\n",
       "      <td>morning</td>\n",
       "      <td>828</td>\n",
       "      <td>0</td>\n",
       "      <td>0</td>\n",
       "      <td>0</td>\n",
       "      <td>0</td>\n",
       "      <td>0</td>\n",
       "      <td>0</td>\n",
       "      <td>0</td>\n",
       "      <td>0</td>\n",
       "      <td>0</td>\n",
       "      <td>0</td>\n",
       "    </tr>\n",
       "    <tr>\n",
       "      <th>2</th>\n",
       "      <td>201</td>\n",
       "      <td>1</td>\n",
       "      <td>0</td>\n",
       "      <td>2</td>\n",
       "      <td>('class', 'NN')</td>\n",
       "      <td>NN</td>\n",
       "      <td>class</td>\n",
       "      <td>class</td>\n",
       "      <td>231</td>\n",
       "      <td>0</td>\n",
       "      <td>0</td>\n",
       "      <td>0</td>\n",
       "      <td>0</td>\n",
       "      <td>0</td>\n",
       "      <td>0</td>\n",
       "      <td>0</td>\n",
       "      <td>0</td>\n",
       "      <td>0</td>\n",
       "      <td>0</td>\n",
       "    </tr>\n",
       "    <tr>\n",
       "      <th>3</th>\n",
       "      <td>201</td>\n",
       "      <td>1</td>\n",
       "      <td>1</td>\n",
       "      <td>0</td>\n",
       "      <td>('I', 'PRP')</td>\n",
       "      <td>PRP</td>\n",
       "      <td>I</td>\n",
       "      <td>i</td>\n",
       "      <td>621</td>\n",
       "      <td>0</td>\n",
       "      <td>0</td>\n",
       "      <td>0</td>\n",
       "      <td>0</td>\n",
       "      <td>0</td>\n",
       "      <td>0</td>\n",
       "      <td>0</td>\n",
       "      <td>0</td>\n",
       "      <td>0</td>\n",
       "      <td>0</td>\n",
       "    </tr>\n",
       "    <tr>\n",
       "      <th>4</th>\n",
       "      <td>201</td>\n",
       "      <td>1</td>\n",
       "      <td>1</td>\n",
       "      <td>1</td>\n",
       "      <td>(\"'m\", 'VBP')</td>\n",
       "      <td>VBP</td>\n",
       "      <td>'m</td>\n",
       "      <td>m</td>\n",
       "      <td>764</td>\n",
       "      <td>0</td>\n",
       "      <td>0</td>\n",
       "      <td>0</td>\n",
       "      <td>0</td>\n",
       "      <td>0</td>\n",
       "      <td>0</td>\n",
       "      <td>0</td>\n",
       "      <td>0</td>\n",
       "      <td>0</td>\n",
       "      <td>0</td>\n",
       "    </tr>\n",
       "  </tbody>\n",
       "</table>\n",
       "</div>"
      ],
      "text/plain": [
       "   speaker_id  line_num  sent_num  token_num          pos_tuple  pos  \\\n",
       "0         201         1         0          0     ('Good', 'JJ')   JJ   \n",
       "1         201         1         0          1  ('morning', 'NN')   NN   \n",
       "2         201         1         0          2    ('class', 'NN')   NN   \n",
       "3         201         1         1          0       ('I', 'PRP')  PRP   \n",
       "4         201         1         1          1      (\"'m\", 'VBP')  VBP   \n",
       "\n",
       "  token_str term_str  term_id  trust  fear  negative  sadness  anger  \\\n",
       "0      Good     good      542      1     0         0        0      0   \n",
       "1   morning  morning      828      0     0         0        0      0   \n",
       "2     class    class      231      0     0         0        0      0   \n",
       "3         I        i      621      0     0         0        0      0   \n",
       "4        'm        m      764      0     0         0        0      0   \n",
       "\n",
       "   surprise  positive  disgust  joy  anticipation  \n",
       "0         1         1        0    1             1  \n",
       "1         0         0        0    0             0  \n",
       "2         0         0        0    0             0  \n",
       "3         0         0        0    0             0  \n",
       "4         0         0        0    0             0  "
      ]
     },
     "execution_count": 10,
     "metadata": {},
     "output_type": "execute_result"
    }
   ],
   "source": [
    "for sent in sentiments:\n",
    "    token[sent] = token.apply(lambda x: 1 if x.term_str in d[f\"df_{sent}\"].word.values else 0, axis = 1)\n",
    "    \n",
    "token.head()"
   ]
  },
  {
   "cell_type": "code",
   "execution_count": 11,
   "id": "bc2ef5be-64f4-44e7-ba0f-060ed93c873a",
   "metadata": {},
   "outputs": [],
   "source": [
    "token_grouped = token.groupby('speaker_id').sum().reset_index().drop(['line_num', 'sent_num', 'token_num', 'term_id'], axis = 1)"
   ]
  },
  {
   "cell_type": "code",
   "execution_count": 12,
   "id": "9f0e91d2-0af1-4722-bff0-ff42331a8e5c",
   "metadata": {},
   "outputs": [
    {
     "data": {
      "text/html": [
       "<div>\n",
       "<style scoped>\n",
       "    .dataframe tbody tr th:only-of-type {\n",
       "        vertical-align: middle;\n",
       "    }\n",
       "\n",
       "    .dataframe tbody tr th {\n",
       "        vertical-align: top;\n",
       "    }\n",
       "\n",
       "    .dataframe thead th {\n",
       "        text-align: right;\n",
       "    }\n",
       "</style>\n",
       "<table border=\"1\" class=\"dataframe\">\n",
       "  <thead>\n",
       "    <tr style=\"text-align: right;\">\n",
       "      <th></th>\n",
       "      <th>speaker_id</th>\n",
       "      <th>trust</th>\n",
       "      <th>fear</th>\n",
       "      <th>negative</th>\n",
       "      <th>sadness</th>\n",
       "      <th>anger</th>\n",
       "      <th>surprise</th>\n",
       "      <th>positive</th>\n",
       "      <th>disgust</th>\n",
       "      <th>joy</th>\n",
       "      <th>anticipation</th>\n",
       "    </tr>\n",
       "  </thead>\n",
       "  <tbody>\n",
       "    <tr>\n",
       "      <th>0</th>\n",
       "      <td>201</td>\n",
       "      <td>19</td>\n",
       "      <td>4</td>\n",
       "      <td>14</td>\n",
       "      <td>4</td>\n",
       "      <td>2</td>\n",
       "      <td>6</td>\n",
       "      <td>30</td>\n",
       "      <td>1</td>\n",
       "      <td>17</td>\n",
       "      <td>18</td>\n",
       "    </tr>\n",
       "    <tr>\n",
       "      <th>1</th>\n",
       "      <td>202</td>\n",
       "      <td>21</td>\n",
       "      <td>0</td>\n",
       "      <td>1</td>\n",
       "      <td>0</td>\n",
       "      <td>0</td>\n",
       "      <td>3</td>\n",
       "      <td>32</td>\n",
       "      <td>0</td>\n",
       "      <td>10</td>\n",
       "      <td>13</td>\n",
       "    </tr>\n",
       "    <tr>\n",
       "      <th>2</th>\n",
       "      <td>203</td>\n",
       "      <td>28</td>\n",
       "      <td>2</td>\n",
       "      <td>4</td>\n",
       "      <td>6</td>\n",
       "      <td>1</td>\n",
       "      <td>0</td>\n",
       "      <td>47</td>\n",
       "      <td>1</td>\n",
       "      <td>3</td>\n",
       "      <td>8</td>\n",
       "    </tr>\n",
       "    <tr>\n",
       "      <th>3</th>\n",
       "      <td>204</td>\n",
       "      <td>17</td>\n",
       "      <td>3</td>\n",
       "      <td>6</td>\n",
       "      <td>4</td>\n",
       "      <td>0</td>\n",
       "      <td>4</td>\n",
       "      <td>27</td>\n",
       "      <td>0</td>\n",
       "      <td>10</td>\n",
       "      <td>16</td>\n",
       "    </tr>\n",
       "    <tr>\n",
       "      <th>4</th>\n",
       "      <td>205</td>\n",
       "      <td>17</td>\n",
       "      <td>1</td>\n",
       "      <td>0</td>\n",
       "      <td>0</td>\n",
       "      <td>0</td>\n",
       "      <td>4</td>\n",
       "      <td>33</td>\n",
       "      <td>0</td>\n",
       "      <td>11</td>\n",
       "      <td>10</td>\n",
       "    </tr>\n",
       "  </tbody>\n",
       "</table>\n",
       "</div>"
      ],
      "text/plain": [
       "   speaker_id  trust  fear  negative  sadness  anger  surprise  positive  \\\n",
       "0         201     19     4        14        4      2         6        30   \n",
       "1         202     21     0         1        0      0         3        32   \n",
       "2         203     28     2         4        6      1         0        47   \n",
       "3         204     17     3         6        4      0         4        27   \n",
       "4         205     17     1         0        0      0         4        33   \n",
       "\n",
       "   disgust  joy  anticipation  \n",
       "0        1   17            18  \n",
       "1        0   10            13  \n",
       "2        1    3             8  \n",
       "3        0   10            16  \n",
       "4        0   11            10  "
      ]
     },
     "execution_count": 12,
     "metadata": {},
     "output_type": "execute_result"
    }
   ],
   "source": [
    "token_grouped.head()"
   ]
  },
  {
   "cell_type": "code",
   "execution_count": 13,
   "id": "6658c34e-1bac-406c-816f-17ee12f7418c",
   "metadata": {},
   "outputs": [],
   "source": [
    "lengths = token.groupby('speaker_id').size().values"
   ]
  },
  {
   "cell_type": "code",
   "execution_count": 14,
   "id": "db0ab6b9-73c8-4467-af57-b31a389f835d",
   "metadata": {},
   "outputs": [],
   "source": [
    "token_grouped['length'] = lengths"
   ]
  },
  {
   "cell_type": "code",
   "execution_count": 15,
   "id": "b2b90c36-a167-49ce-a47a-2025e49ca3c8",
   "metadata": {},
   "outputs": [
    {
     "data": {
      "text/html": [
       "<div>\n",
       "<style scoped>\n",
       "    .dataframe tbody tr th:only-of-type {\n",
       "        vertical-align: middle;\n",
       "    }\n",
       "\n",
       "    .dataframe tbody tr th {\n",
       "        vertical-align: top;\n",
       "    }\n",
       "\n",
       "    .dataframe thead th {\n",
       "        text-align: right;\n",
       "    }\n",
       "</style>\n",
       "<table border=\"1\" class=\"dataframe\">\n",
       "  <thead>\n",
       "    <tr style=\"text-align: right;\">\n",
       "      <th></th>\n",
       "      <th>speaker_id</th>\n",
       "      <th>trust</th>\n",
       "      <th>fear</th>\n",
       "      <th>negative</th>\n",
       "      <th>sadness</th>\n",
       "      <th>anger</th>\n",
       "      <th>surprise</th>\n",
       "      <th>positive</th>\n",
       "      <th>disgust</th>\n",
       "      <th>joy</th>\n",
       "      <th>anticipation</th>\n",
       "      <th>length</th>\n",
       "    </tr>\n",
       "  </thead>\n",
       "  <tbody>\n",
       "    <tr>\n",
       "      <th>0</th>\n",
       "      <td>201</td>\n",
       "      <td>19</td>\n",
       "      <td>4</td>\n",
       "      <td>14</td>\n",
       "      <td>4</td>\n",
       "      <td>2</td>\n",
       "      <td>6</td>\n",
       "      <td>30</td>\n",
       "      <td>1</td>\n",
       "      <td>17</td>\n",
       "      <td>18</td>\n",
       "      <td>514</td>\n",
       "    </tr>\n",
       "    <tr>\n",
       "      <th>1</th>\n",
       "      <td>202</td>\n",
       "      <td>21</td>\n",
       "      <td>0</td>\n",
       "      <td>1</td>\n",
       "      <td>0</td>\n",
       "      <td>0</td>\n",
       "      <td>3</td>\n",
       "      <td>32</td>\n",
       "      <td>0</td>\n",
       "      <td>10</td>\n",
       "      <td>13</td>\n",
       "      <td>673</td>\n",
       "    </tr>\n",
       "    <tr>\n",
       "      <th>2</th>\n",
       "      <td>203</td>\n",
       "      <td>28</td>\n",
       "      <td>2</td>\n",
       "      <td>4</td>\n",
       "      <td>6</td>\n",
       "      <td>1</td>\n",
       "      <td>0</td>\n",
       "      <td>47</td>\n",
       "      <td>1</td>\n",
       "      <td>3</td>\n",
       "      <td>8</td>\n",
       "      <td>673</td>\n",
       "    </tr>\n",
       "    <tr>\n",
       "      <th>3</th>\n",
       "      <td>204</td>\n",
       "      <td>17</td>\n",
       "      <td>3</td>\n",
       "      <td>6</td>\n",
       "      <td>4</td>\n",
       "      <td>0</td>\n",
       "      <td>4</td>\n",
       "      <td>27</td>\n",
       "      <td>0</td>\n",
       "      <td>10</td>\n",
       "      <td>16</td>\n",
       "      <td>533</td>\n",
       "    </tr>\n",
       "    <tr>\n",
       "      <th>4</th>\n",
       "      <td>205</td>\n",
       "      <td>17</td>\n",
       "      <td>1</td>\n",
       "      <td>0</td>\n",
       "      <td>0</td>\n",
       "      <td>0</td>\n",
       "      <td>4</td>\n",
       "      <td>33</td>\n",
       "      <td>0</td>\n",
       "      <td>11</td>\n",
       "      <td>10</td>\n",
       "      <td>569</td>\n",
       "    </tr>\n",
       "  </tbody>\n",
       "</table>\n",
       "</div>"
      ],
      "text/plain": [
       "   speaker_id  trust  fear  negative  sadness  anger  surprise  positive  \\\n",
       "0         201     19     4        14        4      2         6        30   \n",
       "1         202     21     0         1        0      0         3        32   \n",
       "2         203     28     2         4        6      1         0        47   \n",
       "3         204     17     3         6        4      0         4        27   \n",
       "4         205     17     1         0        0      0         4        33   \n",
       "\n",
       "   disgust  joy  anticipation  length  \n",
       "0        1   17            18     514  \n",
       "1        0   10            13     673  \n",
       "2        1    3             8     673  \n",
       "3        0   10            16     533  \n",
       "4        0   11            10     569  "
      ]
     },
     "execution_count": 15,
     "metadata": {},
     "output_type": "execute_result"
    }
   ],
   "source": [
    "token_grouped.head()"
   ]
  },
  {
   "cell_type": "code",
   "execution_count": 16,
   "id": "ad33658d-e5a3-473a-b6dd-5418b779e071",
   "metadata": {
    "tags": []
   },
   "outputs": [],
   "source": [
    "token_grouped_normalized = pd.DataFrame()\n",
    "for sent in sentiments:\n",
    "    token_grouped_normalized[f'{sent}_norm'] = token_grouped.apply(lambda x: (x[sent]/ x['length']) if x[sent] != 0 else 0, axis = 1)"
   ]
  },
  {
   "cell_type": "code",
   "execution_count": 17,
   "id": "521573c1-98d7-45d2-95e0-55b798681efe",
   "metadata": {},
   "outputs": [],
   "source": [
    "token_grouped_normalized['speaker_id'] = token_grouped.speaker_id"
   ]
  },
  {
   "cell_type": "code",
   "execution_count": 19,
   "id": "c30ac2b6-bf05-4d91-9ff9-889136820afa",
   "metadata": {},
   "outputs": [],
   "source": [
    "survey = pd.read_excel('survey_data.xlsx', usecols = ['studyid', 'assignment']).rename(columns = {'studyid': 'speaker_id', 'assignment': 'mindfulness'})"
   ]
  },
  {
   "cell_type": "code",
   "execution_count": 20,
   "id": "276e2ae4-d079-4a82-a30d-282fe70d48b0",
   "metadata": {},
   "outputs": [],
   "source": [
    "token_grouped_normalized = token_grouped_normalized.merge(survey)"
   ]
  },
  {
   "cell_type": "code",
   "execution_count": 22,
   "id": "21553516-ab50-4217-bd96-de0c934ad7c2",
   "metadata": {},
   "outputs": [],
   "source": [
    "ho_lookup = pd.read_csv('holdout_samples_lookup.csv')"
   ]
  },
  {
   "cell_type": "code",
   "execution_count": 23,
   "id": "e24a4e2d-4a1d-4026-bec5-f9a256aab08d",
   "metadata": {},
   "outputs": [],
   "source": [
    "token_grouped_normalized = token_grouped_normalized.merge(ho_lookup, left_on = 'speaker_id', right_on = 'studyid').drop(['studyid', 'mindfulness_y', '300s'], axis = 1).rename(columns = {'mindfulness_x': 'mindfulness'}).set_index('speaker_id')"
   ]
  },
  {
   "cell_type": "code",
   "execution_count": 24,
   "id": "cb37d518-1874-47b8-8b85-6e59bd1e5438",
   "metadata": {},
   "outputs": [
    {
     "data": {
      "text/html": [
       "<div>\n",
       "<style scoped>\n",
       "    .dataframe tbody tr th:only-of-type {\n",
       "        vertical-align: middle;\n",
       "    }\n",
       "\n",
       "    .dataframe tbody tr th {\n",
       "        vertical-align: top;\n",
       "    }\n",
       "\n",
       "    .dataframe thead th {\n",
       "        text-align: right;\n",
       "    }\n",
       "</style>\n",
       "<table border=\"1\" class=\"dataframe\">\n",
       "  <thead>\n",
       "    <tr style=\"text-align: right;\">\n",
       "      <th></th>\n",
       "      <th>trust_norm</th>\n",
       "      <th>fear_norm</th>\n",
       "      <th>negative_norm</th>\n",
       "      <th>sadness_norm</th>\n",
       "      <th>anger_norm</th>\n",
       "      <th>surprise_norm</th>\n",
       "      <th>positive_norm</th>\n",
       "      <th>disgust_norm</th>\n",
       "      <th>joy_norm</th>\n",
       "      <th>anticipation_norm</th>\n",
       "      <th>mindfulness</th>\n",
       "      <th>holdout</th>\n",
       "    </tr>\n",
       "    <tr>\n",
       "      <th>speaker_id</th>\n",
       "      <th></th>\n",
       "      <th></th>\n",
       "      <th></th>\n",
       "      <th></th>\n",
       "      <th></th>\n",
       "      <th></th>\n",
       "      <th></th>\n",
       "      <th></th>\n",
       "      <th></th>\n",
       "      <th></th>\n",
       "      <th></th>\n",
       "      <th></th>\n",
       "    </tr>\n",
       "  </thead>\n",
       "  <tbody>\n",
       "    <tr>\n",
       "      <th>201</th>\n",
       "      <td>0.036965</td>\n",
       "      <td>0.007782</td>\n",
       "      <td>0.027237</td>\n",
       "      <td>0.007782</td>\n",
       "      <td>0.003891</td>\n",
       "      <td>0.011673</td>\n",
       "      <td>0.058366</td>\n",
       "      <td>0.001946</td>\n",
       "      <td>0.033074</td>\n",
       "      <td>0.035019</td>\n",
       "      <td>1</td>\n",
       "      <td>0</td>\n",
       "    </tr>\n",
       "    <tr>\n",
       "      <th>202</th>\n",
       "      <td>0.031204</td>\n",
       "      <td>0.000000</td>\n",
       "      <td>0.001486</td>\n",
       "      <td>0.000000</td>\n",
       "      <td>0.000000</td>\n",
       "      <td>0.004458</td>\n",
       "      <td>0.047548</td>\n",
       "      <td>0.000000</td>\n",
       "      <td>0.014859</td>\n",
       "      <td>0.019316</td>\n",
       "      <td>0</td>\n",
       "      <td>0</td>\n",
       "    </tr>\n",
       "    <tr>\n",
       "      <th>203</th>\n",
       "      <td>0.041605</td>\n",
       "      <td>0.002972</td>\n",
       "      <td>0.005944</td>\n",
       "      <td>0.008915</td>\n",
       "      <td>0.001486</td>\n",
       "      <td>0.000000</td>\n",
       "      <td>0.069837</td>\n",
       "      <td>0.001486</td>\n",
       "      <td>0.004458</td>\n",
       "      <td>0.011887</td>\n",
       "      <td>1</td>\n",
       "      <td>1</td>\n",
       "    </tr>\n",
       "    <tr>\n",
       "      <th>204</th>\n",
       "      <td>0.031895</td>\n",
       "      <td>0.005629</td>\n",
       "      <td>0.011257</td>\n",
       "      <td>0.007505</td>\n",
       "      <td>0.000000</td>\n",
       "      <td>0.007505</td>\n",
       "      <td>0.050657</td>\n",
       "      <td>0.000000</td>\n",
       "      <td>0.018762</td>\n",
       "      <td>0.030019</td>\n",
       "      <td>0</td>\n",
       "      <td>0</td>\n",
       "    </tr>\n",
       "    <tr>\n",
       "      <th>205</th>\n",
       "      <td>0.029877</td>\n",
       "      <td>0.001757</td>\n",
       "      <td>0.000000</td>\n",
       "      <td>0.000000</td>\n",
       "      <td>0.000000</td>\n",
       "      <td>0.007030</td>\n",
       "      <td>0.057996</td>\n",
       "      <td>0.000000</td>\n",
       "      <td>0.019332</td>\n",
       "      <td>0.017575</td>\n",
       "      <td>1</td>\n",
       "      <td>0</td>\n",
       "    </tr>\n",
       "  </tbody>\n",
       "</table>\n",
       "</div>"
      ],
      "text/plain": [
       "            trust_norm  fear_norm  negative_norm  sadness_norm  anger_norm  \\\n",
       "speaker_id                                                                   \n",
       "201           0.036965   0.007782       0.027237      0.007782    0.003891   \n",
       "202           0.031204   0.000000       0.001486      0.000000    0.000000   \n",
       "203           0.041605   0.002972       0.005944      0.008915    0.001486   \n",
       "204           0.031895   0.005629       0.011257      0.007505    0.000000   \n",
       "205           0.029877   0.001757       0.000000      0.000000    0.000000   \n",
       "\n",
       "            surprise_norm  positive_norm  disgust_norm  joy_norm  \\\n",
       "speaker_id                                                         \n",
       "201              0.011673       0.058366      0.001946  0.033074   \n",
       "202              0.004458       0.047548      0.000000  0.014859   \n",
       "203              0.000000       0.069837      0.001486  0.004458   \n",
       "204              0.007505       0.050657      0.000000  0.018762   \n",
       "205              0.007030       0.057996      0.000000  0.019332   \n",
       "\n",
       "            anticipation_norm  mindfulness  holdout  \n",
       "speaker_id                                           \n",
       "201                  0.035019            1        0  \n",
       "202                  0.019316            0        0  \n",
       "203                  0.011887            1        1  \n",
       "204                  0.030019            0        0  \n",
       "205                  0.017575            1        0  "
      ]
     },
     "execution_count": 24,
     "metadata": {},
     "output_type": "execute_result"
    }
   ],
   "source": [
    "token_grouped_normalized.head()"
   ]
  },
  {
   "cell_type": "code",
   "execution_count": 49,
   "id": "12c7b1de-2dd4-46fa-aa21-62ec76003850",
   "metadata": {},
   "outputs": [],
   "source": [
    "token_grouped_normalized.to_csv('output files/nrc_normalized.csv')"
   ]
  },
  {
   "cell_type": "code",
   "execution_count": 25,
   "id": "bef9629f-ddf7-4f98-a76e-e11f717cbfec",
   "metadata": {},
   "outputs": [],
   "source": [
    "X = token_grouped_normalized[token_grouped_normalized.holdout == 0].drop(['mindfulness', 'holdout'], axis = 1)\n",
    "y = token_grouped_normalized[token_grouped_normalized.holdout == 0].mindfulness\n",
    "X_test = token_grouped_normalized[token_grouped_normalized.holdout == 1].drop(['mindfulness', 'holdout'], axis = 1)\n",
    "y_test = token_grouped_normalized[token_grouped_normalized.holdout == 1].mindfulness"
   ]
  },
  {
   "cell_type": "code",
   "execution_count": 28,
   "id": "d525bff7-48c2-4f01-b0b0-711072f467a0",
   "metadata": {},
   "outputs": [],
   "source": [
    "from sklearn.linear_model import LogisticRegression\n",
    "from sklearn.metrics import confusion_matrix, accuracy_score, classification_report"
   ]
  },
  {
   "cell_type": "code",
   "execution_count": 29,
   "id": "c10e191a-94aa-4a90-a1cb-845eea794693",
   "metadata": {},
   "outputs": [],
   "source": [
    "log_reg = LogisticRegression(penalty = 'l2', solver = 'newton-cg', C = 10, random_state = 0).fit(X, y)"
   ]
  },
  {
   "cell_type": "code",
   "execution_count": 30,
   "id": "9bfa1f56-136d-4da8-9cc8-ba2c520b11c1",
   "metadata": {},
   "outputs": [
    {
     "data": {
      "text/plain": [
       "array([[-1.26523655,  0.32247171,  0.31524263,  0.22859735,  0.01031457,\n",
       "        -0.50609621, -1.12443453,  0.06477791, -0.87841044, -0.90028629]])"
      ]
     },
     "execution_count": 30,
     "metadata": {},
     "output_type": "execute_result"
    }
   ],
   "source": [
    "log_reg.coef_"
   ]
  },
  {
   "cell_type": "code",
   "execution_count": 31,
   "id": "2c783298-4078-458c-a4e4-9818aecff549",
   "metadata": {},
   "outputs": [
    {
     "data": {
      "text/plain": [
       "array([0.0675756])"
      ]
     },
     "execution_count": 31,
     "metadata": {},
     "output_type": "execute_result"
    }
   ],
   "source": [
    "log_reg.intercept_"
   ]
  },
  {
   "cell_type": "code",
   "execution_count": 32,
   "id": "cccdb020-f47e-487a-b08f-18e7813787f4",
   "metadata": {},
   "outputs": [],
   "source": [
    "pred = log_reg.predict(X_test)"
   ]
  },
  {
   "cell_type": "code",
   "execution_count": 33,
   "id": "195d742e-4823-4a0f-a741-9f91be94c3b7",
   "metadata": {},
   "outputs": [],
   "source": [
    "prediction = list(map(round, pred))"
   ]
  },
  {
   "cell_type": "code",
   "execution_count": 34,
   "id": "c12126fb-60f4-4537-a999-87b5e37fbbbb",
   "metadata": {},
   "outputs": [
    {
     "data": {
      "text/plain": [
       "0.5"
      ]
     },
     "execution_count": 34,
     "metadata": {},
     "output_type": "execute_result"
    }
   ],
   "source": [
    "accuracy_score(y_test, prediction)"
   ]
  },
  {
   "cell_type": "code",
   "execution_count": 35,
   "id": "2669b23d-de8e-4263-883a-bf1c50bd0a6b",
   "metadata": {},
   "outputs": [
    {
     "data": {
      "text/plain": [
       "array([[9, 0],\n",
       "       [9, 0]])"
      ]
     },
     "execution_count": 35,
     "metadata": {},
     "output_type": "execute_result"
    }
   ],
   "source": [
    "confusion_matrix(y_test, prediction)"
   ]
  },
  {
   "cell_type": "code",
   "execution_count": 36,
   "id": "0088436d-f8bb-497e-92c4-c3210643f3e5",
   "metadata": {},
   "outputs": [
    {
     "name": "stdout",
     "output_type": "stream",
     "text": [
      "              precision    recall  f1-score   support\n",
      "\n",
      "           0       0.50      1.00      0.67         9\n",
      "           1       0.00      0.00      0.00         9\n",
      "\n",
      "    accuracy                           0.50        18\n",
      "   macro avg       0.25      0.50      0.33        18\n",
      "weighted avg       0.25      0.50      0.33        18\n",
      "\n"
     ]
    },
    {
     "name": "stderr",
     "output_type": "stream",
     "text": [
      "/Users/gracelyons/opt/anaconda3/lib/python3.9/site-packages/sklearn/metrics/_classification.py:1318: UndefinedMetricWarning: Precision and F-score are ill-defined and being set to 0.0 in labels with no predicted samples. Use `zero_division` parameter to control this behavior.\n",
      "  _warn_prf(average, modifier, msg_start, len(result))\n",
      "/Users/gracelyons/opt/anaconda3/lib/python3.9/site-packages/sklearn/metrics/_classification.py:1318: UndefinedMetricWarning: Precision and F-score are ill-defined and being set to 0.0 in labels with no predicted samples. Use `zero_division` parameter to control this behavior.\n",
      "  _warn_prf(average, modifier, msg_start, len(result))\n",
      "/Users/gracelyons/opt/anaconda3/lib/python3.9/site-packages/sklearn/metrics/_classification.py:1318: UndefinedMetricWarning: Precision and F-score are ill-defined and being set to 0.0 in labels with no predicted samples. Use `zero_division` parameter to control this behavior.\n",
      "  _warn_prf(average, modifier, msg_start, len(result))\n"
     ]
    }
   ],
   "source": [
    "print(classification_report(y_test, log_reg.predict(X_test)))"
   ]
  },
  {
   "cell_type": "code",
   "execution_count": 37,
   "id": "4ea4f862-0fa3-4d38-a862-ea208c529467",
   "metadata": {},
   "outputs": [],
   "source": [
    "import statsmodels.api as sm"
   ]
  },
  {
   "cell_type": "code",
   "execution_count": 38,
   "id": "34ef4633-55d1-4842-8a89-45dda93f4216",
   "metadata": {},
   "outputs": [
    {
     "name": "stdout",
     "output_type": "stream",
     "text": [
      "Optimization terminated successfully.\n",
      "         Current function value: 0.632186\n",
      "         Iterations 7\n"
     ]
    }
   ],
   "source": [
    "log_reg_sm = sm.Logit(y, X).fit(method = 'newton')"
   ]
  },
  {
   "cell_type": "code",
   "execution_count": 39,
   "id": "481d59ca-a6cb-4d4c-95e9-cffa66f047a9",
   "metadata": {},
   "outputs": [
    {
     "name": "stdout",
     "output_type": "stream",
     "text": [
      "                           Logit Regression Results                           \n",
      "==============================================================================\n",
      "Dep. Variable:            mindfulness   No. Observations:                   71\n",
      "Model:                          Logit   Df Residuals:                       61\n",
      "Method:                           MLE   Df Model:                            9\n",
      "Date:                Sun, 26 Mar 2023   Pseudo R-squ.:                 0.08677\n",
      "Time:                        18:00:05   Log-Likelihood:                -44.885\n",
      "converged:                       True   LL-Null:                       -49.150\n",
      "Covariance Type:            nonrobust   LLR p-value:                    0.4818\n",
      "=====================================================================================\n",
      "                        coef    std err          z      P>|z|      [0.025      0.975]\n",
      "-------------------------------------------------------------------------------------\n",
      "trust_norm          -59.0415     36.648     -1.611      0.107    -130.871      12.788\n",
      "fear_norm            66.6047     77.933      0.855      0.393     -86.141     219.350\n",
      "negative_norm        95.7275     82.113      1.166      0.244     -65.212     256.667\n",
      "sadness_norm       -106.6012     90.683     -1.176      0.240    -284.336      71.134\n",
      "anger_norm         -195.7209    156.926     -1.247      0.212    -503.290     111.848\n",
      "surprise_norm        32.5013     41.784      0.778      0.437     -49.394     114.397\n",
      "positive_norm        22.2140     19.902      1.116      0.264     -16.794      61.222\n",
      "disgust_norm        202.3760    186.705      1.084      0.278    -163.559     568.311\n",
      "joy_norm             -6.7827     47.740     -0.142      0.887    -100.351      86.786\n",
      "anticipation_norm   -10.2871     35.138     -0.293      0.770     -79.157      58.583\n",
      "=====================================================================================\n"
     ]
    }
   ],
   "source": [
    "print(log_reg_sm.summary())"
   ]
  },
  {
   "cell_type": "code",
   "execution_count": 40,
   "id": "ecf24588-d1d8-473e-adea-f600a04045c2",
   "metadata": {},
   "outputs": [],
   "source": [
    "pred_sm = log_reg_sm.predict(X_test)"
   ]
  },
  {
   "cell_type": "code",
   "execution_count": 41,
   "id": "56809ed9-1c16-487b-bc49-d7b6062eeaf2",
   "metadata": {},
   "outputs": [],
   "source": [
    "prediction = list(map(round, pred_sm))"
   ]
  },
  {
   "cell_type": "code",
   "execution_count": 42,
   "id": "f33248fe-3851-4a07-9846-58f5f938f8ce",
   "metadata": {},
   "outputs": [
    {
     "name": "stdout",
     "output_type": "stream",
     "text": [
      "actual values [1, 1, 1, 0, 0, 0, 0, 0, 1, 1, 1, 1, 1, 0, 1, 0, 0, 0]\n",
      "predicitions [0, 0, 0, 0, 0, 0, 0, 0, 0, 0, 1, 0, 0, 0, 1, 0, 1, 1]\n"
     ]
    }
   ],
   "source": [
    "print('actual values', list(y_test.values))\n",
    "print('predicitions', prediction)"
   ]
  },
  {
   "cell_type": "code",
   "execution_count": 43,
   "id": "df601602-540d-4e80-97ed-68e5b1aa3463",
   "metadata": {},
   "outputs": [
    {
     "data": {
      "text/plain": [
       "array([[7, 2],\n",
       "       [7, 2]])"
      ]
     },
     "execution_count": 43,
     "metadata": {},
     "output_type": "execute_result"
    }
   ],
   "source": [
    "cm_sm = confusion_matrix(y_test, prediction)\n",
    "cm_sm"
   ]
  },
  {
   "cell_type": "code",
   "execution_count": 44,
   "id": "34dc8ecd-e6a1-4dcc-b601-def34b545df2",
   "metadata": {},
   "outputs": [
    {
     "data": {
      "text/plain": [
       "0.5"
      ]
     },
     "execution_count": 44,
     "metadata": {},
     "output_type": "execute_result"
    }
   ],
   "source": [
    "accuracy_score(y_test,prediction)"
   ]
  },
  {
   "cell_type": "code",
   "execution_count": 45,
   "id": "6a7f95da-858a-42c6-8b38-3c28373cfafc",
   "metadata": {},
   "outputs": [
    {
     "data": {
      "text/html": [
       "<table class=\"simpletable\">\n",
       "<caption>Logit Regression Results</caption>\n",
       "<tr>\n",
       "  <th>Dep. Variable:</th>      <td>mindfulness</td>   <th>  No. Observations:  </th>  <td>    71</td> \n",
       "</tr>\n",
       "<tr>\n",
       "  <th>Model:</th>                 <td>Logit</td>      <th>  Df Residuals:      </th>  <td>    61</td> \n",
       "</tr>\n",
       "<tr>\n",
       "  <th>Method:</th>                 <td>MLE</td>       <th>  Df Model:          </th>  <td>     9</td> \n",
       "</tr>\n",
       "<tr>\n",
       "  <th>Date:</th>            <td>Sun, 26 Mar 2023</td> <th>  Pseudo R-squ.:     </th>  <td>0.08677</td>\n",
       "</tr>\n",
       "<tr>\n",
       "  <th>Time:</th>                <td>18:00:09</td>     <th>  Log-Likelihood:    </th> <td> -44.885</td>\n",
       "</tr>\n",
       "<tr>\n",
       "  <th>converged:</th>             <td>True</td>       <th>  LL-Null:           </th> <td> -49.150</td>\n",
       "</tr>\n",
       "<tr>\n",
       "  <th>Covariance Type:</th>     <td>nonrobust</td>    <th>  LLR p-value:       </th>  <td>0.4818</td> \n",
       "</tr>\n",
       "</table>\n",
       "<table class=\"simpletable\">\n",
       "<tr>\n",
       "          <td></td>             <th>coef</th>     <th>std err</th>      <th>z</th>      <th>P>|z|</th>  <th>[0.025</th>    <th>0.975]</th>  \n",
       "</tr>\n",
       "<tr>\n",
       "  <th>trust_norm</th>        <td>  -59.0415</td> <td>   36.648</td> <td>   -1.611</td> <td> 0.107</td> <td> -130.871</td> <td>   12.788</td>\n",
       "</tr>\n",
       "<tr>\n",
       "  <th>fear_norm</th>         <td>   66.6047</td> <td>   77.933</td> <td>    0.855</td> <td> 0.393</td> <td>  -86.141</td> <td>  219.350</td>\n",
       "</tr>\n",
       "<tr>\n",
       "  <th>negative_norm</th>     <td>   95.7275</td> <td>   82.113</td> <td>    1.166</td> <td> 0.244</td> <td>  -65.212</td> <td>  256.667</td>\n",
       "</tr>\n",
       "<tr>\n",
       "  <th>sadness_norm</th>      <td> -106.6012</td> <td>   90.683</td> <td>   -1.176</td> <td> 0.240</td> <td> -284.336</td> <td>   71.134</td>\n",
       "</tr>\n",
       "<tr>\n",
       "  <th>anger_norm</th>        <td> -195.7209</td> <td>  156.926</td> <td>   -1.247</td> <td> 0.212</td> <td> -503.290</td> <td>  111.848</td>\n",
       "</tr>\n",
       "<tr>\n",
       "  <th>surprise_norm</th>     <td>   32.5013</td> <td>   41.784</td> <td>    0.778</td> <td> 0.437</td> <td>  -49.394</td> <td>  114.397</td>\n",
       "</tr>\n",
       "<tr>\n",
       "  <th>positive_norm</th>     <td>   22.2140</td> <td>   19.902</td> <td>    1.116</td> <td> 0.264</td> <td>  -16.794</td> <td>   61.222</td>\n",
       "</tr>\n",
       "<tr>\n",
       "  <th>disgust_norm</th>      <td>  202.3760</td> <td>  186.705</td> <td>    1.084</td> <td> 0.278</td> <td> -163.559</td> <td>  568.311</td>\n",
       "</tr>\n",
       "<tr>\n",
       "  <th>joy_norm</th>          <td>   -6.7827</td> <td>   47.740</td> <td>   -0.142</td> <td> 0.887</td> <td> -100.351</td> <td>   86.786</td>\n",
       "</tr>\n",
       "<tr>\n",
       "  <th>anticipation_norm</th> <td>  -10.2871</td> <td>   35.138</td> <td>   -0.293</td> <td> 0.770</td> <td>  -79.157</td> <td>   58.583</td>\n",
       "</tr>\n",
       "</table>"
      ],
      "text/plain": [
       "<class 'statsmodels.iolib.summary.Summary'>\n",
       "\"\"\"\n",
       "                           Logit Regression Results                           \n",
       "==============================================================================\n",
       "Dep. Variable:            mindfulness   No. Observations:                   71\n",
       "Model:                          Logit   Df Residuals:                       61\n",
       "Method:                           MLE   Df Model:                            9\n",
       "Date:                Sun, 26 Mar 2023   Pseudo R-squ.:                 0.08677\n",
       "Time:                        18:00:09   Log-Likelihood:                -44.885\n",
       "converged:                       True   LL-Null:                       -49.150\n",
       "Covariance Type:            nonrobust   LLR p-value:                    0.4818\n",
       "=====================================================================================\n",
       "                        coef    std err          z      P>|z|      [0.025      0.975]\n",
       "-------------------------------------------------------------------------------------\n",
       "trust_norm          -59.0415     36.648     -1.611      0.107    -130.871      12.788\n",
       "fear_norm            66.6047     77.933      0.855      0.393     -86.141     219.350\n",
       "negative_norm        95.7275     82.113      1.166      0.244     -65.212     256.667\n",
       "sadness_norm       -106.6012     90.683     -1.176      0.240    -284.336      71.134\n",
       "anger_norm         -195.7209    156.926     -1.247      0.212    -503.290     111.848\n",
       "surprise_norm        32.5013     41.784      0.778      0.437     -49.394     114.397\n",
       "positive_norm        22.2140     19.902      1.116      0.264     -16.794      61.222\n",
       "disgust_norm        202.3760    186.705      1.084      0.278    -163.559     568.311\n",
       "joy_norm             -6.7827     47.740     -0.142      0.887    -100.351      86.786\n",
       "anticipation_norm   -10.2871     35.138     -0.293      0.770     -79.157      58.583\n",
       "=====================================================================================\n",
       "\"\"\""
      ]
     },
     "execution_count": 45,
     "metadata": {},
     "output_type": "execute_result"
    }
   ],
   "source": [
    "log_reg_sm.summary()"
   ]
  },
  {
   "cell_type": "code",
   "execution_count": 46,
   "id": "e7897b60-a0cb-4698-ab52-edae63fc91b5",
   "metadata": {},
   "outputs": [
    {
     "data": {
      "text/html": [
       "<table class=\"simpletable\">\n",
       "<tr>\n",
       "        <td>Model:</td>              <td>Logit</td>      <td>Pseudo R-squared:</td>   <td>0.087</td> \n",
       "</tr>\n",
       "<tr>\n",
       "  <td>Dependent Variable:</td>    <td>mindfulness</td>         <td>AIC:</td>        <td>109.7704</td>\n",
       "</tr>\n",
       "<tr>\n",
       "         <td>Date:</td>        <td>2023-03-26 18:00</td>       <td>BIC:</td>        <td>132.3972</td>\n",
       "</tr>\n",
       "<tr>\n",
       "   <td>No. Observations:</td>         <td>71</td>         <td>Log-Likelihood:</td>   <td>-44.885</td>\n",
       "</tr>\n",
       "<tr>\n",
       "       <td>Df Model:</td>              <td>9</td>            <td>LL-Null:</td>       <td>-49.150</td>\n",
       "</tr>\n",
       "<tr>\n",
       "     <td>Df Residuals:</td>           <td>61</td>          <td>LLR p-value:</td>     <td>0.48176</td>\n",
       "</tr>\n",
       "<tr>\n",
       "      <td>Converged:</td>           <td>1.0000</td>           <td>Scale:</td>        <td>1.0000</td> \n",
       "</tr>\n",
       "<tr>\n",
       "    <td>No. Iterations:</td>        <td>7.0000</td>              <td></td>              <td></td>    \n",
       "</tr>\n",
       "</table>\n",
       "<table class=\"simpletable\">\n",
       "<tr>\n",
       "          <td></td>            <th>Coef.</th>   <th>Std.Err.</th>    <th>z</th>     <th>P>|z|</th>  <th>[0.025</th>    <th>0.975]</th> \n",
       "</tr>\n",
       "<tr>\n",
       "  <th>trust_norm</th>        <td>-59.0415</td>   <td>36.6483</td> <td>-1.6110</td> <td>0.1072</td> <td>-130.8708</td>  <td>12.7878</td>\n",
       "</tr>\n",
       "<tr>\n",
       "  <th>fear_norm</th>          <td>66.6047</td>   <td>77.9328</td> <td>0.8546</td>  <td>0.3927</td> <td>-86.1409</td>  <td>219.3502</td>\n",
       "</tr>\n",
       "<tr>\n",
       "  <th>negative_norm</th>      <td>95.7275</td>   <td>82.1134</td> <td>1.1658</td>  <td>0.2437</td> <td>-65.2118</td>  <td>256.6669</td>\n",
       "</tr>\n",
       "<tr>\n",
       "  <th>sadness_norm</th>      <td>-106.6012</td>  <td>90.6827</td> <td>-1.1755</td> <td>0.2398</td> <td>-284.3361</td>  <td>71.1337</td>\n",
       "</tr>\n",
       "<tr>\n",
       "  <th>anger_norm</th>        <td>-195.7209</td> <td>156.9259</td> <td>-1.2472</td> <td>0.2123</td> <td>-503.2901</td> <td>111.8483</td>\n",
       "</tr>\n",
       "<tr>\n",
       "  <th>surprise_norm</th>      <td>32.5013</td>   <td>41.7842</td> <td>0.7778</td>  <td>0.4367</td> <td>-49.3943</td>  <td>114.3969</td>\n",
       "</tr>\n",
       "<tr>\n",
       "  <th>positive_norm</th>      <td>22.2140</td>   <td>19.9022</td> <td>1.1162</td>  <td>0.2644</td> <td>-16.7936</td>   <td>61.2216</td>\n",
       "</tr>\n",
       "<tr>\n",
       "  <th>disgust_norm</th>      <td>202.3760</td>  <td>186.7048</td> <td>1.0839</td>  <td>0.2784</td> <td>-163.5586</td> <td>568.3106</td>\n",
       "</tr>\n",
       "<tr>\n",
       "  <th>joy_norm</th>           <td>-6.7827</td>   <td>47.7399</td> <td>-0.1421</td> <td>0.8870</td> <td>-100.3511</td>  <td>86.7857</td>\n",
       "</tr>\n",
       "<tr>\n",
       "  <th>anticipation_norm</th> <td>-10.2871</td>   <td>35.1384</td> <td>-0.2928</td> <td>0.7697</td> <td>-79.1570</td>   <td>58.5828</td>\n",
       "</tr>\n",
       "</table>"
      ],
      "text/plain": [
       "<class 'statsmodels.iolib.summary2.Summary'>\n",
       "\"\"\"\n",
       "                            Results: Logit\n",
       "======================================================================\n",
       "Model:                 Logit              Pseudo R-squared:   0.087   \n",
       "Dependent Variable:    mindfulness        AIC:                109.7704\n",
       "Date:                  2023-03-26 18:00   BIC:                132.3972\n",
       "No. Observations:      71                 Log-Likelihood:     -44.885 \n",
       "Df Model:              9                  LL-Null:            -49.150 \n",
       "Df Residuals:          61                 LLR p-value:        0.48176 \n",
       "Converged:             1.0000             Scale:              1.0000  \n",
       "No. Iterations:        7.0000                                         \n",
       "----------------------------------------------------------------------\n",
       "                    Coef.   Std.Err.    z    P>|z|    [0.025   0.975] \n",
       "----------------------------------------------------------------------\n",
       "trust_norm         -59.0415  36.6483 -1.6110 0.1072 -130.8708  12.7878\n",
       "fear_norm           66.6047  77.9328  0.8546 0.3927  -86.1409 219.3502\n",
       "negative_norm       95.7275  82.1134  1.1658 0.2437  -65.2118 256.6669\n",
       "sadness_norm      -106.6012  90.6827 -1.1755 0.2398 -284.3361  71.1337\n",
       "anger_norm        -195.7209 156.9259 -1.2472 0.2123 -503.2901 111.8483\n",
       "surprise_norm       32.5013  41.7842  0.7778 0.4367  -49.3943 114.3969\n",
       "positive_norm       22.2140  19.9022  1.1162 0.2644  -16.7936  61.2216\n",
       "disgust_norm       202.3760 186.7048  1.0839 0.2784 -163.5586 568.3106\n",
       "joy_norm            -6.7827  47.7399 -0.1421 0.8870 -100.3511  86.7857\n",
       "anticipation_norm  -10.2871  35.1384 -0.2928 0.7697  -79.1570  58.5828\n",
       "======================================================================\n",
       "\n",
       "\"\"\""
      ]
     },
     "execution_count": 46,
     "metadata": {},
     "output_type": "execute_result"
    }
   ],
   "source": [
    "log_reg_sm.summary2()"
   ]
  },
  {
   "cell_type": "code",
   "execution_count": null,
   "id": "ff2e50a7-8c19-43c7-a49b-8ee325b078f0",
   "metadata": {},
   "outputs": [],
   "source": []
  }
 ],
 "metadata": {
  "kernelspec": {
   "display_name": "Python 3 (ipykernel)",
   "language": "python",
   "name": "python3"
  },
  "language_info": {
   "codemirror_mode": {
    "name": "ipython",
    "version": 3
   },
   "file_extension": ".py",
   "mimetype": "text/x-python",
   "name": "python",
   "nbconvert_exporter": "python",
   "pygments_lexer": "ipython3",
   "version": "3.9.12"
  }
 },
 "nbformat": 4,
 "nbformat_minor": 5
}
