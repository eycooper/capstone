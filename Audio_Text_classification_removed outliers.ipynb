{
 "cells": [
  {
   "cell_type": "markdown",
   "id": "e37228f6-d562-4e52-967c-4b37f6d6ee6f",
   "metadata": {},
   "source": [
    "## Classification Models\n",
    "\n",
    "- merge audio data with text data\n",
    "- remove outlier cases\n",
    "- split by holdout csv\n",
    "- normalize/re-scale train data\n",
    "- run t-tests with train data\n",
    "- get top features and map to test set data"
   ]
  },
  {
   "cell_type": "code",
   "execution_count": 35,
   "id": "44a0c271-8d7b-40c7-899c-1091c454e5c0",
   "metadata": {},
   "outputs": [],
   "source": [
    "import numpy as np\n",
    "import pandas as pd\n",
    "import seaborn as sns\n",
    "import scipy.stats as stats\n",
    "import matplotlib.pyplot as plt\n",
    "import warnings\n",
    "warnings.filterwarnings(\"ignore\")\n",
    "\n",
    "# import sklearn modules \n",
    "\n",
    "from sklearn.linear_model import LogisticRegression\n",
    "from sklearn.svm import SVC\n",
    "from sklearn.naive_bayes import GaussianNB\n",
    "from sklearn.neighbors import KNeighborsClassifier\n",
    "from sklearn.tree import DecisionTreeClassifier\n",
    "\n",
    "from sklearn.model_selection import cross_val_score\n",
    "from sklearn.model_selection import GridSearchCV\n",
    "from sklearn.model_selection import RepeatedStratifiedKFold\n",
    "from sklearn.preprocessing import PowerTransformer\n",
    "\n",
    "from sklearn.metrics import accuracy_score\n",
    "from sklearn.metrics import classification_report\n",
    "from sklearn.metrics import confusion_matrix"
   ]
  },
  {
   "cell_type": "code",
   "execution_count": 2,
   "id": "702390a5-0601-41b7-9346-78cb21324198",
   "metadata": {},
   "outputs": [],
   "source": [
    "pd.set_option('display.max_columns', None)"
   ]
  },
  {
   "cell_type": "code",
   "execution_count": 3,
   "id": "2159f9e9-2e06-4822-85bc-b7a8f630ead6",
   "metadata": {},
   "outputs": [],
   "source": [
    "path = './data files/'"
   ]
  },
  {
   "cell_type": "code",
   "execution_count": 4,
   "id": "d67cb872-1cf4-477b-b1c0-86f9fa4024b1",
   "metadata": {},
   "outputs": [],
   "source": [
    "# get datasets\n",
    "\n",
    "df_audio = pd.read_csv('Teacher_Mindfulness_Audio_Transcript_Features_20230214.csv').drop('Mood', axis=1)\n",
    "\n",
    "text_url = 'https://raw.githubusercontent.com/eycooper/capstone/main/text_analytics_code/text_data.csv'\n",
    "df_text = pd.read_csv(text_url)"
   ]
  },
  {
   "cell_type": "code",
   "execution_count": 5,
   "id": "15d8bb3a-4fef-4b25-9431-a5263720278c",
   "metadata": {},
   "outputs": [],
   "source": [
    "# merge datasets\n",
    "df = df_audio.merge(df_text,\n",
    "                    left_on = 'ID', \n",
    "                    right_on = 'speaker_id')\n",
    "df.drop(['speaker_id', 'Unnamed: 0'], axis = 1, inplace = True)"
   ]
  },
  {
   "cell_type": "code",
   "execution_count": 6,
   "id": "87ca0410-f813-4a89-a911-718f69bb07fd",
   "metadata": {},
   "outputs": [
    {
     "data": {
      "text/plain": [
       "(88, 131)"
      ]
     },
     "execution_count": 6,
     "metadata": {},
     "output_type": "execute_result"
    }
   ],
   "source": [
    "df.shape"
   ]
  },
  {
   "cell_type": "code",
   "execution_count": 7,
   "id": "099178a3-3600-46a2-a854-ceca7c155c4a",
   "metadata": {},
   "outputs": [],
   "source": [
    "# remove outlier cases\n",
    "\n",
    "drop_ids = [209, 303, 305, 312, 353, 354, 355]\n",
    "\n",
    "for i in drop_ids:\n",
    "    df.drop(df[df['ID'] == i].index, inplace=True)"
   ]
  },
  {
   "cell_type": "code",
   "execution_count": 8,
   "id": "3669385b-ad0b-405b-bf55-5d719148c92b",
   "metadata": {},
   "outputs": [
    {
     "data": {
      "text/plain": [
       "(81, 131)"
      ]
     },
     "execution_count": 8,
     "metadata": {},
     "output_type": "execute_result"
    }
   ],
   "source": [
    "df.shape"
   ]
  },
  {
   "cell_type": "code",
   "execution_count": 9,
   "id": "7a10dc71-61c6-4cdc-addc-9dc39ceda5b2",
   "metadata": {},
   "outputs": [],
   "source": [
    "# get train data for t-tests\n",
    "\n",
    "train = df[df['holdout']==0].drop('holdout', axis=1)"
   ]
  },
  {
   "cell_type": "markdown",
   "id": "c687afef-c3c0-44a3-b566-c55dd1155232",
   "metadata": {},
   "source": [
    "### T-test on Train data"
   ]
  },
  {
   "cell_type": "code",
   "execution_count": 10,
   "id": "56313e4a-0088-47c1-a740-e51943185f36",
   "metadata": {},
   "outputs": [],
   "source": [
    "# Get list of all potential features in this data\n",
    "feature_list = [col for col in train.columns if col not in ['ID', 'mindfulness']]"
   ]
  },
  {
   "cell_type": "code",
   "execution_count": 11,
   "id": "4039f5a3-cb7f-4ad4-b49f-6b1cd880c9af",
   "metadata": {},
   "outputs": [],
   "source": [
    "# Create empty df to hold t-test results\n",
    "ttest_results = pd.DataFrame()"
   ]
  },
  {
   "cell_type": "code",
   "execution_count": 12,
   "id": "66cc0474-b49b-4852-be45-68f8ac2631d0",
   "metadata": {},
   "outputs": [],
   "source": [
    "for feat in feature_list:\n",
    "    # Separate treatment and control into separate dataframes\n",
    "    # and select just this feature\n",
    "    df_0 = train[train['mindfulness']==0]\n",
    "    df_1 = train[train['mindfulness']==1]\n",
    "    \n",
    "    # Compute t test results for this feature\n",
    "    temp_result = stats.ttest_ind(a = df_0[feat], \n",
    "                                  b = df_1[feat],\n",
    "                                  equal_var = False)\n",
    "    \n",
    "    # Add t stat and p value to results df\n",
    "    df_temp = pd.DataFrame({\n",
    "                            'feature': feat,\n",
    "                            'mean_0': df_0[feat].mean(),\n",
    "                            'mean_1': df_1[feat].mean(),\n",
    "                            't_statistic': temp_result[0],\n",
    "                            'p_value': temp_result[1]\n",
    "                            }, \n",
    "                            index = [0])\n",
    "    \n",
    "    ttest_results = pd.concat([ttest_results, df_temp], axis=0)"
   ]
  },
  {
   "cell_type": "code",
   "execution_count": 13,
   "id": "f3cc033b-1549-4366-b399-4463e3adc07c",
   "metadata": {},
   "outputs": [],
   "source": [
    "ttest_results.reset_index(inplace = True, drop = True)"
   ]
  },
  {
   "cell_type": "code",
   "execution_count": 14,
   "id": "173c034a-3b97-4565-bf0b-1ee0b2aa0510",
   "metadata": {},
   "outputs": [
    {
     "data": {
      "text/html": [
       "<div>\n",
       "<style scoped>\n",
       "    .dataframe tbody tr th:only-of-type {\n",
       "        vertical-align: middle;\n",
       "    }\n",
       "\n",
       "    .dataframe tbody tr th {\n",
       "        vertical-align: top;\n",
       "    }\n",
       "\n",
       "    .dataframe thead th {\n",
       "        text-align: right;\n",
       "    }\n",
       "</style>\n",
       "<table border=\"1\" class=\"dataframe\">\n",
       "  <thead>\n",
       "    <tr style=\"text-align: right;\">\n",
       "      <th></th>\n",
       "      <th>feature</th>\n",
       "      <th>mean_0</th>\n",
       "      <th>mean_1</th>\n",
       "      <th>t_statistic</th>\n",
       "      <th>p_value</th>\n",
       "    </tr>\n",
       "  </thead>\n",
       "  <tbody>\n",
       "    <tr>\n",
       "      <th>102</th>\n",
       "      <td>Zero_Crossing_Rate_Std</td>\n",
       "      <td>0.107811</td>\n",
       "      <td>0.095406</td>\n",
       "      <td>2.517768</td>\n",
       "      <td>0.014862</td>\n",
       "    </tr>\n",
       "    <tr>\n",
       "      <th>90</th>\n",
       "      <td>Centroid_Std</td>\n",
       "      <td>1279.611541</td>\n",
       "      <td>1158.368319</td>\n",
       "      <td>2.129085</td>\n",
       "      <td>0.037580</td>\n",
       "    </tr>\n",
       "    <tr>\n",
       "      <th>34</th>\n",
       "      <td>MFCC_4_Mean</td>\n",
       "      <td>7.070085</td>\n",
       "      <td>4.335195</td>\n",
       "      <td>1.975251</td>\n",
       "      <td>0.052709</td>\n",
       "    </tr>\n",
       "    <tr>\n",
       "      <th>13</th>\n",
       "      <td>Student_Word_Rate</td>\n",
       "      <td>2.096393</td>\n",
       "      <td>2.253935</td>\n",
       "      <td>-1.875983</td>\n",
       "      <td>0.065382</td>\n",
       "    </tr>\n",
       "    <tr>\n",
       "      <th>91</th>\n",
       "      <td>Bandwidth_Mean</td>\n",
       "      <td>1695.065860</td>\n",
       "      <td>1611.972062</td>\n",
       "      <td>1.869313</td>\n",
       "      <td>0.066158</td>\n",
       "    </tr>\n",
       "    <tr>\n",
       "      <th>74</th>\n",
       "      <td>MFCC_5_Kurtosis</td>\n",
       "      <td>0.195105</td>\n",
       "      <td>-0.050614</td>\n",
       "      <td>1.837706</td>\n",
       "      <td>0.072161</td>\n",
       "    </tr>\n",
       "    <tr>\n",
       "      <th>117</th>\n",
       "      <td>PC0</td>\n",
       "      <td>-0.013901</td>\n",
       "      <td>0.057527</td>\n",
       "      <td>-1.781490</td>\n",
       "      <td>0.079953</td>\n",
       "    </tr>\n",
       "    <tr>\n",
       "      <th>107</th>\n",
       "      <td>trust_norm</td>\n",
       "      <td>0.038106</td>\n",
       "      <td>0.029795</td>\n",
       "      <td>1.782992</td>\n",
       "      <td>0.081895</td>\n",
       "    </tr>\n",
       "    <tr>\n",
       "      <th>32</th>\n",
       "      <td>MFCC_2_Mean</td>\n",
       "      <td>9.365529</td>\n",
       "      <td>11.200496</td>\n",
       "      <td>-1.761333</td>\n",
       "      <td>0.083067</td>\n",
       "    </tr>\n",
       "    <tr>\n",
       "      <th>36</th>\n",
       "      <td>MFCC_6_Mean</td>\n",
       "      <td>-1.694941</td>\n",
       "      <td>-3.707593</td>\n",
       "      <td>1.742089</td>\n",
       "      <td>0.086380</td>\n",
       "    </tr>\n",
       "  </tbody>\n",
       "</table>\n",
       "</div>"
      ],
      "text/plain": [
       "                    feature       mean_0       mean_1  t_statistic   p_value\n",
       "102  Zero_Crossing_Rate_Std     0.107811     0.095406     2.517768  0.014862\n",
       "90             Centroid_Std  1279.611541  1158.368319     2.129085  0.037580\n",
       "34              MFCC_4_Mean     7.070085     4.335195     1.975251  0.052709\n",
       "13        Student_Word_Rate     2.096393     2.253935    -1.875983  0.065382\n",
       "91           Bandwidth_Mean  1695.065860  1611.972062     1.869313  0.066158\n",
       "74          MFCC_5_Kurtosis     0.195105    -0.050614     1.837706  0.072161\n",
       "117                     PC0    -0.013901     0.057527    -1.781490  0.079953\n",
       "107              trust_norm     0.038106     0.029795     1.782992  0.081895\n",
       "32              MFCC_2_Mean     9.365529    11.200496    -1.761333  0.083067\n",
       "36              MFCC_6_Mean    -1.694941    -3.707593     1.742089  0.086380"
      ]
     },
     "execution_count": 14,
     "metadata": {},
     "output_type": "execute_result"
    }
   ],
   "source": [
    "# Sort by p-value to see which variables show the largest differences\n",
    "ttest_results.sort_values('p_value', inplace = True)\n",
    "ttest_results.head(10)"
   ]
  },
  {
   "cell_type": "markdown",
   "id": "eb1c003a-1285-4b28-82d5-e9ef7805f176",
   "metadata": {},
   "source": [
    "After running a full t-test on the train data, there are only 2 statistically significant features: ZCR_Std & Centroid_Std that have a p-value less than 0.05.\n",
    "In order to have a more well-rounded set of features for the model, we lowered the p-value threshold to < 0.10 - this gives us a set of 13 features for the baseline models."
   ]
  },
  {
   "cell_type": "code",
   "execution_count": 15,
   "id": "7682d0e4-f72b-46a2-b5dd-e398f5a1086a",
   "metadata": {},
   "outputs": [],
   "source": [
    "# only the features that have a p-value < 0.10\n",
    "\n",
    "top_feats = ttest_results[ttest_results['p_value'] < 0.10]"
   ]
  },
  {
   "cell_type": "code",
   "execution_count": 16,
   "id": "d62b01f6-71f6-40fd-a998-8e2ae6b2c7be",
   "metadata": {},
   "outputs": [
    {
     "data": {
      "text/html": [
       "<div>\n",
       "<style scoped>\n",
       "    .dataframe tbody tr th:only-of-type {\n",
       "        vertical-align: middle;\n",
       "    }\n",
       "\n",
       "    .dataframe tbody tr th {\n",
       "        vertical-align: top;\n",
       "    }\n",
       "\n",
       "    .dataframe thead th {\n",
       "        text-align: right;\n",
       "    }\n",
       "</style>\n",
       "<table border=\"1\" class=\"dataframe\">\n",
       "  <thead>\n",
       "    <tr style=\"text-align: right;\">\n",
       "      <th></th>\n",
       "      <th>feature</th>\n",
       "      <th>mean_0</th>\n",
       "      <th>mean_1</th>\n",
       "      <th>t_statistic</th>\n",
       "      <th>p_value</th>\n",
       "    </tr>\n",
       "  </thead>\n",
       "  <tbody>\n",
       "    <tr>\n",
       "      <th>102</th>\n",
       "      <td>Zero_Crossing_Rate_Std</td>\n",
       "      <td>0.107811</td>\n",
       "      <td>0.095406</td>\n",
       "      <td>2.517768</td>\n",
       "      <td>0.014862</td>\n",
       "    </tr>\n",
       "    <tr>\n",
       "      <th>90</th>\n",
       "      <td>Centroid_Std</td>\n",
       "      <td>1279.611541</td>\n",
       "      <td>1158.368319</td>\n",
       "      <td>2.129085</td>\n",
       "      <td>0.037580</td>\n",
       "    </tr>\n",
       "    <tr>\n",
       "      <th>34</th>\n",
       "      <td>MFCC_4_Mean</td>\n",
       "      <td>7.070085</td>\n",
       "      <td>4.335195</td>\n",
       "      <td>1.975251</td>\n",
       "      <td>0.052709</td>\n",
       "    </tr>\n",
       "    <tr>\n",
       "      <th>13</th>\n",
       "      <td>Student_Word_Rate</td>\n",
       "      <td>2.096393</td>\n",
       "      <td>2.253935</td>\n",
       "      <td>-1.875983</td>\n",
       "      <td>0.065382</td>\n",
       "    </tr>\n",
       "    <tr>\n",
       "      <th>91</th>\n",
       "      <td>Bandwidth_Mean</td>\n",
       "      <td>1695.065860</td>\n",
       "      <td>1611.972062</td>\n",
       "      <td>1.869313</td>\n",
       "      <td>0.066158</td>\n",
       "    </tr>\n",
       "    <tr>\n",
       "      <th>74</th>\n",
       "      <td>MFCC_5_Kurtosis</td>\n",
       "      <td>0.195105</td>\n",
       "      <td>-0.050614</td>\n",
       "      <td>1.837706</td>\n",
       "      <td>0.072161</td>\n",
       "    </tr>\n",
       "    <tr>\n",
       "      <th>117</th>\n",
       "      <td>PC0</td>\n",
       "      <td>-0.013901</td>\n",
       "      <td>0.057527</td>\n",
       "      <td>-1.781490</td>\n",
       "      <td>0.079953</td>\n",
       "    </tr>\n",
       "    <tr>\n",
       "      <th>107</th>\n",
       "      <td>trust_norm</td>\n",
       "      <td>0.038106</td>\n",
       "      <td>0.029795</td>\n",
       "      <td>1.782992</td>\n",
       "      <td>0.081895</td>\n",
       "    </tr>\n",
       "    <tr>\n",
       "      <th>32</th>\n",
       "      <td>MFCC_2_Mean</td>\n",
       "      <td>9.365529</td>\n",
       "      <td>11.200496</td>\n",
       "      <td>-1.761333</td>\n",
       "      <td>0.083067</td>\n",
       "    </tr>\n",
       "    <tr>\n",
       "      <th>36</th>\n",
       "      <td>MFCC_6_Mean</td>\n",
       "      <td>-1.694941</td>\n",
       "      <td>-3.707593</td>\n",
       "      <td>1.742089</td>\n",
       "      <td>0.086380</td>\n",
       "    </tr>\n",
       "    <tr>\n",
       "      <th>68</th>\n",
       "      <td>MFCC_12_Skew</td>\n",
       "      <td>-0.079257</td>\n",
       "      <td>0.004562</td>\n",
       "      <td>-1.733925</td>\n",
       "      <td>0.087754</td>\n",
       "    </tr>\n",
       "    <tr>\n",
       "      <th>95</th>\n",
       "      <td>Flatness_Mean</td>\n",
       "      <td>0.031316</td>\n",
       "      <td>0.021709</td>\n",
       "      <td>1.728049</td>\n",
       "      <td>0.088892</td>\n",
       "    </tr>\n",
       "    <tr>\n",
       "      <th>15</th>\n",
       "      <td>Teacher_Line_Count</td>\n",
       "      <td>22.029412</td>\n",
       "      <td>23.937500</td>\n",
       "      <td>-1.703262</td>\n",
       "      <td>0.093375</td>\n",
       "    </tr>\n",
       "  </tbody>\n",
       "</table>\n",
       "</div>"
      ],
      "text/plain": [
       "                    feature       mean_0       mean_1  t_statistic   p_value\n",
       "102  Zero_Crossing_Rate_Std     0.107811     0.095406     2.517768  0.014862\n",
       "90             Centroid_Std  1279.611541  1158.368319     2.129085  0.037580\n",
       "34              MFCC_4_Mean     7.070085     4.335195     1.975251  0.052709\n",
       "13        Student_Word_Rate     2.096393     2.253935    -1.875983  0.065382\n",
       "91           Bandwidth_Mean  1695.065860  1611.972062     1.869313  0.066158\n",
       "74          MFCC_5_Kurtosis     0.195105    -0.050614     1.837706  0.072161\n",
       "117                     PC0    -0.013901     0.057527    -1.781490  0.079953\n",
       "107              trust_norm     0.038106     0.029795     1.782992  0.081895\n",
       "32              MFCC_2_Mean     9.365529    11.200496    -1.761333  0.083067\n",
       "36              MFCC_6_Mean    -1.694941    -3.707593     1.742089  0.086380\n",
       "68             MFCC_12_Skew    -0.079257     0.004562    -1.733925  0.087754\n",
       "95            Flatness_Mean     0.031316     0.021709     1.728049  0.088892\n",
       "15       Teacher_Line_Count    22.029412    23.937500    -1.703262  0.093375"
      ]
     },
     "execution_count": 16,
     "metadata": {},
     "output_type": "execute_result"
    }
   ],
   "source": [
    "top_feats"
   ]
  },
  {
   "cell_type": "code",
   "execution_count": 17,
   "id": "d0b9ebfa-065e-4bae-a881-ef1e0451d80f",
   "metadata": {},
   "outputs": [],
   "source": [
    "# save out top features into .csv file\n",
    "\n",
    "top_feats.to_csv('Audio_Text_Top Features.csv')"
   ]
  },
  {
   "cell_type": "code",
   "execution_count": 18,
   "id": "54ffd2ec-2c3b-4a80-9c5c-c8025c727338",
   "metadata": {},
   "outputs": [],
   "source": [
    "# get top features into a list with ID and mindfulness\n",
    "\n",
    "top_feats = [f for f in top_feats['feature']]\n",
    "top_feats.append('ID')\n",
    "top_feats.append('mindfulness')"
   ]
  },
  {
   "cell_type": "code",
   "execution_count": 19,
   "id": "2385c2f7-11c9-4629-aed0-270ca9fa0fdf",
   "metadata": {},
   "outputs": [],
   "source": [
    "# train/test sets with top features\n",
    "\n",
    "train = train[top_feats]\n",
    "test = df[df['holdout']==1].drop('holdout', axis=1)\n",
    "test = test[top_feats]"
   ]
  },
  {
   "cell_type": "code",
   "execution_count": 20,
   "id": "9ec4e7d2-c956-4a37-b545-1aaa3b7d4ae0",
   "metadata": {},
   "outputs": [
    {
     "data": {
      "text/plain": [
       "((66, 15), (15, 15))"
      ]
     },
     "execution_count": 20,
     "metadata": {},
     "output_type": "execute_result"
    }
   ],
   "source": [
    "train.shape, test.shape"
   ]
  },
  {
   "cell_type": "code",
   "execution_count": 21,
   "id": "9f0a888a-de09-4c73-93ea-6346aeafc891",
   "metadata": {},
   "outputs": [
    {
     "data": {
      "text/html": [
       "<div>\n",
       "<style scoped>\n",
       "    .dataframe tbody tr th:only-of-type {\n",
       "        vertical-align: middle;\n",
       "    }\n",
       "\n",
       "    .dataframe tbody tr th {\n",
       "        vertical-align: top;\n",
       "    }\n",
       "\n",
       "    .dataframe thead th {\n",
       "        text-align: right;\n",
       "    }\n",
       "</style>\n",
       "<table border=\"1\" class=\"dataframe\">\n",
       "  <thead>\n",
       "    <tr style=\"text-align: right;\">\n",
       "      <th></th>\n",
       "      <th>Zero_Crossing_Rate_Std</th>\n",
       "      <th>Centroid_Std</th>\n",
       "      <th>MFCC_4_Mean</th>\n",
       "      <th>Student_Word_Rate</th>\n",
       "      <th>Bandwidth_Mean</th>\n",
       "      <th>MFCC_5_Kurtosis</th>\n",
       "      <th>PC0</th>\n",
       "      <th>trust_norm</th>\n",
       "      <th>MFCC_2_Mean</th>\n",
       "      <th>MFCC_6_Mean</th>\n",
       "      <th>MFCC_12_Skew</th>\n",
       "      <th>Flatness_Mean</th>\n",
       "      <th>Teacher_Line_Count</th>\n",
       "      <th>ID</th>\n",
       "      <th>mindfulness</th>\n",
       "    </tr>\n",
       "  </thead>\n",
       "  <tbody>\n",
       "    <tr>\n",
       "      <th>0</th>\n",
       "      <td>0.111820</td>\n",
       "      <td>1342.793978</td>\n",
       "      <td>8.994111</td>\n",
       "      <td>2.339405</td>\n",
       "      <td>1637.887678</td>\n",
       "      <td>-0.027963</td>\n",
       "      <td>-0.108105</td>\n",
       "      <td>0.036474</td>\n",
       "      <td>11.248416</td>\n",
       "      <td>3.552934</td>\n",
       "      <td>0.047610</td>\n",
       "      <td>0.019112</td>\n",
       "      <td>17</td>\n",
       "      <td>332</td>\n",
       "      <td>1</td>\n",
       "    </tr>\n",
       "    <tr>\n",
       "      <th>1</th>\n",
       "      <td>0.115759</td>\n",
       "      <td>1412.091525</td>\n",
       "      <td>7.795241</td>\n",
       "      <td>2.252683</td>\n",
       "      <td>1741.747397</td>\n",
       "      <td>-0.054601</td>\n",
       "      <td>0.324047</td>\n",
       "      <td>0.009901</td>\n",
       "      <td>9.074677</td>\n",
       "      <td>-0.395680</td>\n",
       "      <td>-0.148239</td>\n",
       "      <td>0.038517</td>\n",
       "      <td>23</td>\n",
       "      <td>348</td>\n",
       "      <td>1</td>\n",
       "    </tr>\n",
       "    <tr>\n",
       "      <th>3</th>\n",
       "      <td>0.117673</td>\n",
       "      <td>1391.276836</td>\n",
       "      <td>9.822735</td>\n",
       "      <td>1.901674</td>\n",
       "      <td>1710.442369</td>\n",
       "      <td>-0.104029</td>\n",
       "      <td>-0.076202</td>\n",
       "      <td>0.038005</td>\n",
       "      <td>9.608454</td>\n",
       "      <td>-1.317304</td>\n",
       "      <td>-0.206156</td>\n",
       "      <td>0.029412</td>\n",
       "      <td>26</td>\n",
       "      <td>320</td>\n",
       "      <td>1</td>\n",
       "    </tr>\n",
       "    <tr>\n",
       "      <th>6</th>\n",
       "      <td>0.101498</td>\n",
       "      <td>1315.081026</td>\n",
       "      <td>13.364434</td>\n",
       "      <td>1.762804</td>\n",
       "      <td>2019.452667</td>\n",
       "      <td>0.907372</td>\n",
       "      <td>-0.087677</td>\n",
       "      <td>0.043716</td>\n",
       "      <td>0.285001</td>\n",
       "      <td>3.789820</td>\n",
       "      <td>-0.297933</td>\n",
       "      <td>0.066644</td>\n",
       "      <td>29</td>\n",
       "      <td>314</td>\n",
       "      <td>1</td>\n",
       "    </tr>\n",
       "    <tr>\n",
       "      <th>7</th>\n",
       "      <td>0.087292</td>\n",
       "      <td>1057.137166</td>\n",
       "      <td>1.005453</td>\n",
       "      <td>1.839695</td>\n",
       "      <td>1501.139955</td>\n",
       "      <td>-0.631635</td>\n",
       "      <td>-0.036340</td>\n",
       "      <td>0.013834</td>\n",
       "      <td>11.030352</td>\n",
       "      <td>-4.901693</td>\n",
       "      <td>0.005384</td>\n",
       "      <td>0.004025</td>\n",
       "      <td>32</td>\n",
       "      <td>207</td>\n",
       "      <td>0</td>\n",
       "    </tr>\n",
       "  </tbody>\n",
       "</table>\n",
       "</div>"
      ],
      "text/plain": [
       "   Zero_Crossing_Rate_Std  Centroid_Std  MFCC_4_Mean  Student_Word_Rate  \\\n",
       "0                0.111820   1342.793978     8.994111           2.339405   \n",
       "1                0.115759   1412.091525     7.795241           2.252683   \n",
       "3                0.117673   1391.276836     9.822735           1.901674   \n",
       "6                0.101498   1315.081026    13.364434           1.762804   \n",
       "7                0.087292   1057.137166     1.005453           1.839695   \n",
       "\n",
       "   Bandwidth_Mean  MFCC_5_Kurtosis       PC0  trust_norm  MFCC_2_Mean  \\\n",
       "0     1637.887678        -0.027963 -0.108105    0.036474    11.248416   \n",
       "1     1741.747397        -0.054601  0.324047    0.009901     9.074677   \n",
       "3     1710.442369        -0.104029 -0.076202    0.038005     9.608454   \n",
       "6     2019.452667         0.907372 -0.087677    0.043716     0.285001   \n",
       "7     1501.139955        -0.631635 -0.036340    0.013834    11.030352   \n",
       "\n",
       "   MFCC_6_Mean  MFCC_12_Skew  Flatness_Mean  Teacher_Line_Count   ID  \\\n",
       "0     3.552934      0.047610       0.019112                  17  332   \n",
       "1    -0.395680     -0.148239       0.038517                  23  348   \n",
       "3    -1.317304     -0.206156       0.029412                  26  320   \n",
       "6     3.789820     -0.297933       0.066644                  29  314   \n",
       "7    -4.901693      0.005384       0.004025                  32  207   \n",
       "\n",
       "   mindfulness  \n",
       "0            1  \n",
       "1            1  \n",
       "3            1  \n",
       "6            1  \n",
       "7            0  "
      ]
     },
     "execution_count": 21,
     "metadata": {},
     "output_type": "execute_result"
    }
   ],
   "source": [
    "train.head()"
   ]
  },
  {
   "cell_type": "code",
   "execution_count": 22,
   "id": "e5b7f060-4161-45c3-b79c-bc0fca641e24",
   "metadata": {
    "tags": []
   },
   "outputs": [
    {
     "data": {
      "image/png": "[encoded data removed]",
      "text/plain": [
       "<Figure size 1080x1440 with 13 Axes>"
      ]
     },
     "metadata": {
      "needs_background": "light"
     },
     "output_type": "display_data"
    }
   ],
   "source": [
    "fig = plt.figure(figsize = (15, 20))\n",
    "j = 0\n",
    "for i in train.iloc[:,:-2]:\n",
    "    plt.subplot(5, 3, j+1)\n",
    "    j += 1\n",
    "    sns.distplot(train[i][train['mindfulness']==0], color='red', label = 'control')\n",
    "    sns.distplot(train[i][train['mindfulness']==1], color='blue', label = 'treatment')\n",
    "    plt.legend(loc='best')\n",
    "fig.suptitle('Top Features Distribution - Train Data')\n",
    "fig.tight_layout()\n",
    "fig.subplots_adjust(top=0.95)\n",
    "plt.show()"
   ]
  },
  {
   "cell_type": "markdown",
   "id": "3c1236cc-f0ac-44a9-9b70-056eb04e8cf6",
   "metadata": {},
   "source": [
    "### Modeling"
   ]
  },
  {
   "cell_type": "code",
   "execution_count": 23,
   "id": "36412ced-96e6-42db-8cde-f49f7dcc5bae",
   "metadata": {},
   "outputs": [],
   "source": [
    "# feature vectors & target variable\n",
    "\n",
    "X_train = train.drop(['mindfulness', 'ID'], axis=1)\n",
    "y_train = train['mindfulness']\n",
    "\n",
    "X_test = test.drop(['mindfulness', 'ID'], axis=1)\n",
    "y_test = test['mindfulness']"
   ]
  },
  {
   "cell_type": "code",
   "execution_count": 24,
   "id": "0833dd62-29fa-41aa-82aa-d5295be96445",
   "metadata": {},
   "outputs": [
    {
     "data": {
      "text/plain": [
       "((66, 13), (15, 13))"
      ]
     },
     "execution_count": 24,
     "metadata": {},
     "output_type": "execute_result"
    }
   ],
   "source": [
    "# check shape\n",
    "\n",
    "X_train.shape, X_test.shape"
   ]
  },
  {
   "cell_type": "markdown",
   "id": "b947288b-c5c6-4a32-81b8-b7840ad2ec27",
   "metadata": {},
   "source": [
    "#### Baseline Models"
   ]
  },
  {
   "cell_type": "code",
   "execution_count": 25,
   "id": "1f20b2d0-19de-4ecf-9819-b2a0900a6ffd",
   "metadata": {},
   "outputs": [],
   "source": [
    "# compare models \n",
    "models = []\n",
    "\n",
    "def classification_models(X_train, y_train):\n",
    "    \n",
    "    models.append(('Logistic Regression', LogisticRegression() ))\n",
    "    models.append( ('SVC',  SVC()) )\n",
    "    models.append( ('Naive Bayes',  GaussianNB()) )\n",
    "    models.append( ('KNN', KNeighborsClassifier()) )\n",
    "    models.append( ('Decision Tree', DecisionTreeClassifier()))\n",
    "    \n",
    "    model_names = []\n",
    "    model_outcomes = []\n",
    "    \n",
    "    for name, model in models:\n",
    "        results = cross_val_score(model, X_train, y_train, cv=5, scoring='accuracy')\n",
    "        \n",
    "        model_names.append(name)\n",
    "        model_outcomes.append(results.mean())\n",
    "        \n",
    "        # print(name, results.mean())\n",
    "        \n",
    "        model_df = pd.DataFrame(list(zip(model_names, model_outcomes)), columns =['Models', 'Train Accuracy'])\n",
    "        \n",
    "    return model_df\n",
    "        \n",
    "    # print(model_outcomes)       \n",
    "    "
   ]
  },
  {
   "cell_type": "code",
   "execution_count": 26,
   "id": "a73428c0-5040-4d28-a635-343bddd5d883",
   "metadata": {},
   "outputs": [],
   "source": [
    "train_results = pd.DataFrame()"
   ]
  },
  {
   "cell_type": "code",
   "execution_count": 27,
   "id": "b7e653da-e97a-46d9-8de5-f658a9e7507d",
   "metadata": {},
   "outputs": [],
   "source": [
    "train_results = classification_models(X_train, y_train)"
   ]
  },
  {
   "cell_type": "code",
   "execution_count": 28,
   "id": "c3d19b4a-8fa6-4ff7-80f7-9ef1a800eeb8",
   "metadata": {},
   "outputs": [
    {
     "data": {
      "text/html": [
       "<div>\n",
       "<style scoped>\n",
       "    .dataframe tbody tr th:only-of-type {\n",
       "        vertical-align: middle;\n",
       "    }\n",
       "\n",
       "    .dataframe tbody tr th {\n",
       "        vertical-align: top;\n",
       "    }\n",
       "\n",
       "    .dataframe thead th {\n",
       "        text-align: right;\n",
       "    }\n",
       "</style>\n",
       "<table border=\"1\" class=\"dataframe\">\n",
       "  <thead>\n",
       "    <tr style=\"text-align: right;\">\n",
       "      <th></th>\n",
       "      <th>Models</th>\n",
       "      <th>Train Accuracy</th>\n",
       "    </tr>\n",
       "  </thead>\n",
       "  <tbody>\n",
       "    <tr>\n",
       "      <th>0</th>\n",
       "      <td>Logistic Regression</td>\n",
       "      <td>0.6264</td>\n",
       "    </tr>\n",
       "    <tr>\n",
       "      <th>1</th>\n",
       "      <td>SVC</td>\n",
       "      <td>0.5791</td>\n",
       "    </tr>\n",
       "    <tr>\n",
       "      <th>2</th>\n",
       "      <td>Naive Bayes</td>\n",
       "      <td>0.6110</td>\n",
       "    </tr>\n",
       "    <tr>\n",
       "      <th>3</th>\n",
       "      <td>KNN</td>\n",
       "      <td>0.5615</td>\n",
       "    </tr>\n",
       "    <tr>\n",
       "      <th>4</th>\n",
       "      <td>Decision Tree</td>\n",
       "      <td>0.5615</td>\n",
       "    </tr>\n",
       "  </tbody>\n",
       "</table>\n",
       "</div>"
      ],
      "text/plain": [
       "                Models  Train Accuracy\n",
       "0  Logistic Regression          0.6264\n",
       "1                  SVC          0.5791\n",
       "2          Naive Bayes          0.6110\n",
       "3                  KNN          0.5615\n",
       "4        Decision Tree          0.5615"
      ]
     },
     "execution_count": 28,
     "metadata": {},
     "output_type": "execute_result"
    }
   ],
   "source": [
    "# return results for each model + training accuracy \n",
    "round(train_results, 4)"
   ]
  },
  {
   "cell_type": "code",
   "execution_count": 29,
   "id": "d7c4eb31-de5d-43b1-b0b1-10623563a76c",
   "metadata": {},
   "outputs": [],
   "source": [
    "# evaluation & prediction\n",
    "\n",
    "def eval_predict_models(X_train, X_test, y_train, y_test):\n",
    "    \n",
    "    model_names = []\n",
    "    model_outcomes = []\n",
    "\n",
    "    for name, model in models:\n",
    "        trainedmodel = model.fit(X_train, y_train)\n",
    "    \n",
    "        # prediction\n",
    "        ypredict = trainedmodel.predict(X_test)\n",
    "    \n",
    "        acc = accuracy_score(y_test, ypredict)\n",
    "        classreport = classification_report(y_test, ypredict)\n",
    "        confMat = confusion_matrix(y_test, ypredict)\n",
    "        \n",
    "        model_names.append(name)\n",
    "        model_outcomes.append(acc) \n",
    "        \n",
    "        print('Model Type: {}'.format(name))\n",
    "        print('The Classification Report:\\n {}'.format(classreport))\n",
    "        print('The Confusion Matrix:\\n {}'.format(confMat))\n",
    "        print('\\n************')\n",
    "    \n",
    "        model_df = pd.DataFrame((model_names, model_outcomes)).T\n",
    "        model_df.columns = ['Models', 'Test Accuracy']\n",
    "    \n",
    "    return model_df"
   ]
  },
  {
   "cell_type": "code",
   "execution_count": 30,
   "id": "8178e679-c8b6-44c3-91ed-1d468e850f1d",
   "metadata": {},
   "outputs": [],
   "source": [
    "test_results = pd.DataFrame()"
   ]
  },
  {
   "cell_type": "code",
   "execution_count": 31,
   "id": "9257d7a9-1c97-4505-bdb6-4663a3dfa25d",
   "metadata": {},
   "outputs": [
    {
     "name": "stdout",
     "output_type": "stream",
     "text": [
      "Model Type: Logistic Regression\n",
      "The Classification Report:\n",
      "               precision    recall  f1-score   support\n",
      "\n",
      "           0       0.56      0.62      0.59         8\n",
      "           1       0.50      0.43      0.46         7\n",
      "\n",
      "    accuracy                           0.53        15\n",
      "   macro avg       0.53      0.53      0.52        15\n",
      "weighted avg       0.53      0.53      0.53        15\n",
      "\n",
      "The Confusion Matrix:\n",
      " [[5 3]\n",
      " [4 3]]\n",
      "\n",
      "************\n",
      "Model Type: SVC\n",
      "The Classification Report:\n",
      "               precision    recall  f1-score   support\n",
      "\n",
      "           0       0.50      0.75      0.60         8\n",
      "           1       0.33      0.14      0.20         7\n",
      "\n",
      "    accuracy                           0.47        15\n",
      "   macro avg       0.42      0.45      0.40        15\n",
      "weighted avg       0.42      0.47      0.41        15\n",
      "\n",
      "The Confusion Matrix:\n",
      " [[6 2]\n",
      " [6 1]]\n",
      "\n",
      "************\n",
      "Model Type: Naive Bayes\n",
      "The Classification Report:\n",
      "               precision    recall  f1-score   support\n",
      "\n",
      "           0       0.43      0.38      0.40         8\n",
      "           1       0.38      0.43      0.40         7\n",
      "\n",
      "    accuracy                           0.40        15\n",
      "   macro avg       0.40      0.40      0.40        15\n",
      "weighted avg       0.40      0.40      0.40        15\n",
      "\n",
      "The Confusion Matrix:\n",
      " [[3 5]\n",
      " [4 3]]\n",
      "\n",
      "************\n",
      "Model Type: KNN\n",
      "The Classification Report:\n",
      "               precision    recall  f1-score   support\n",
      "\n",
      "           0       0.43      0.38      0.40         8\n",
      "           1       0.38      0.43      0.40         7\n",
      "\n",
      "    accuracy                           0.40        15\n",
      "   macro avg       0.40      0.40      0.40        15\n",
      "weighted avg       0.40      0.40      0.40        15\n",
      "\n",
      "The Confusion Matrix:\n",
      " [[3 5]\n",
      " [4 3]]\n",
      "\n",
      "************\n",
      "Model Type: Decision Tree\n",
      "The Classification Report:\n",
      "               precision    recall  f1-score   support\n",
      "\n",
      "           0       0.50      0.38      0.43         8\n",
      "           1       0.44      0.57      0.50         7\n",
      "\n",
      "    accuracy                           0.47        15\n",
      "   macro avg       0.47      0.47      0.46        15\n",
      "weighted avg       0.47      0.47      0.46        15\n",
      "\n",
      "The Confusion Matrix:\n",
      " [[3 5]\n",
      " [3 4]]\n",
      "\n",
      "************\n"
     ]
    }
   ],
   "source": [
    "test_results = eval_predict_models(X_train, X_test, y_train, y_test)"
   ]
  },
  {
   "cell_type": "code",
   "execution_count": 32,
   "id": "83aeaf00-4b6b-4728-8fc1-43f3eb5dfec8",
   "metadata": {},
   "outputs": [
    {
     "data": {
      "text/html": [
       "<div>\n",
       "<style scoped>\n",
       "    .dataframe tbody tr th:only-of-type {\n",
       "        vertical-align: middle;\n",
       "    }\n",
       "\n",
       "    .dataframe tbody tr th {\n",
       "        vertical-align: top;\n",
       "    }\n",
       "\n",
       "    .dataframe thead th {\n",
       "        text-align: right;\n",
       "    }\n",
       "</style>\n",
       "<table border=\"1\" class=\"dataframe\">\n",
       "  <thead>\n",
       "    <tr style=\"text-align: right;\">\n",
       "      <th></th>\n",
       "      <th>Models</th>\n",
       "      <th>Train Accuracy</th>\n",
       "      <th>Test Accuracy</th>\n",
       "    </tr>\n",
       "  </thead>\n",
       "  <tbody>\n",
       "    <tr>\n",
       "      <th>0</th>\n",
       "      <td>Logistic Regression</td>\n",
       "      <td>0.6264</td>\n",
       "      <td>0.533333</td>\n",
       "    </tr>\n",
       "    <tr>\n",
       "      <th>1</th>\n",
       "      <td>SVC</td>\n",
       "      <td>0.5791</td>\n",
       "      <td>0.466667</td>\n",
       "    </tr>\n",
       "    <tr>\n",
       "      <th>2</th>\n",
       "      <td>Naive Bayes</td>\n",
       "      <td>0.6110</td>\n",
       "      <td>0.4</td>\n",
       "    </tr>\n",
       "    <tr>\n",
       "      <th>3</th>\n",
       "      <td>KNN</td>\n",
       "      <td>0.5615</td>\n",
       "      <td>0.4</td>\n",
       "    </tr>\n",
       "    <tr>\n",
       "      <th>4</th>\n",
       "      <td>Decision Tree</td>\n",
       "      <td>0.5615</td>\n",
       "      <td>0.466667</td>\n",
       "    </tr>\n",
       "  </tbody>\n",
       "</table>\n",
       "</div>"
      ],
      "text/plain": [
       "                Models  Train Accuracy Test Accuracy\n",
       "0  Logistic Regression          0.6264      0.533333\n",
       "1                  SVC          0.5791      0.466667\n",
       "2          Naive Bayes          0.6110           0.4\n",
       "3                  KNN          0.5615           0.4\n",
       "4        Decision Tree          0.5615      0.466667"
      ]
     },
     "execution_count": 32,
     "metadata": {},
     "output_type": "execute_result"
    }
   ],
   "source": [
    "model_results = train_results.merge(test_results, on='Models')\n",
    "round(model_results, 4)"
   ]
  },
  {
   "cell_type": "markdown",
   "id": "a12b7c90-8f80-41d0-9368-ed560c647a03",
   "metadata": {},
   "source": [
    "Logistic Regression had the best performing model on the test data, however with the accuracy score still at 0.53, it indicates that the model does no better than just a random guess. "
   ]
  },
  {
   "cell_type": "markdown",
   "id": "50da71e3-7406-48f5-a23f-5135c886cf04",
   "metadata": {},
   "source": [
    "### Hyperparameter Tuning "
   ]
  },
  {
   "cell_type": "markdown",
   "id": "71f25f54-34ea-4b53-a068-b468f2d438a0",
   "metadata": {},
   "source": [
    "#### Logistic Regression"
   ]
  },
  {
   "cell_type": "code",
   "execution_count": 33,
   "id": "46923aa0-a060-42f1-8802-69c832d1437b",
   "metadata": {},
   "outputs": [],
   "source": [
    "logreg = LogisticRegression().fit(X_train, y_train)"
   ]
  },
  {
   "cell_type": "code",
   "execution_count": 36,
   "id": "550c662e-b3df-46d1-8b6c-c356b1e78541",
   "metadata": {},
   "outputs": [
    {
     "data": {
      "text/html": [
       "<style>#sk-container-id-1 {color: black;background-color: white;}#sk-container-id-1 pre{padding: 0;}#sk-container-id-1 div.sk-toggleable {background-color: white;}#sk-container-id-1 label.sk-toggleable__label {cursor: pointer;display: block;width: 100%;margin-bottom: 0;padding: 0.3em;box-sizing: border-box;text-align: center;}#sk-container-id-1 label.sk-toggleable__label-arrow:before {content: \"▸\";float: left;margin-right: 0.25em;color: #696969;}#sk-container-id-1 label.sk-toggleable__label-arrow:hover:before {color: black;}#sk-container-id-1 div.sk-estimator:hover label.sk-toggleable__label-arrow:before {color: black;}#sk-container-id-1 div.sk-toggleable__content {max-height: 0;max-width: 0;overflow: hidden;text-align: left;background-color: #f0f8ff;}#sk-container-id-1 div.sk-toggleable__content pre {margin: 0.2em;color: black;border-radius: 0.25em;background-color: #f0f8ff;}#sk-container-id-1 input.sk-toggleable__control:checked~div.sk-toggleable__content {max-height: 200px;max-width: 100%;overflow: auto;}#sk-container-id-1 input.sk-toggleable__control:checked~label.sk-toggleable__label-arrow:before {content: \"▾\";}#sk-container-id-1 div.sk-estimator input.sk-toggleable__control:checked~label.sk-toggleable__label {background-color: #d4ebff;}#sk-container-id-1 div.sk-label input.sk-toggleable__control:checked~label.sk-toggleable__label {background-color: #d4ebff;}#sk-container-id-1 input.sk-hidden--visually {border: 0;clip: rect(1px 1px 1px 1px);clip: rect(1px, 1px, 1px, 1px);height: 1px;margin: -1px;overflow: hidden;padding: 0;position: absolute;width: 1px;}#sk-container-id-1 div.sk-estimator {font-family: monospace;background-color: #f0f8ff;border: 1px dotted black;border-radius: 0.25em;box-sizing: border-box;margin-bottom: 0.5em;}#sk-container-id-1 div.sk-estimator:hover {background-color: #d4ebff;}#sk-container-id-1 div.sk-parallel-item::after {content: \"\";width: 100%;border-bottom: 1px solid gray;flex-grow: 1;}#sk-container-id-1 div.sk-label:hover label.sk-toggleable__label {background-color: #d4ebff;}#sk-container-id-1 div.sk-serial::before {content: \"\";position: absolute;border-left: 1px solid gray;box-sizing: border-box;top: 0;bottom: 0;left: 50%;z-index: 0;}#sk-container-id-1 div.sk-serial {display: flex;flex-direction: column;align-items: center;background-color: white;padding-right: 0.2em;padding-left: 0.2em;position: relative;}#sk-container-id-1 div.sk-item {position: relative;z-index: 1;}#sk-container-id-1 div.sk-parallel {display: flex;align-items: stretch;justify-content: center;background-color: white;position: relative;}#sk-container-id-1 div.sk-item::before, #sk-container-id-1 div.sk-parallel-item::before {content: \"\";position: absolute;border-left: 1px solid gray;box-sizing: border-box;top: 0;bottom: 0;left: 50%;z-index: -1;}#sk-container-id-1 div.sk-parallel-item {display: flex;flex-direction: column;z-index: 1;position: relative;background-color: white;}#sk-container-id-1 div.sk-parallel-item:first-child::after {align-self: flex-end;width: 50%;}#sk-container-id-1 div.sk-parallel-item:last-child::after {align-self: flex-start;width: 50%;}#sk-container-id-1 div.sk-parallel-item:only-child::after {width: 0;}#sk-container-id-1 div.sk-dashed-wrapped {border: 1px dashed gray;margin: 0 0.4em 0.5em 0.4em;box-sizing: border-box;padding-bottom: 0.4em;background-color: white;}#sk-container-id-1 div.sk-label label {font-family: monospace;font-weight: bold;display: inline-block;line-height: 1.2em;}#sk-container-id-1 div.sk-label-container {text-align: center;}#sk-container-id-1 div.sk-container {/* jupyter's `normalize.less` sets `[hidden] { display: none; }` but bootstrap.min.css set `[hidden] { display: none !important; }` so we also need the `!important` here to be able to override the default hidden behavior on the sphinx rendered scikit-learn.org. See: https://github.com/scikit-learn/scikit-learn/issues/21755 */display: inline-block !important;position: relative;}#sk-container-id-1 div.sk-text-repr-fallback {display: none;}</style><div id=\"sk-container-id-1\" class=\"sk-top-container\"><div class=\"sk-text-repr-fallback\"><pre>GridSearchCV(cv=5, estimator=LogisticRegression(),\n",
       "             param_grid={&#x27;C&#x27;: [0.001, 0.01, 0.1, 1, 10, 100],\n",
       "                         &#x27;penalty&#x27;: [&#x27;l1&#x27;, &#x27;l2&#x27;, &#x27;none&#x27;],\n",
       "                         &#x27;solver&#x27;: [&#x27;liblinear&#x27;, &#x27;newton-cg&#x27;]},\n",
       "             scoring=&#x27;accuracy&#x27;)</pre><b>In a Jupyter environment, please rerun this cell to show the HTML representation or trust the notebook. <br />On GitHub, the HTML representation is unable to render, please try loading this page with nbviewer.org.</b></div><div class=\"sk-container\" hidden><div class=\"sk-item sk-dashed-wrapped\"><div class=\"sk-label-container\"><div class=\"sk-label sk-toggleable\"><input class=\"sk-toggleable__control sk-hidden--visually\" id=\"sk-estimator-id-1\" type=\"checkbox\" ><label for=\"sk-estimator-id-1\" class=\"sk-toggleable__label sk-toggleable__label-arrow\">GridSearchCV</label><div class=\"sk-toggleable__content\"><pre>GridSearchCV(cv=5, estimator=LogisticRegression(),\n",
       "             param_grid={&#x27;C&#x27;: [0.001, 0.01, 0.1, 1, 10, 100],\n",
       "                         &#x27;penalty&#x27;: [&#x27;l1&#x27;, &#x27;l2&#x27;, &#x27;none&#x27;],\n",
       "                         &#x27;solver&#x27;: [&#x27;liblinear&#x27;, &#x27;newton-cg&#x27;]},\n",
       "             scoring=&#x27;accuracy&#x27;)</pre></div></div></div><div class=\"sk-parallel\"><div class=\"sk-parallel-item\"><div class=\"sk-item\"><div class=\"sk-label-container\"><div class=\"sk-label sk-toggleable\"><input class=\"sk-toggleable__control sk-hidden--visually\" id=\"sk-estimator-id-2\" type=\"checkbox\" ><label for=\"sk-estimator-id-2\" class=\"sk-toggleable__label sk-toggleable__label-arrow\">estimator: LogisticRegression</label><div class=\"sk-toggleable__content\"><pre>LogisticRegression()</pre></div></div></div><div class=\"sk-serial\"><div class=\"sk-item\"><div class=\"sk-estimator sk-toggleable\"><input class=\"sk-toggleable__control sk-hidden--visually\" id=\"sk-estimator-id-3\" type=\"checkbox\" ><label for=\"sk-estimator-id-3\" class=\"sk-toggleable__label sk-toggleable__label-arrow\">LogisticRegression</label><div class=\"sk-toggleable__content\"><pre>LogisticRegression()</pre></div></div></div></div></div></div></div></div></div></div>"
      ],
      "text/plain": [
       "GridSearchCV(cv=5, estimator=LogisticRegression(),\n",
       "             param_grid={'C': [0.001, 0.01, 0.1, 1, 10, 100],\n",
       "                         'penalty': ['l1', 'l2', 'none'],\n",
       "                         'solver': ['liblinear', 'newton-cg']},\n",
       "             scoring='accuracy')"
      ]
     },
     "execution_count": 36,
     "metadata": {},
     "output_type": "execute_result"
    }
   ],
   "source": [
    "logreg_params = {'penalty': ['l1', 'l2', 'none'],\n",
    "                 'C': [0.001, 0.01, 0.1, 1, 10, 100],\n",
    "                 'solver': ['liblinear', 'newton-cg']}\n",
    "\n",
    "logreg_clf = GridSearchCV(estimator=logreg, \n",
    "                     param_grid=logreg_params, \n",
    "                     cv=5,\n",
    "                     scoring='accuracy')\n",
    "\n",
    "logreg_clf.fit(X_train, y_train)"
   ]
  },
  {
   "cell_type": "code",
   "execution_count": 37,
   "id": "eb6769d5-511b-4b72-be8a-f5fe04481d16",
   "metadata": {},
   "outputs": [
    {
     "data": {
      "text/plain": [
       "{'C': 100, 'penalty': 'l1', 'solver': 'liblinear'}"
      ]
     },
     "execution_count": 37,
     "metadata": {},
     "output_type": "execute_result"
    }
   ],
   "source": [
    "logreg_clf.best_params_"
   ]
  },
  {
   "cell_type": "code",
   "execution_count": 38,
   "id": "1043e28f-ea53-44b6-95a6-0221aca2a1a6",
   "metadata": {},
   "outputs": [
    {
     "data": {
      "text/plain": [
       "0.6692307692307693"
      ]
     },
     "execution_count": 38,
     "metadata": {},
     "output_type": "execute_result"
    }
   ],
   "source": [
    "logreg_clf.best_score_"
   ]
  },
  {
   "cell_type": "code",
   "execution_count": 39,
   "id": "9c95e87c-42ec-495f-abdc-9bb1e18857ce",
   "metadata": {},
   "outputs": [],
   "source": [
    "logreg_best = LogisticRegression(penalty='l1', solver='liblinear', C=100).fit(X_train, y_train)"
   ]
  },
  {
   "cell_type": "code",
   "execution_count": 40,
   "id": "371f6bd1-c16a-4c91-9bfb-719d1915dfbf",
   "metadata": {},
   "outputs": [
    {
     "data": {
      "text/plain": [
       "0.4666666666666667"
      ]
     },
     "execution_count": 40,
     "metadata": {},
     "output_type": "execute_result"
    }
   ],
   "source": [
    "logreg_pred = logreg_best.predict(X_test)\n",
    "logreg_acc = accuracy_score(y_test, logreg_pred)\n",
    "logreg_acc"
   ]
  },
  {
   "cell_type": "code",
   "execution_count": 41,
   "id": "948b5baf-0a1b-4f2f-985a-4b64d4d34e7f",
   "metadata": {},
   "outputs": [
    {
     "data": {
      "text/plain": [
       "0.7272727272727273"
      ]
     },
     "execution_count": 41,
     "metadata": {},
     "output_type": "execute_result"
    }
   ],
   "source": [
    "logreg_pred_train = logreg_best.predict(X_train)\n",
    "logreg_train_acc = accuracy_score(y_train, logreg_pred_train)\n",
    "logreg_train_acc"
   ]
  },
  {
   "cell_type": "code",
   "execution_count": 42,
   "id": "a8792790-3b63-4649-9371-a94b250ee998",
   "metadata": {},
   "outputs": [
    {
     "data": {
      "text/plain": [
       "0.6692307692307693"
      ]
     },
     "execution_count": 42,
     "metadata": {},
     "output_type": "execute_result"
    }
   ],
   "source": [
    "logreg_cv = cross_val_score(logreg_best, X_train, y_train, cv=5, scoring='accuracy').mean()\n",
    "logreg_cv"
   ]
  },
  {
   "cell_type": "code",
   "execution_count": 45,
   "id": "b0b88088-e3aa-4f52-9ef4-ab340f129434",
   "metadata": {},
   "outputs": [
    {
     "data": {
      "text/plain": [
       "['Logistic Regression', 0.6692, 0.4667]"
      ]
     },
     "execution_count": 45,
     "metadata": {},
     "output_type": "execute_result"
    }
   ],
   "source": [
    "logreg_results = ['Logistic Regression', round(logreg_cv, 4), round(logreg_acc, 4)]\n",
    "logreg_results"
   ]
  },
  {
   "cell_type": "markdown",
   "id": "2d522bb6-13cc-4557-ad8f-a6fc5f3ba386",
   "metadata": {},
   "source": [
    "#### SVC"
   ]
  },
  {
   "cell_type": "code",
   "execution_count": 46,
   "id": "bff504c4-5308-4375-8efc-44de5e8b6e39",
   "metadata": {},
   "outputs": [],
   "source": [
    "svc = SVC().fit(X_train, y_train)"
   ]
  },
  {
   "cell_type": "code",
   "execution_count": 47,
   "id": "de7978fa-ab8d-4b37-a1e7-11be1d827d51",
   "metadata": {},
   "outputs": [
    {
     "data": {
      "text/html": [
       "<style>#sk-container-id-2 {color: black;background-color: white;}#sk-container-id-2 pre{padding: 0;}#sk-container-id-2 div.sk-toggleable {background-color: white;}#sk-container-id-2 label.sk-toggleable__label {cursor: pointer;display: block;width: 100%;margin-bottom: 0;padding: 0.3em;box-sizing: border-box;text-align: center;}#sk-container-id-2 label.sk-toggleable__label-arrow:before {content: \"▸\";float: left;margin-right: 0.25em;color: #696969;}#sk-container-id-2 label.sk-toggleable__label-arrow:hover:before {color: black;}#sk-container-id-2 div.sk-estimator:hover label.sk-toggleable__label-arrow:before {color: black;}#sk-container-id-2 div.sk-toggleable__content {max-height: 0;max-width: 0;overflow: hidden;text-align: left;background-color: #f0f8ff;}#sk-container-id-2 div.sk-toggleable__content pre {margin: 0.2em;color: black;border-radius: 0.25em;background-color: #f0f8ff;}#sk-container-id-2 input.sk-toggleable__control:checked~div.sk-toggleable__content {max-height: 200px;max-width: 100%;overflow: auto;}#sk-container-id-2 input.sk-toggleable__control:checked~label.sk-toggleable__label-arrow:before {content: \"▾\";}#sk-container-id-2 div.sk-estimator input.sk-toggleable__control:checked~label.sk-toggleable__label {background-color: #d4ebff;}#sk-container-id-2 div.sk-label input.sk-toggleable__control:checked~label.sk-toggleable__label {background-color: #d4ebff;}#sk-container-id-2 input.sk-hidden--visually {border: 0;clip: rect(1px 1px 1px 1px);clip: rect(1px, 1px, 1px, 1px);height: 1px;margin: -1px;overflow: hidden;padding: 0;position: absolute;width: 1px;}#sk-container-id-2 div.sk-estimator {font-family: monospace;background-color: #f0f8ff;border: 1px dotted black;border-radius: 0.25em;box-sizing: border-box;margin-bottom: 0.5em;}#sk-container-id-2 div.sk-estimator:hover {background-color: #d4ebff;}#sk-container-id-2 div.sk-parallel-item::after {content: \"\";width: 100%;border-bottom: 1px solid gray;flex-grow: 1;}#sk-container-id-2 div.sk-label:hover label.sk-toggleable__label {background-color: #d4ebff;}#sk-container-id-2 div.sk-serial::before {content: \"\";position: absolute;border-left: 1px solid gray;box-sizing: border-box;top: 0;bottom: 0;left: 50%;z-index: 0;}#sk-container-id-2 div.sk-serial {display: flex;flex-direction: column;align-items: center;background-color: white;padding-right: 0.2em;padding-left: 0.2em;position: relative;}#sk-container-id-2 div.sk-item {position: relative;z-index: 1;}#sk-container-id-2 div.sk-parallel {display: flex;align-items: stretch;justify-content: center;background-color: white;position: relative;}#sk-container-id-2 div.sk-item::before, #sk-container-id-2 div.sk-parallel-item::before {content: \"\";position: absolute;border-left: 1px solid gray;box-sizing: border-box;top: 0;bottom: 0;left: 50%;z-index: -1;}#sk-container-id-2 div.sk-parallel-item {display: flex;flex-direction: column;z-index: 1;position: relative;background-color: white;}#sk-container-id-2 div.sk-parallel-item:first-child::after {align-self: flex-end;width: 50%;}#sk-container-id-2 div.sk-parallel-item:last-child::after {align-self: flex-start;width: 50%;}#sk-container-id-2 div.sk-parallel-item:only-child::after {width: 0;}#sk-container-id-2 div.sk-dashed-wrapped {border: 1px dashed gray;margin: 0 0.4em 0.5em 0.4em;box-sizing: border-box;padding-bottom: 0.4em;background-color: white;}#sk-container-id-2 div.sk-label label {font-family: monospace;font-weight: bold;display: inline-block;line-height: 1.2em;}#sk-container-id-2 div.sk-label-container {text-align: center;}#sk-container-id-2 div.sk-container {/* jupyter's `normalize.less` sets `[hidden] { display: none; }` but bootstrap.min.css set `[hidden] { display: none !important; }` so we also need the `!important` here to be able to override the default hidden behavior on the sphinx rendered scikit-learn.org. See: https://github.com/scikit-learn/scikit-learn/issues/21755 */display: inline-block !important;position: relative;}#sk-container-id-2 div.sk-text-repr-fallback {display: none;}</style><div id=\"sk-container-id-2\" class=\"sk-top-container\"><div class=\"sk-text-repr-fallback\"><pre>GridSearchCV(cv=5, estimator=SVC(),\n",
       "             param_grid={&#x27;C&#x27;: [0.001, 0.01, 0.1, 1, 10, 100, 1000],\n",
       "                         &#x27;kernel&#x27;: [&#x27;linear&#x27;, &#x27;rbf&#x27;]},\n",
       "             scoring=&#x27;accuracy&#x27;)</pre><b>In a Jupyter environment, please rerun this cell to show the HTML representation or trust the notebook. <br />On GitHub, the HTML representation is unable to render, please try loading this page with nbviewer.org.</b></div><div class=\"sk-container\" hidden><div class=\"sk-item sk-dashed-wrapped\"><div class=\"sk-label-container\"><div class=\"sk-label sk-toggleable\"><input class=\"sk-toggleable__control sk-hidden--visually\" id=\"sk-estimator-id-4\" type=\"checkbox\" ><label for=\"sk-estimator-id-4\" class=\"sk-toggleable__label sk-toggleable__label-arrow\">GridSearchCV</label><div class=\"sk-toggleable__content\"><pre>GridSearchCV(cv=5, estimator=SVC(),\n",
       "             param_grid={&#x27;C&#x27;: [0.001, 0.01, 0.1, 1, 10, 100, 1000],\n",
       "                         &#x27;kernel&#x27;: [&#x27;linear&#x27;, &#x27;rbf&#x27;]},\n",
       "             scoring=&#x27;accuracy&#x27;)</pre></div></div></div><div class=\"sk-parallel\"><div class=\"sk-parallel-item\"><div class=\"sk-item\"><div class=\"sk-label-container\"><div class=\"sk-label sk-toggleable\"><input class=\"sk-toggleable__control sk-hidden--visually\" id=\"sk-estimator-id-5\" type=\"checkbox\" ><label for=\"sk-estimator-id-5\" class=\"sk-toggleable__label sk-toggleable__label-arrow\">estimator: SVC</label><div class=\"sk-toggleable__content\"><pre>SVC()</pre></div></div></div><div class=\"sk-serial\"><div class=\"sk-item\"><div class=\"sk-estimator sk-toggleable\"><input class=\"sk-toggleable__control sk-hidden--visually\" id=\"sk-estimator-id-6\" type=\"checkbox\" ><label for=\"sk-estimator-id-6\" class=\"sk-toggleable__label sk-toggleable__label-arrow\">SVC</label><div class=\"sk-toggleable__content\"><pre>SVC()</pre></div></div></div></div></div></div></div></div></div></div>"
      ],
      "text/plain": [
       "GridSearchCV(cv=5, estimator=SVC(),\n",
       "             param_grid={'C': [0.001, 0.01, 0.1, 1, 10, 100, 1000],\n",
       "                         'kernel': ['linear', 'rbf']},\n",
       "             scoring='accuracy')"
      ]
     },
     "execution_count": 47,
     "metadata": {},
     "output_type": "execute_result"
    }
   ],
   "source": [
    "svc_params = {'kernel': ['linear', 'rbf'],\n",
    "                     'C': [0.001, 0.01, 0.1, 1, 10, 100, 1000]}\n",
    "\n",
    "svc_clf = GridSearchCV(estimator=svc, \n",
    "                     param_grid=svc_params, \n",
    "                     cv=5,\n",
    "                     scoring='accuracy')\n",
    "\n",
    "svc_clf.fit(X_train, y_train)"
   ]
  },
  {
   "cell_type": "code",
   "execution_count": 48,
   "id": "b9f93ad1-42ed-4799-bc29-394b3cf07f7b",
   "metadata": {},
   "outputs": [
    {
     "data": {
      "text/plain": [
       "{'C': 0.01, 'kernel': 'linear'}"
      ]
     },
     "execution_count": 48,
     "metadata": {},
     "output_type": "execute_result"
    }
   ],
   "source": [
    "svc_clf.best_params_"
   ]
  },
  {
   "cell_type": "code",
   "execution_count": 49,
   "id": "cea05d08-de7a-49a6-9b45-442a1caae8cd",
   "metadata": {},
   "outputs": [
    {
     "data": {
      "text/plain": [
       "0.610989010989011"
      ]
     },
     "execution_count": 49,
     "metadata": {},
     "output_type": "execute_result"
    }
   ],
   "source": [
    "svc_clf.best_score_"
   ]
  },
  {
   "cell_type": "code",
   "execution_count": 50,
   "id": "9e2f0c1c-298a-4be1-82b3-724dcc5f687b",
   "metadata": {},
   "outputs": [],
   "source": [
    "svc_best = SVC(kernel='linear', C=0.01).fit(X_train, y_train)"
   ]
  },
  {
   "cell_type": "code",
   "execution_count": 51,
   "id": "d71a9851-f5c2-4c88-8831-d950294ef83c",
   "metadata": {},
   "outputs": [
    {
     "data": {
      "text/plain": [
       "0.5333333333333333"
      ]
     },
     "execution_count": 51,
     "metadata": {},
     "output_type": "execute_result"
    }
   ],
   "source": [
    "svc_pred = svc_best.predict(X_test)\n",
    "svc_acc = accuracy_score(y_test, svc_pred)\n",
    "svc_acc"
   ]
  },
  {
   "cell_type": "code",
   "execution_count": 52,
   "id": "46020e7d-4322-4c10-8994-3842c5d2be4a",
   "metadata": {},
   "outputs": [
    {
     "data": {
      "text/plain": [
       "0.6212121212121212"
      ]
     },
     "execution_count": 52,
     "metadata": {},
     "output_type": "execute_result"
    }
   ],
   "source": [
    "svc_pred_train = svc_best.predict(X_train)\n",
    "svc_pred_acc = accuracy_score(y_train, svc_pred_train)\n",
    "svc_pred_acc"
   ]
  },
  {
   "cell_type": "code",
   "execution_count": 53,
   "id": "481f52c9-43a6-4b56-ab26-9d745b2a64eb",
   "metadata": {},
   "outputs": [
    {
     "data": {
      "text/plain": [
       "0.610989010989011"
      ]
     },
     "execution_count": 53,
     "metadata": {},
     "output_type": "execute_result"
    }
   ],
   "source": [
    "svc_cv = cross_val_score(svc_best, X_train, y_train, cv=5, scoring='accuracy').mean()\n",
    "svc_cv"
   ]
  },
  {
   "cell_type": "code",
   "execution_count": 54,
   "id": "b6ca28dd-5c84-4453-aa7b-9c150512e4e6",
   "metadata": {},
   "outputs": [
    {
     "data": {
      "text/plain": [
       "['SVC', 0.611, 0.5333]"
      ]
     },
     "execution_count": 54,
     "metadata": {},
     "output_type": "execute_result"
    }
   ],
   "source": [
    "svc_results = ['SVC', round(svc_cv, 4), round(svc_acc, 4)]\n",
    "svc_results"
   ]
  },
  {
   "cell_type": "markdown",
   "id": "37d6ed2c-be49-4358-8328-20a2dd5da522",
   "metadata": {},
   "source": [
    "#### Gaussian Naive Bayes"
   ]
  },
  {
   "cell_type": "code",
   "execution_count": 55,
   "id": "cea42383-e3e4-45e6-abf6-7d0c6b38e1c7",
   "metadata": {},
   "outputs": [],
   "source": [
    "gnb = GaussianNB().fit(X_train, y_train)"
   ]
  },
  {
   "cell_type": "code",
   "execution_count": 56,
   "id": "b86785dd-e5bf-45cf-b02c-a5a08c2e2b03",
   "metadata": {},
   "outputs": [],
   "source": [
    "cv_method = RepeatedStratifiedKFold(n_splits=5, \n",
    "                                    n_repeats=3, \n",
    "                                    random_state=0)"
   ]
  },
  {
   "cell_type": "code",
   "execution_count": 57,
   "id": "f0654490-9e68-4b99-9939-a4a9eff141e2",
   "metadata": {},
   "outputs": [
    {
     "data": {
      "text/html": [
       "<style>#sk-container-id-3 {color: black;background-color: white;}#sk-container-id-3 pre{padding: 0;}#sk-container-id-3 div.sk-toggleable {background-color: white;}#sk-container-id-3 label.sk-toggleable__label {cursor: pointer;display: block;width: 100%;margin-bottom: 0;padding: 0.3em;box-sizing: border-box;text-align: center;}#sk-container-id-3 label.sk-toggleable__label-arrow:before {content: \"▸\";float: left;margin-right: 0.25em;color: #696969;}#sk-container-id-3 label.sk-toggleable__label-arrow:hover:before {color: black;}#sk-container-id-3 div.sk-estimator:hover label.sk-toggleable__label-arrow:before {color: black;}#sk-container-id-3 div.sk-toggleable__content {max-height: 0;max-width: 0;overflow: hidden;text-align: left;background-color: #f0f8ff;}#sk-container-id-3 div.sk-toggleable__content pre {margin: 0.2em;color: black;border-radius: 0.25em;background-color: #f0f8ff;}#sk-container-id-3 input.sk-toggleable__control:checked~div.sk-toggleable__content {max-height: 200px;max-width: 100%;overflow: auto;}#sk-container-id-3 input.sk-toggleable__control:checked~label.sk-toggleable__label-arrow:before {content: \"▾\";}#sk-container-id-3 div.sk-estimator input.sk-toggleable__control:checked~label.sk-toggleable__label {background-color: #d4ebff;}#sk-container-id-3 div.sk-label input.sk-toggleable__control:checked~label.sk-toggleable__label {background-color: #d4ebff;}#sk-container-id-3 input.sk-hidden--visually {border: 0;clip: rect(1px 1px 1px 1px);clip: rect(1px, 1px, 1px, 1px);height: 1px;margin: -1px;overflow: hidden;padding: 0;position: absolute;width: 1px;}#sk-container-id-3 div.sk-estimator {font-family: monospace;background-color: #f0f8ff;border: 1px dotted black;border-radius: 0.25em;box-sizing: border-box;margin-bottom: 0.5em;}#sk-container-id-3 div.sk-estimator:hover {background-color: #d4ebff;}#sk-container-id-3 div.sk-parallel-item::after {content: \"\";width: 100%;border-bottom: 1px solid gray;flex-grow: 1;}#sk-container-id-3 div.sk-label:hover label.sk-toggleable__label {background-color: #d4ebff;}#sk-container-id-3 div.sk-serial::before {content: \"\";position: absolute;border-left: 1px solid gray;box-sizing: border-box;top: 0;bottom: 0;left: 50%;z-index: 0;}#sk-container-id-3 div.sk-serial {display: flex;flex-direction: column;align-items: center;background-color: white;padding-right: 0.2em;padding-left: 0.2em;position: relative;}#sk-container-id-3 div.sk-item {position: relative;z-index: 1;}#sk-container-id-3 div.sk-parallel {display: flex;align-items: stretch;justify-content: center;background-color: white;position: relative;}#sk-container-id-3 div.sk-item::before, #sk-container-id-3 div.sk-parallel-item::before {content: \"\";position: absolute;border-left: 1px solid gray;box-sizing: border-box;top: 0;bottom: 0;left: 50%;z-index: -1;}#sk-container-id-3 div.sk-parallel-item {display: flex;flex-direction: column;z-index: 1;position: relative;background-color: white;}#sk-container-id-3 div.sk-parallel-item:first-child::after {align-self: flex-end;width: 50%;}#sk-container-id-3 div.sk-parallel-item:last-child::after {align-self: flex-start;width: 50%;}#sk-container-id-3 div.sk-parallel-item:only-child::after {width: 0;}#sk-container-id-3 div.sk-dashed-wrapped {border: 1px dashed gray;margin: 0 0.4em 0.5em 0.4em;box-sizing: border-box;padding-bottom: 0.4em;background-color: white;}#sk-container-id-3 div.sk-label label {font-family: monospace;font-weight: bold;display: inline-block;line-height: 1.2em;}#sk-container-id-3 div.sk-label-container {text-align: center;}#sk-container-id-3 div.sk-container {/* jupyter's `normalize.less` sets `[hidden] { display: none; }` but bootstrap.min.css set `[hidden] { display: none !important; }` so we also need the `!important` here to be able to override the default hidden behavior on the sphinx rendered scikit-learn.org. See: https://github.com/scikit-learn/scikit-learn/issues/21755 */display: inline-block !important;position: relative;}#sk-container-id-3 div.sk-text-repr-fallback {display: none;}</style><div id=\"sk-container-id-3\" class=\"sk-top-container\"><div class=\"sk-text-repr-fallback\"><pre>GridSearchCV(cv=RepeatedStratifiedKFold(n_repeats=3, n_splits=5, random_state=0),\n",
       "             estimator=GaussianNB(),\n",
       "             param_grid={&#x27;var_smoothing&#x27;: array([1.00000000e+00, 8.11130831e-01, 6.57933225e-01, 5.33669923e-01,\n",
       "       4.32876128e-01, 3.51119173e-01, 2.84803587e-01, 2.31012970e-01,\n",
       "       1.87381742e-01, 1.51991108e-01, 1.23284674e-01, 1.00000000e-01,\n",
       "       8.11130831e-02, 6.57933225e-02, 5.3...\n",
       "       1.23284674e-07, 1.00000000e-07, 8.11130831e-08, 6.57933225e-08,\n",
       "       5.33669923e-08, 4.32876128e-08, 3.51119173e-08, 2.84803587e-08,\n",
       "       2.31012970e-08, 1.87381742e-08, 1.51991108e-08, 1.23284674e-08,\n",
       "       1.00000000e-08, 8.11130831e-09, 6.57933225e-09, 5.33669923e-09,\n",
       "       4.32876128e-09, 3.51119173e-09, 2.84803587e-09, 2.31012970e-09,\n",
       "       1.87381742e-09, 1.51991108e-09, 1.23284674e-09, 1.00000000e-09])},\n",
       "             scoring=&#x27;accuracy&#x27;)</pre><b>In a Jupyter environment, please rerun this cell to show the HTML representation or trust the notebook. <br />On GitHub, the HTML representation is unable to render, please try loading this page with nbviewer.org.</b></div><div class=\"sk-container\" hidden><div class=\"sk-item sk-dashed-wrapped\"><div class=\"sk-label-container\"><div class=\"sk-label sk-toggleable\"><input class=\"sk-toggleable__control sk-hidden--visually\" id=\"sk-estimator-id-7\" type=\"checkbox\" ><label for=\"sk-estimator-id-7\" class=\"sk-toggleable__label sk-toggleable__label-arrow\">GridSearchCV</label><div class=\"sk-toggleable__content\"><pre>GridSearchCV(cv=RepeatedStratifiedKFold(n_repeats=3, n_splits=5, random_state=0),\n",
       "             estimator=GaussianNB(),\n",
       "             param_grid={&#x27;var_smoothing&#x27;: array([1.00000000e+00, 8.11130831e-01, 6.57933225e-01, 5.33669923e-01,\n",
       "       4.32876128e-01, 3.51119173e-01, 2.84803587e-01, 2.31012970e-01,\n",
       "       1.87381742e-01, 1.51991108e-01, 1.23284674e-01, 1.00000000e-01,\n",
       "       8.11130831e-02, 6.57933225e-02, 5.3...\n",
       "       1.23284674e-07, 1.00000000e-07, 8.11130831e-08, 6.57933225e-08,\n",
       "       5.33669923e-08, 4.32876128e-08, 3.51119173e-08, 2.84803587e-08,\n",
       "       2.31012970e-08, 1.87381742e-08, 1.51991108e-08, 1.23284674e-08,\n",
       "       1.00000000e-08, 8.11130831e-09, 6.57933225e-09, 5.33669923e-09,\n",
       "       4.32876128e-09, 3.51119173e-09, 2.84803587e-09, 2.31012970e-09,\n",
       "       1.87381742e-09, 1.51991108e-09, 1.23284674e-09, 1.00000000e-09])},\n",
       "             scoring=&#x27;accuracy&#x27;)</pre></div></div></div><div class=\"sk-parallel\"><div class=\"sk-parallel-item\"><div class=\"sk-item\"><div class=\"sk-label-container\"><div class=\"sk-label sk-toggleable\"><input class=\"sk-toggleable__control sk-hidden--visually\" id=\"sk-estimator-id-8\" type=\"checkbox\" ><label for=\"sk-estimator-id-8\" class=\"sk-toggleable__label sk-toggleable__label-arrow\">estimator: GaussianNB</label><div class=\"sk-toggleable__content\"><pre>GaussianNB()</pre></div></div></div><div class=\"sk-serial\"><div class=\"sk-item\"><div class=\"sk-estimator sk-toggleable\"><input class=\"sk-toggleable__control sk-hidden--visually\" id=\"sk-estimator-id-9\" type=\"checkbox\" ><label for=\"sk-estimator-id-9\" class=\"sk-toggleable__label sk-toggleable__label-arrow\">GaussianNB</label><div class=\"sk-toggleable__content\"><pre>GaussianNB()</pre></div></div></div></div></div></div></div></div></div></div>"
      ],
      "text/plain": [
       "GridSearchCV(cv=RepeatedStratifiedKFold(n_repeats=3, n_splits=5, random_state=0),\n",
       "             estimator=GaussianNB(),\n",
       "             param_grid={'var_smoothing': array([1.00000000e+00, 8.11130831e-01, 6.57933225e-01, 5.33669923e-01,\n",
       "       4.32876128e-01, 3.51119173e-01, 2.84803587e-01, 2.31012970e-01,\n",
       "       1.87381742e-01, 1.51991108e-01, 1.23284674e-01, 1.00000000e-01,\n",
       "       8.11130831e-02, 6.57933225e-02, 5.3...\n",
       "       1.23284674e-07, 1.00000000e-07, 8.11130831e-08, 6.57933225e-08,\n",
       "       5.33669923e-08, 4.32876128e-08, 3.51119173e-08, 2.84803587e-08,\n",
       "       2.31012970e-08, 1.87381742e-08, 1.51991108e-08, 1.23284674e-08,\n",
       "       1.00000000e-08, 8.11130831e-09, 6.57933225e-09, 5.33669923e-09,\n",
       "       4.32876128e-09, 3.51119173e-09, 2.84803587e-09, 2.31012970e-09,\n",
       "       1.87381742e-09, 1.51991108e-09, 1.23284674e-09, 1.00000000e-09])},\n",
       "             scoring='accuracy')"
      ]
     },
     "execution_count": 57,
     "metadata": {},
     "output_type": "execute_result"
    }
   ],
   "source": [
    "gnb_params = {'var_smoothing': np.logspace(0,-9, num=100)}\n",
    "\n",
    "gnb_clf = GridSearchCV(estimator=gnb, \n",
    "                     param_grid=gnb_params, \n",
    "                     cv=cv_method,\n",
    "                     scoring='accuracy')\n",
    "\n",
    "Data_transformed = PowerTransformer().fit_transform(X_train)\n",
    "\n",
    "gnb_clf.fit(Data_transformed, y_train)"
   ]
  },
  {
   "cell_type": "code",
   "execution_count": 58,
   "id": "899e8642-e6c4-46fe-be07-e313b1bdbae2",
   "metadata": {},
   "outputs": [
    {
     "data": {
      "text/plain": [
       "{'var_smoothing': 1.0}"
      ]
     },
     "execution_count": 58,
     "metadata": {},
     "output_type": "execute_result"
    }
   ],
   "source": [
    "gnb_clf.best_params_"
   ]
  },
  {
   "cell_type": "code",
   "execution_count": 59,
   "id": "3e4cda5d-0556-416e-a42c-5c864a6a075d",
   "metadata": {},
   "outputs": [
    {
     "data": {
      "text/plain": [
       "0.6146520146520146"
      ]
     },
     "execution_count": 59,
     "metadata": {},
     "output_type": "execute_result"
    }
   ],
   "source": [
    "gnb_clf.best_score_"
   ]
  },
  {
   "cell_type": "code",
   "execution_count": 60,
   "id": "0f2c4e6c-78c0-4fd9-9e65-182ab9cd6cf5",
   "metadata": {},
   "outputs": [],
   "source": [
    "gnb_best = GaussianNB(var_smoothing=1.0).fit(Data_transformed, y_train)"
   ]
  },
  {
   "cell_type": "code",
   "execution_count": 61,
   "id": "0d97cc3d-c76c-49f6-a6e2-9e7899d3b54e",
   "metadata": {},
   "outputs": [
    {
     "data": {
      "text/plain": [
       "0.4666666666666667"
      ]
     },
     "execution_count": 61,
     "metadata": {},
     "output_type": "execute_result"
    }
   ],
   "source": [
    "gnb_pred = gnb_best.predict(PowerTransformer().fit_transform(X_test))\n",
    "gnb_acc = accuracy_score(y_test, gnb_pred)\n",
    "gnb_acc"
   ]
  },
  {
   "cell_type": "code",
   "execution_count": 62,
   "id": "9be38a9d-9d02-4c38-a6e6-e3a679e8ec1b",
   "metadata": {},
   "outputs": [
    {
     "data": {
      "text/plain": [
       "0.6363636363636364"
      ]
     },
     "execution_count": 62,
     "metadata": {},
     "output_type": "execute_result"
    }
   ],
   "source": [
    "gnb_pred_train = gnb_best.predict(Data_transformed)\n",
    "gnb_pred_acc = accuracy_score(y_train, gnb_pred_train)\n",
    "gnb_pred_acc"
   ]
  },
  {
   "cell_type": "code",
   "execution_count": 63,
   "id": "98ee9e16-4a91-4607-b08e-2223b41416f7",
   "metadata": {},
   "outputs": [
    {
     "data": {
      "text/plain": [
       "0.6098901098901098"
      ]
     },
     "execution_count": 63,
     "metadata": {},
     "output_type": "execute_result"
    }
   ],
   "source": [
    "gnb_cv = cross_val_score(gnb_best, Data_transformed, y_train, cv=5, scoring='accuracy').mean()\n",
    "gnb_cv"
   ]
  },
  {
   "cell_type": "code",
   "execution_count": 64,
   "id": "e648f59d-1367-48b7-873c-d5344e70ff45",
   "metadata": {},
   "outputs": [
    {
     "data": {
      "text/plain": [
       "['Gaussian Naive Bayes', 0.6099, 0.4667]"
      ]
     },
     "execution_count": 64,
     "metadata": {},
     "output_type": "execute_result"
    }
   ],
   "source": [
    "gnb_results = ['Gaussian Naive Bayes', round(gnb_cv, 4), round(gnb_acc, 4)]\n",
    "gnb_results"
   ]
  },
  {
   "cell_type": "markdown",
   "id": "22c47cd0-a73a-4f23-af52-0ec505c35669",
   "metadata": {},
   "source": [
    "#### KNN"
   ]
  },
  {
   "cell_type": "code",
   "execution_count": 65,
   "id": "6c79fd03-96c6-4c28-92d6-3737a36a44a5",
   "metadata": {},
   "outputs": [],
   "source": [
    "knn = KNeighborsClassifier().fit(X_train, y_train)"
   ]
  },
  {
   "cell_type": "code",
   "execution_count": 66,
   "id": "7e1070dd-37c4-471c-8d7c-8bf3720fffe5",
   "metadata": {},
   "outputs": [
    {
     "data": {
      "text/html": [
       "<style>#sk-container-id-4 {color: black;background-color: white;}#sk-container-id-4 pre{padding: 0;}#sk-container-id-4 div.sk-toggleable {background-color: white;}#sk-container-id-4 label.sk-toggleable__label {cursor: pointer;display: block;width: 100%;margin-bottom: 0;padding: 0.3em;box-sizing: border-box;text-align: center;}#sk-container-id-4 label.sk-toggleable__label-arrow:before {content: \"▸\";float: left;margin-right: 0.25em;color: #696969;}#sk-container-id-4 label.sk-toggleable__label-arrow:hover:before {color: black;}#sk-container-id-4 div.sk-estimator:hover label.sk-toggleable__label-arrow:before {color: black;}#sk-container-id-4 div.sk-toggleable__content {max-height: 0;max-width: 0;overflow: hidden;text-align: left;background-color: #f0f8ff;}#sk-container-id-4 div.sk-toggleable__content pre {margin: 0.2em;color: black;border-radius: 0.25em;background-color: #f0f8ff;}#sk-container-id-4 input.sk-toggleable__control:checked~div.sk-toggleable__content {max-height: 200px;max-width: 100%;overflow: auto;}#sk-container-id-4 input.sk-toggleable__control:checked~label.sk-toggleable__label-arrow:before {content: \"▾\";}#sk-container-id-4 div.sk-estimator input.sk-toggleable__control:checked~label.sk-toggleable__label {background-color: #d4ebff;}#sk-container-id-4 div.sk-label input.sk-toggleable__control:checked~label.sk-toggleable__label {background-color: #d4ebff;}#sk-container-id-4 input.sk-hidden--visually {border: 0;clip: rect(1px 1px 1px 1px);clip: rect(1px, 1px, 1px, 1px);height: 1px;margin: -1px;overflow: hidden;padding: 0;position: absolute;width: 1px;}#sk-container-id-4 div.sk-estimator {font-family: monospace;background-color: #f0f8ff;border: 1px dotted black;border-radius: 0.25em;box-sizing: border-box;margin-bottom: 0.5em;}#sk-container-id-4 div.sk-estimator:hover {background-color: #d4ebff;}#sk-container-id-4 div.sk-parallel-item::after {content: \"\";width: 100%;border-bottom: 1px solid gray;flex-grow: 1;}#sk-container-id-4 div.sk-label:hover label.sk-toggleable__label {background-color: #d4ebff;}#sk-container-id-4 div.sk-serial::before {content: \"\";position: absolute;border-left: 1px solid gray;box-sizing: border-box;top: 0;bottom: 0;left: 50%;z-index: 0;}#sk-container-id-4 div.sk-serial {display: flex;flex-direction: column;align-items: center;background-color: white;padding-right: 0.2em;padding-left: 0.2em;position: relative;}#sk-container-id-4 div.sk-item {position: relative;z-index: 1;}#sk-container-id-4 div.sk-parallel {display: flex;align-items: stretch;justify-content: center;background-color: white;position: relative;}#sk-container-id-4 div.sk-item::before, #sk-container-id-4 div.sk-parallel-item::before {content: \"\";position: absolute;border-left: 1px solid gray;box-sizing: border-box;top: 0;bottom: 0;left: 50%;z-index: -1;}#sk-container-id-4 div.sk-parallel-item {display: flex;flex-direction: column;z-index: 1;position: relative;background-color: white;}#sk-container-id-4 div.sk-parallel-item:first-child::after {align-self: flex-end;width: 50%;}#sk-container-id-4 div.sk-parallel-item:last-child::after {align-self: flex-start;width: 50%;}#sk-container-id-4 div.sk-parallel-item:only-child::after {width: 0;}#sk-container-id-4 div.sk-dashed-wrapped {border: 1px dashed gray;margin: 0 0.4em 0.5em 0.4em;box-sizing: border-box;padding-bottom: 0.4em;background-color: white;}#sk-container-id-4 div.sk-label label {font-family: monospace;font-weight: bold;display: inline-block;line-height: 1.2em;}#sk-container-id-4 div.sk-label-container {text-align: center;}#sk-container-id-4 div.sk-container {/* jupyter's `normalize.less` sets `[hidden] { display: none; }` but bootstrap.min.css set `[hidden] { display: none !important; }` so we also need the `!important` here to be able to override the default hidden behavior on the sphinx rendered scikit-learn.org. See: https://github.com/scikit-learn/scikit-learn/issues/21755 */display: inline-block !important;position: relative;}#sk-container-id-4 div.sk-text-repr-fallback {display: none;}</style><div id=\"sk-container-id-4\" class=\"sk-top-container\"><div class=\"sk-text-repr-fallback\"><pre>GridSearchCV(cv=5, estimator=KNeighborsClassifier(),\n",
       "             param_grid={&#x27;leaf_size&#x27;: [1, 2, 3, 4, 5, 6, 7, 8, 9, 10, 11, 12,\n",
       "                                       13, 14, 15, 16, 17, 18, 19, 20, 21, 22,\n",
       "                                       23, 24, 25, 26, 27, 28, 29, 30, ...],\n",
       "                         &#x27;n_neighbors&#x27;: [1, 2, 3, 4, 5, 6, 7, 8, 9, 10, 11, 12,\n",
       "                                         13, 14, 15, 16, 17, 18, 19],\n",
       "                         &#x27;p&#x27;: [1, 2], &#x27;weights&#x27;: [&#x27;uniform&#x27;, &#x27;distance&#x27;]},\n",
       "             scoring=&#x27;accuracy&#x27;)</pre><b>In a Jupyter environment, please rerun this cell to show the HTML representation or trust the notebook. <br />On GitHub, the HTML representation is unable to render, please try loading this page with nbviewer.org.</b></div><div class=\"sk-container\" hidden><div class=\"sk-item sk-dashed-wrapped\"><div class=\"sk-label-container\"><div class=\"sk-label sk-toggleable\"><input class=\"sk-toggleable__control sk-hidden--visually\" id=\"sk-estimator-id-10\" type=\"checkbox\" ><label for=\"sk-estimator-id-10\" class=\"sk-toggleable__label sk-toggleable__label-arrow\">GridSearchCV</label><div class=\"sk-toggleable__content\"><pre>GridSearchCV(cv=5, estimator=KNeighborsClassifier(),\n",
       "             param_grid={&#x27;leaf_size&#x27;: [1, 2, 3, 4, 5, 6, 7, 8, 9, 10, 11, 12,\n",
       "                                       13, 14, 15, 16, 17, 18, 19, 20, 21, 22,\n",
       "                                       23, 24, 25, 26, 27, 28, 29, 30, ...],\n",
       "                         &#x27;n_neighbors&#x27;: [1, 2, 3, 4, 5, 6, 7, 8, 9, 10, 11, 12,\n",
       "                                         13, 14, 15, 16, 17, 18, 19],\n",
       "                         &#x27;p&#x27;: [1, 2], &#x27;weights&#x27;: [&#x27;uniform&#x27;, &#x27;distance&#x27;]},\n",
       "             scoring=&#x27;accuracy&#x27;)</pre></div></div></div><div class=\"sk-parallel\"><div class=\"sk-parallel-item\"><div class=\"sk-item\"><div class=\"sk-label-container\"><div class=\"sk-label sk-toggleable\"><input class=\"sk-toggleable__control sk-hidden--visually\" id=\"sk-estimator-id-11\" type=\"checkbox\" ><label for=\"sk-estimator-id-11\" class=\"sk-toggleable__label sk-toggleable__label-arrow\">estimator: KNeighborsClassifier</label><div class=\"sk-toggleable__content\"><pre>KNeighborsClassifier()</pre></div></div></div><div class=\"sk-serial\"><div class=\"sk-item\"><div class=\"sk-estimator sk-toggleable\"><input class=\"sk-toggleable__control sk-hidden--visually\" id=\"sk-estimator-id-12\" type=\"checkbox\" ><label for=\"sk-estimator-id-12\" class=\"sk-toggleable__label sk-toggleable__label-arrow\">KNeighborsClassifier</label><div class=\"sk-toggleable__content\"><pre>KNeighborsClassifier()</pre></div></div></div></div></div></div></div></div></div></div>"
      ],
      "text/plain": [
       "GridSearchCV(cv=5, estimator=KNeighborsClassifier(),\n",
       "             param_grid={'leaf_size': [1, 2, 3, 4, 5, 6, 7, 8, 9, 10, 11, 12,\n",
       "                                       13, 14, 15, 16, 17, 18, 19, 20, 21, 22,\n",
       "                                       23, 24, 25, 26, 27, 28, 29, 30, ...],\n",
       "                         'n_neighbors': [1, 2, 3, 4, 5, 6, 7, 8, 9, 10, 11, 12,\n",
       "                                         13, 14, 15, 16, 17, 18, 19],\n",
       "                         'p': [1, 2], 'weights': ['uniform', 'distance']},\n",
       "             scoring='accuracy')"
      ]
     },
     "execution_count": 66,
     "metadata": {},
     "output_type": "execute_result"
    }
   ],
   "source": [
    "knn_params = {'leaf_size': list(range(1,50)),\n",
    "              'n_neighbors': list(range(1,20)),\n",
    "              'p': [1,2],\n",
    "              'weights': ['uniform', 'distance']}\n",
    "\n",
    "knn_clf = GridSearchCV(estimator=knn, \n",
    "                       param_grid=knn_params, \n",
    "                       cv=5,\n",
    "                       scoring='accuracy')\n",
    "\n",
    "knn_clf.fit(X_train, y_train)"
   ]
  },
  {
   "cell_type": "code",
   "execution_count": 67,
   "id": "cb90466b-8392-4b10-b3ce-8ff67bb7b93c",
   "metadata": {},
   "outputs": [
    {
     "data": {
      "text/plain": [
       "{'leaf_size': 1, 'n_neighbors': 7, 'p': 2, 'weights': 'distance'}"
      ]
     },
     "execution_count": 67,
     "metadata": {},
     "output_type": "execute_result"
    }
   ],
   "source": [
    "knn_clf.best_params_"
   ]
  },
  {
   "cell_type": "code",
   "execution_count": 68,
   "id": "cc3ff273-2fdd-4efb-ba71-ac418d86e015",
   "metadata": {},
   "outputs": [
    {
     "data": {
      "text/plain": [
       "0.5934065934065933"
      ]
     },
     "execution_count": 68,
     "metadata": {},
     "output_type": "execute_result"
    }
   ],
   "source": [
    "knn_clf.best_score_"
   ]
  },
  {
   "cell_type": "code",
   "execution_count": 69,
   "id": "8e9c7f62-0041-447a-a96c-66301c8a8881",
   "metadata": {},
   "outputs": [],
   "source": [
    "knn_best = KNeighborsClassifier(leaf_size=1, n_neighbors=6, p=2, weights='distance').fit(X_train, y_train)"
   ]
  },
  {
   "cell_type": "code",
   "execution_count": 70,
   "id": "c26bd887-dc05-4747-b384-0f0a4a36af48",
   "metadata": {},
   "outputs": [
    {
     "data": {
      "text/plain": [
       "0.4666666666666667"
      ]
     },
     "execution_count": 70,
     "metadata": {},
     "output_type": "execute_result"
    }
   ],
   "source": [
    "knn_pred = knn_best.predict(X_test)\n",
    "knn_acc = accuracy_score(y_test, knn_pred)\n",
    "knn_acc"
   ]
  },
  {
   "cell_type": "code",
   "execution_count": 71,
   "id": "a142e0a5-2863-4fc6-9290-e599f675e996",
   "metadata": {},
   "outputs": [
    {
     "data": {
      "text/plain": [
       "1.0"
      ]
     },
     "execution_count": 71,
     "metadata": {},
     "output_type": "execute_result"
    }
   ],
   "source": [
    "knn_pred_train = knn_best.predict(X_train)\n",
    "knn_pred_acc = accuracy_score(y_train, knn_pred_train)\n",
    "knn_pred_acc"
   ]
  },
  {
   "cell_type": "code",
   "execution_count": 72,
   "id": "430bad8f-4afc-4ef5-bbe3-74f323356625",
   "metadata": {},
   "outputs": [
    {
     "data": {
      "text/plain": [
       "0.5472527472527473"
      ]
     },
     "execution_count": 72,
     "metadata": {},
     "output_type": "execute_result"
    }
   ],
   "source": [
    "knn_cv = cross_val_score(knn_best, X_train, y_train, cv=5, scoring='accuracy').mean()\n",
    "knn_cv"
   ]
  },
  {
   "cell_type": "code",
   "execution_count": 73,
   "id": "d7252eb5-3760-47aa-9502-dbe596a77f49",
   "metadata": {},
   "outputs": [
    {
     "data": {
      "text/plain": [
       "['KNN', 0.5473, 0.4667]"
      ]
     },
     "execution_count": 73,
     "metadata": {},
     "output_type": "execute_result"
    }
   ],
   "source": [
    "knn_results = ['KNN', round(knn_cv, 4), round(knn_acc, 4)]\n",
    "knn_results"
   ]
  },
  {
   "cell_type": "markdown",
   "id": "ec777719-a836-4111-84bf-e64c1fa997bd",
   "metadata": {},
   "source": [
    "#### Decision Tree"
   ]
  },
  {
   "cell_type": "code",
   "execution_count": 74,
   "id": "6c1f444e-5e29-4a71-84d3-21fb8e325151",
   "metadata": {},
   "outputs": [],
   "source": [
    "dtree = DecisionTreeClassifier().fit(X_train, y_train)"
   ]
  },
  {
   "cell_type": "code",
   "execution_count": 77,
   "id": "1e3a5cf6-b2c6-4153-9738-d0fb0ccab350",
   "metadata": {},
   "outputs": [
    {
     "name": "stdout",
     "output_type": "stream",
     "text": [
      "The Training Accuracy for max_depth 1 is: 0.6212121212121212\n",
      "The Validation Accuracy for max_depth 1 is: 0.4\n",
      "\n",
      "The Training Accuracy for max_depth 2 is: 0.696969696969697\n",
      "The Validation Accuracy for max_depth 2 is: 0.4\n",
      "\n",
      "The Training Accuracy for max_depth 3 is: 0.7727272727272727\n",
      "The Validation Accuracy for max_depth 3 is: 0.4\n",
      "\n",
      "The Training Accuracy for max_depth 4 is: 0.8484848484848485\n",
      "The Validation Accuracy for max_depth 4 is: 0.4666666666666667\n",
      "\n",
      "The Training Accuracy for max_depth 5 is: 0.9545454545454546\n",
      "The Validation Accuracy for max_depth 5 is: 0.3333333333333333\n",
      "\n",
      "The Training Accuracy for max_depth 6 is: 0.9696969696969697\n",
      "The Validation Accuracy for max_depth 6 is: 0.4666666666666667\n",
      "\n",
      "The Training Accuracy for max_depth 7 is: 0.9848484848484849\n",
      "The Validation Accuracy for max_depth 7 is: 0.4\n",
      "\n",
      "The Training Accuracy for max_depth 8 is: 1.0\n",
      "The Validation Accuracy for max_depth 8 is: 0.4\n",
      "\n",
      "The Training Accuracy for max_depth 9 is: 1.0\n",
      "The Validation Accuracy for max_depth 9 is: 0.4\n",
      "\n",
      "The Training Accuracy for max_depth 10 is: 1.0\n",
      "The Validation Accuracy for max_depth 10 is: 0.4\n",
      "\n",
      "The Training Accuracy for max_leaf_nodes 5 is: 0.803030303030303\n",
      "The Validation Accuracy for max_leaf_nodes 5 is: 0.3333333333333333\n",
      "\n",
      "The Training Accuracy for max_leaf_nodes 6 is: 0.8333333333333334\n",
      "The Validation Accuracy for max_leaf_nodes 6 is: 0.3333333333333333\n",
      "\n",
      "The Training Accuracy for max_leaf_nodes 7 is: 0.8333333333333334\n",
      "The Validation Accuracy for max_leaf_nodes 7 is: 0.3333333333333333\n",
      "\n",
      "The Training Accuracy for max_leaf_nodes 8 is: 0.8787878787878788\n",
      "The Validation Accuracy for max_leaf_nodes 8 is: 0.4666666666666667\n",
      "\n",
      "The Training Accuracy for max_leaf_nodes 9 is: 0.9242424242424242\n",
      "The Validation Accuracy for max_leaf_nodes 9 is: 0.4\n",
      "\n",
      "The Training Accuracy for max_leaf_nodes 10 is: 0.9393939393939394\n",
      "The Validation Accuracy for max_leaf_nodes 10 is: 0.3333333333333333\n",
      "\n",
      "The Training Accuracy for max_leaf_nodes 11 is: 0.9545454545454546\n",
      "The Validation Accuracy for max_leaf_nodes 11 is: 0.4\n",
      "\n",
      "The Training Accuracy for max_leaf_nodes 12 is: 0.9545454545454546\n",
      "The Validation Accuracy for max_leaf_nodes 12 is: 0.4\n",
      "\n",
      "The Training Accuracy for max_leaf_nodes 13 is: 0.9696969696969697\n",
      "The Validation Accuracy for max_leaf_nodes 13 is: 0.4\n",
      "\n",
      "The Training Accuracy for max_leaf_nodes 14 is: 0.9696969696969697\n",
      "The Validation Accuracy for max_leaf_nodes 14 is: 0.4\n",
      "\n",
      "The Training Accuracy for max_leaf_nodes 15 is: 0.9848484848484849\n",
      "The Validation Accuracy for max_leaf_nodes 15 is: 0.4\n",
      "\n",
      "The Training Accuracy for max_leaf_nodes 16 is: 0.9848484848484849\n",
      "The Validation Accuracy for max_leaf_nodes 16 is: 0.4\n",
      "\n",
      "The Training Accuracy for max_leaf_nodes 17 is: 1.0\n",
      "The Validation Accuracy for max_leaf_nodes 17 is: 0.4\n",
      "\n",
      "The Training Accuracy for max_leaf_nodes 18 is: 1.0\n",
      "The Validation Accuracy for max_leaf_nodes 18 is: 0.4\n",
      "\n",
      "The Training Accuracy for max_leaf_nodes 19 is: 1.0\n",
      "The Validation Accuracy for max_leaf_nodes 19 is: 0.4\n",
      "\n",
      "The Training Accuracy for max_leaf_nodes 20 is: 1.0\n",
      "The Validation Accuracy for max_leaf_nodes 20 is: 0.4\n",
      "\n"
     ]
    }
   ],
   "source": [
    "# look for optimal ranges of max_depth & max_leaf_nodes to test\n",
    "\n",
    "for max_d in range(1,11):\n",
    "  m = DecisionTreeClassifier(max_depth=max_d, random_state=0)\n",
    "  m.fit(X_train, y_train)\n",
    "  print('The Training Accuracy for max_depth {} is:'.format(max_d), m.score(X_train, y_train))\n",
    "  print('The Validation Accuracy for max_depth {} is:'.format(max_d), m.score(X_test, y_test))\n",
    "  print('')\n",
    "\n",
    "for max_l in range(5,21):\n",
    "  m = DecisionTreeClassifier(max_leaf_nodes=max_l, random_state=0)\n",
    "  m.fit(X_train, y_train)\n",
    "  print('The Training Accuracy for max_leaf_nodes {} is:'.format(max_l), m.score(X_train, y_train))\n",
    "  print('The Validation Accuracy for max_leaf_nodes {} is:'.format(max_l), m.score(X_test, y_test))\n",
    "  print('')"
   ]
  },
  {
   "cell_type": "code",
   "execution_count": 78,
   "id": "85679274-6754-4ba3-84e3-665c08ddc16f",
   "metadata": {},
   "outputs": [
    {
     "data": {
      "text/html": [
       "<style>#sk-container-id-5 {color: black;background-color: white;}#sk-container-id-5 pre{padding: 0;}#sk-container-id-5 div.sk-toggleable {background-color: white;}#sk-container-id-5 label.sk-toggleable__label {cursor: pointer;display: block;width: 100%;margin-bottom: 0;padding: 0.3em;box-sizing: border-box;text-align: center;}#sk-container-id-5 label.sk-toggleable__label-arrow:before {content: \"▸\";float: left;margin-right: 0.25em;color: #696969;}#sk-container-id-5 label.sk-toggleable__label-arrow:hover:before {color: black;}#sk-container-id-5 div.sk-estimator:hover label.sk-toggleable__label-arrow:before {color: black;}#sk-container-id-5 div.sk-toggleable__content {max-height: 0;max-width: 0;overflow: hidden;text-align: left;background-color: #f0f8ff;}#sk-container-id-5 div.sk-toggleable__content pre {margin: 0.2em;color: black;border-radius: 0.25em;background-color: #f0f8ff;}#sk-container-id-5 input.sk-toggleable__control:checked~div.sk-toggleable__content {max-height: 200px;max-width: 100%;overflow: auto;}#sk-container-id-5 input.sk-toggleable__control:checked~label.sk-toggleable__label-arrow:before {content: \"▾\";}#sk-container-id-5 div.sk-estimator input.sk-toggleable__control:checked~label.sk-toggleable__label {background-color: #d4ebff;}#sk-container-id-5 div.sk-label input.sk-toggleable__control:checked~label.sk-toggleable__label {background-color: #d4ebff;}#sk-container-id-5 input.sk-hidden--visually {border: 0;clip: rect(1px 1px 1px 1px);clip: rect(1px, 1px, 1px, 1px);height: 1px;margin: -1px;overflow: hidden;padding: 0;position: absolute;width: 1px;}#sk-container-id-5 div.sk-estimator {font-family: monospace;background-color: #f0f8ff;border: 1px dotted black;border-radius: 0.25em;box-sizing: border-box;margin-bottom: 0.5em;}#sk-container-id-5 div.sk-estimator:hover {background-color: #d4ebff;}#sk-container-id-5 div.sk-parallel-item::after {content: \"\";width: 100%;border-bottom: 1px solid gray;flex-grow: 1;}#sk-container-id-5 div.sk-label:hover label.sk-toggleable__label {background-color: #d4ebff;}#sk-container-id-5 div.sk-serial::before {content: \"\";position: absolute;border-left: 1px solid gray;box-sizing: border-box;top: 0;bottom: 0;left: 50%;z-index: 0;}#sk-container-id-5 div.sk-serial {display: flex;flex-direction: column;align-items: center;background-color: white;padding-right: 0.2em;padding-left: 0.2em;position: relative;}#sk-container-id-5 div.sk-item {position: relative;z-index: 1;}#sk-container-id-5 div.sk-parallel {display: flex;align-items: stretch;justify-content: center;background-color: white;position: relative;}#sk-container-id-5 div.sk-item::before, #sk-container-id-5 div.sk-parallel-item::before {content: \"\";position: absolute;border-left: 1px solid gray;box-sizing: border-box;top: 0;bottom: 0;left: 50%;z-index: -1;}#sk-container-id-5 div.sk-parallel-item {display: flex;flex-direction: column;z-index: 1;position: relative;background-color: white;}#sk-container-id-5 div.sk-parallel-item:first-child::after {align-self: flex-end;width: 50%;}#sk-container-id-5 div.sk-parallel-item:last-child::after {align-self: flex-start;width: 50%;}#sk-container-id-5 div.sk-parallel-item:only-child::after {width: 0;}#sk-container-id-5 div.sk-dashed-wrapped {border: 1px dashed gray;margin: 0 0.4em 0.5em 0.4em;box-sizing: border-box;padding-bottom: 0.4em;background-color: white;}#sk-container-id-5 div.sk-label label {font-family: monospace;font-weight: bold;display: inline-block;line-height: 1.2em;}#sk-container-id-5 div.sk-label-container {text-align: center;}#sk-container-id-5 div.sk-container {/* jupyter's `normalize.less` sets `[hidden] { display: none; }` but bootstrap.min.css set `[hidden] { display: none !important; }` so we also need the `!important` here to be able to override the default hidden behavior on the sphinx rendered scikit-learn.org. See: https://github.com/scikit-learn/scikit-learn/issues/21755 */display: inline-block !important;position: relative;}#sk-container-id-5 div.sk-text-repr-fallback {display: none;}</style><div id=\"sk-container-id-5\" class=\"sk-top-container\"><div class=\"sk-text-repr-fallback\"><pre>GridSearchCV(cv=5, estimator=DecisionTreeClassifier(),\n",
       "             param_grid={&#x27;max_depth&#x27;: [1, 2, 3, 4, 5, 6, 7],\n",
       "                         &#x27;max_leaf_nodes&#x27;: [5, 6, 7, 8, 9, 10]},\n",
       "             scoring=&#x27;accuracy&#x27;)</pre><b>In a Jupyter environment, please rerun this cell to show the HTML representation or trust the notebook. <br />On GitHub, the HTML representation is unable to render, please try loading this page with nbviewer.org.</b></div><div class=\"sk-container\" hidden><div class=\"sk-item sk-dashed-wrapped\"><div class=\"sk-label-container\"><div class=\"sk-label sk-toggleable\"><input class=\"sk-toggleable__control sk-hidden--visually\" id=\"sk-estimator-id-13\" type=\"checkbox\" ><label for=\"sk-estimator-id-13\" class=\"sk-toggleable__label sk-toggleable__label-arrow\">GridSearchCV</label><div class=\"sk-toggleable__content\"><pre>GridSearchCV(cv=5, estimator=DecisionTreeClassifier(),\n",
       "             param_grid={&#x27;max_depth&#x27;: [1, 2, 3, 4, 5, 6, 7],\n",
       "                         &#x27;max_leaf_nodes&#x27;: [5, 6, 7, 8, 9, 10]},\n",
       "             scoring=&#x27;accuracy&#x27;)</pre></div></div></div><div class=\"sk-parallel\"><div class=\"sk-parallel-item\"><div class=\"sk-item\"><div class=\"sk-label-container\"><div class=\"sk-label sk-toggleable\"><input class=\"sk-toggleable__control sk-hidden--visually\" id=\"sk-estimator-id-14\" type=\"checkbox\" ><label for=\"sk-estimator-id-14\" class=\"sk-toggleable__label sk-toggleable__label-arrow\">estimator: DecisionTreeClassifier</label><div class=\"sk-toggleable__content\"><pre>DecisionTreeClassifier()</pre></div></div></div><div class=\"sk-serial\"><div class=\"sk-item\"><div class=\"sk-estimator sk-toggleable\"><input class=\"sk-toggleable__control sk-hidden--visually\" id=\"sk-estimator-id-15\" type=\"checkbox\" ><label for=\"sk-estimator-id-15\" class=\"sk-toggleable__label sk-toggleable__label-arrow\">DecisionTreeClassifier</label><div class=\"sk-toggleable__content\"><pre>DecisionTreeClassifier()</pre></div></div></div></div></div></div></div></div></div></div>"
      ],
      "text/plain": [
       "GridSearchCV(cv=5, estimator=DecisionTreeClassifier(),\n",
       "             param_grid={'max_depth': [1, 2, 3, 4, 5, 6, 7],\n",
       "                         'max_leaf_nodes': [5, 6, 7, 8, 9, 10]},\n",
       "             scoring='accuracy')"
      ]
     },
     "execution_count": 78,
     "metadata": {},
     "output_type": "execute_result"
    }
   ],
   "source": [
    "dtree_params = {'max_depth': list(range(1,8)),\n",
    "              'max_leaf_nodes': list(range(5,11))}\n",
    "\n",
    "dtree_clf = GridSearchCV(estimator=dtree, \n",
    "                       param_grid=dtree_params, \n",
    "                       cv=5,\n",
    "                       scoring='accuracy')\n",
    "\n",
    "dtree_clf.fit(X_train, y_train)"
   ]
  },
  {
   "cell_type": "code",
   "execution_count": 79,
   "id": "087f6a84-eae0-4330-960e-70bca1f6efcf",
   "metadata": {},
   "outputs": [
    {
     "data": {
      "text/plain": [
       "{'max_depth': 4, 'max_leaf_nodes': 5}"
      ]
     },
     "execution_count": 79,
     "metadata": {},
     "output_type": "execute_result"
    }
   ],
   "source": [
    "dtree_clf.best_params_"
   ]
  },
  {
   "cell_type": "code",
   "execution_count": 80,
   "id": "4f2f03a0-69ec-4717-bd7e-ced0bf1aab98",
   "metadata": {},
   "outputs": [
    {
     "data": {
      "text/plain": [
       "0.5472527472527473"
      ]
     },
     "execution_count": 80,
     "metadata": {},
     "output_type": "execute_result"
    }
   ],
   "source": [
    "dtree_clf.best_score_"
   ]
  },
  {
   "cell_type": "code",
   "execution_count": 81,
   "id": "728cc6ad-8270-47e8-8a79-87d381c54d02",
   "metadata": {},
   "outputs": [],
   "source": [
    "dtree_best = DecisionTreeClassifier(max_depth=4, max_leaf_nodes=5).fit(X_train, y_train)"
   ]
  },
  {
   "cell_type": "code",
   "execution_count": 82,
   "id": "252361d1-54d0-4698-a9b6-464e7fdc41bb",
   "metadata": {},
   "outputs": [
    {
     "data": {
      "text/plain": [
       "0.3333333333333333"
      ]
     },
     "execution_count": 82,
     "metadata": {},
     "output_type": "execute_result"
    }
   ],
   "source": [
    "dtree_pred = dtree_best.predict(X_test)\n",
    "dtree_acc = accuracy_score(y_test, dtree_pred)\n",
    "dtree_acc"
   ]
  },
  {
   "cell_type": "code",
   "execution_count": 83,
   "id": "ed24b1f9-c241-4756-b0bc-397364138bb5",
   "metadata": {},
   "outputs": [
    {
     "data": {
      "text/plain": [
       "0.803030303030303"
      ]
     },
     "execution_count": 83,
     "metadata": {},
     "output_type": "execute_result"
    }
   ],
   "source": [
    "dtree_pred_train = dtree_best.predict(X_train)\n",
    "dtree_pred_acc = accuracy_score(y_train, dtree_pred_train)\n",
    "dtree_pred_acc"
   ]
  },
  {
   "cell_type": "code",
   "execution_count": 84,
   "id": "cdc68fda-85c2-42d3-996a-bd004949f7ac",
   "metadata": {},
   "outputs": [
    {
     "data": {
      "text/plain": [
       "0.5472527472527473"
      ]
     },
     "execution_count": 84,
     "metadata": {},
     "output_type": "execute_result"
    }
   ],
   "source": [
    "dtree_cv = cross_val_score(dtree_best, X_train, y_train, cv=5, scoring='accuracy').mean()\n",
    "dtree_cv"
   ]
  },
  {
   "cell_type": "code",
   "execution_count": 85,
   "id": "1528d387-3a5a-4496-b017-d6972417f756",
   "metadata": {},
   "outputs": [
    {
     "data": {
      "text/plain": [
       "['Decision Tree', 0.5473, 0.3333]"
      ]
     },
     "execution_count": 85,
     "metadata": {},
     "output_type": "execute_result"
    }
   ],
   "source": [
    "dtree_results = ['Decision Tree', round(dtree_cv, 4), round(dtree_acc, 4)]\n",
    "dtree_results"
   ]
  },
  {
   "cell_type": "markdown",
   "id": "9a58b39b-4040-4436-980c-65fad81df0ef",
   "metadata": {},
   "source": [
    "#### Final Model Comparison"
   ]
  },
  {
   "cell_type": "code",
   "execution_count": 86,
   "id": "c4efaf4a-eb53-4d63-915e-d08ad1de1a23",
   "metadata": {},
   "outputs": [
    {
     "data": {
      "text/html": [
       "<div>\n",
       "<style scoped>\n",
       "    .dataframe tbody tr th:only-of-type {\n",
       "        vertical-align: middle;\n",
       "    }\n",
       "\n",
       "    .dataframe tbody tr th {\n",
       "        vertical-align: top;\n",
       "    }\n",
       "\n",
       "    .dataframe thead th {\n",
       "        text-align: right;\n",
       "    }\n",
       "</style>\n",
       "<table border=\"1\" class=\"dataframe\">\n",
       "  <thead>\n",
       "    <tr style=\"text-align: right;\">\n",
       "      <th></th>\n",
       "      <th>Model</th>\n",
       "      <th>Train Accuracy</th>\n",
       "      <th>Test Accuracy</th>\n",
       "    </tr>\n",
       "  </thead>\n",
       "  <tbody>\n",
       "    <tr>\n",
       "      <th>0</th>\n",
       "      <td>Logistic Regression</td>\n",
       "      <td>0.6692</td>\n",
       "      <td>0.4667</td>\n",
       "    </tr>\n",
       "    <tr>\n",
       "      <th>1</th>\n",
       "      <td>SVC</td>\n",
       "      <td>0.6110</td>\n",
       "      <td>0.5333</td>\n",
       "    </tr>\n",
       "    <tr>\n",
       "      <th>2</th>\n",
       "      <td>Gaussian Naive Bayes</td>\n",
       "      <td>0.6099</td>\n",
       "      <td>0.4667</td>\n",
       "    </tr>\n",
       "    <tr>\n",
       "      <th>3</th>\n",
       "      <td>KNN</td>\n",
       "      <td>0.5473</td>\n",
       "      <td>0.4667</td>\n",
       "    </tr>\n",
       "    <tr>\n",
       "      <th>4</th>\n",
       "      <td>Decision Tree</td>\n",
       "      <td>0.5473</td>\n",
       "      <td>0.3333</td>\n",
       "    </tr>\n",
       "  </tbody>\n",
       "</table>\n",
       "</div>"
      ],
      "text/plain": [
       "                  Model  Train Accuracy  Test Accuracy\n",
       "0   Logistic Regression          0.6692         0.4667\n",
       "1                   SVC          0.6110         0.5333\n",
       "2  Gaussian Naive Bayes          0.6099         0.4667\n",
       "3                   KNN          0.5473         0.4667\n",
       "4         Decision Tree          0.5473         0.3333"
      ]
     },
     "execution_count": 86,
     "metadata": {},
     "output_type": "execute_result"
    }
   ],
   "source": [
    "final_model_results = pd.DataFrame([logreg_results, svc_results, gnb_results, knn_results, dtree_results])\n",
    "final_model_results.columns = ['Model', 'Train Accuracy', 'Test Accuracy']\n",
    "final_model_results"
   ]
  },
  {
   "cell_type": "code",
   "execution_count": 87,
   "id": "54c53161-467e-4c9a-8b82-2bc26db3e3fc",
   "metadata": {},
   "outputs": [
    {
     "data": {
      "text/html": [
       "<div>\n",
       "<style scoped>\n",
       "    .dataframe tbody tr th:only-of-type {\n",
       "        vertical-align: middle;\n",
       "    }\n",
       "\n",
       "    .dataframe tbody tr th {\n",
       "        vertical-align: top;\n",
       "    }\n",
       "\n",
       "    .dataframe thead th {\n",
       "        text-align: right;\n",
       "    }\n",
       "</style>\n",
       "<table border=\"1\" class=\"dataframe\">\n",
       "  <thead>\n",
       "    <tr style=\"text-align: right;\">\n",
       "      <th></th>\n",
       "      <th>Models</th>\n",
       "      <th>Train Accuracy</th>\n",
       "      <th>Test Accuracy</th>\n",
       "    </tr>\n",
       "  </thead>\n",
       "  <tbody>\n",
       "    <tr>\n",
       "      <th>0</th>\n",
       "      <td>Logistic Regression</td>\n",
       "      <td>0.6264</td>\n",
       "      <td>0.533333</td>\n",
       "    </tr>\n",
       "    <tr>\n",
       "      <th>1</th>\n",
       "      <td>SVC</td>\n",
       "      <td>0.5791</td>\n",
       "      <td>0.466667</td>\n",
       "    </tr>\n",
       "    <tr>\n",
       "      <th>2</th>\n",
       "      <td>Naive Bayes</td>\n",
       "      <td>0.6110</td>\n",
       "      <td>0.4</td>\n",
       "    </tr>\n",
       "    <tr>\n",
       "      <th>3</th>\n",
       "      <td>KNN</td>\n",
       "      <td>0.5615</td>\n",
       "      <td>0.4</td>\n",
       "    </tr>\n",
       "    <tr>\n",
       "      <th>4</th>\n",
       "      <td>Decision Tree</td>\n",
       "      <td>0.5615</td>\n",
       "      <td>0.466667</td>\n",
       "    </tr>\n",
       "  </tbody>\n",
       "</table>\n",
       "</div>"
      ],
      "text/plain": [
       "                Models  Train Accuracy Test Accuracy\n",
       "0  Logistic Regression          0.6264      0.533333\n",
       "1                  SVC          0.5791      0.466667\n",
       "2          Naive Bayes          0.6110           0.4\n",
       "3                  KNN          0.5615           0.4\n",
       "4        Decision Tree          0.5615      0.466667"
      ]
     },
     "execution_count": 87,
     "metadata": {},
     "output_type": "execute_result"
    }
   ],
   "source": [
    "# compare to baseline model results\n",
    "\n",
    "round(model_results, 4)"
   ]
  },
  {
   "cell_type": "markdown",
   "id": "63067262-af43-44d5-ac3d-f92712e6fda0",
   "metadata": {},
   "source": [
    "SVC, Naive Bayes, and KNN improved after hyperparameter tuning. Logistic Regression prior to hyperparameter tuning, and SVC post-hyperparameter tuning had the best performing models with a test accuracy of 0.533 for both. "
   ]
  },
  {
   "cell_type": "markdown",
   "id": "1b59a5e6-fd51-4214-944b-f0b73319359a",
   "metadata": {},
   "source": [
    "#### Classification Report & Confusion Matrix"
   ]
  },
  {
   "cell_type": "code",
   "execution_count": 88,
   "id": "467cc2c9-023e-47bf-a001-3f8567cc7596",
   "metadata": {},
   "outputs": [],
   "source": [
    "# SVC\n",
    "\n",
    "svc_classreport = classification_report(y_test, svc_pred)\n",
    "svc_confMat = confusion_matrix(y_test, svc_pred)"
   ]
  },
  {
   "cell_type": "code",
   "execution_count": 90,
   "id": "a8f87ad4-41ba-4fd1-aa35-012c8430f8e2",
   "metadata": {},
   "outputs": [
    {
     "name": "stdout",
     "output_type": "stream",
     "text": [
      "SVC\n",
      "              precision    recall  f1-score   support\n",
      "\n",
      "           0       0.56      0.62      0.59         8\n",
      "           1       0.50      0.43      0.46         7\n",
      "\n",
      "    accuracy                           0.53        15\n",
      "   macro avg       0.53      0.53      0.52        15\n",
      "weighted avg       0.53      0.53      0.53        15\n",
      "\n",
      "[[5 3]\n",
      " [4 3]]\n"
     ]
    }
   ],
   "source": [
    "print('SVC')\n",
    "print(svc_classreport)\n",
    "print(svc_confMat)"
   ]
  },
  {
   "cell_type": "code",
   "execution_count": 92,
   "id": "aea3510c-14b5-4891-97d5-1f43248bb808",
   "metadata": {},
   "outputs": [],
   "source": [
    "# fit original LogReg model to get classification and confusion matrix numbers\n",
    "\n",
    "logreg = LogisticRegression().fit(X_train, y_train)\n",
    "logreg_pred = logreg.predict(X_test)\n",
    "logreg_acc = accuracy_score(y_test, logreg_pred)\n",
    "\n",
    "\n",
    "logreg_classreport = classification_report(y_test, logreg_pred)\n",
    "logreg_confMat = confusion_matrix(y_test, logreg_pred)"
   ]
  },
  {
   "cell_type": "code",
   "execution_count": 93,
   "id": "85c2f66e-71ef-44e2-bdf8-cc104c7fded1",
   "metadata": {},
   "outputs": [
    {
     "name": "stdout",
     "output_type": "stream",
     "text": [
      "Logistic Regression\n",
      "              precision    recall  f1-score   support\n",
      "\n",
      "           0       0.56      0.62      0.59         8\n",
      "           1       0.50      0.43      0.46         7\n",
      "\n",
      "    accuracy                           0.53        15\n",
      "   macro avg       0.53      0.53      0.52        15\n",
      "weighted avg       0.53      0.53      0.53        15\n",
      "\n",
      "[[5 3]\n",
      " [4 3]]\n"
     ]
    }
   ],
   "source": [
    "print('Logistic Regression')\n",
    "print(logreg_classreport)\n",
    "print(logreg_confMat)"
   ]
  }
 ],
 "metadata": {
  "kernelspec": {
   "display_name": "Python 3 (ipykernel)",
   "language": "python",
   "name": "python3"
  },
  "language_info": {
   "codemirror_mode": {
    "name": "ipython",
    "version": 3
   },
   "file_extension": ".py",
   "mimetype": "text/x-python",
   "name": "python",
   "nbconvert_exporter": "python",
   "pygments_lexer": "ipython3",
   "version": "3.8.5"
  }
 },
 "nbformat": 4,
 "nbformat_minor": 5
}
