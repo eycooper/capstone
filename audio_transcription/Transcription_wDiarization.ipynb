{
 "cells": [
  {
   "cell_type": "markdown",
   "id": "2a3feb6f-0311-4436-bc90-39a8ef15dfeb",
   "metadata": {},
   "source": [
    "# Speech to Text Transcription with Diarization\n",
    "\n",
    "Use Google Cloud's speech to text API to transcribe the videos. This API also includes optional speaker diarization to label different speakers, which may be helpful in us separating out what is said by the teacher versus the students. For large audio files (longer than a minute) they must be uploaded to Google Cloud storage first. \n",
    "\n",
    "References:\n",
    "- https://towardsdatascience.com/extracting-audio-from-video-using-python-58856a940fd\n",
    "- https://medium.com/codex/google-speech-to-text-api-tutorial-with-python-2e049ae3f525\n",
    "- https://towardsdatascience.com/how-to-use-google-speech-to-text-api-to-transcribe-long-audio-files-1c886f4eb3e9\n",
    "- https://cloud.google.com/speech-to-text/docs/async-recognize\n",
    "- https://cloud.google.com/speech-to-text/docs/multiple-voices\n"
   ]
  },
  {
   "cell_type": "code",
   "execution_count": 1,
   "id": "2c4e1c64-7ac6-46ee-b82b-8015b4f2c7d3",
   "metadata": {},
   "outputs": [],
   "source": [
    "# !pip install ffmpeg moviepy \n",
    "# !pip install google-cloud-speech\n",
    "# !pip install google-cloud-storage\n",
    "# !pip install protobuf==3.20.1 \n",
    "# !pip install pydub"
   ]
  },
  {
   "cell_type": "code",
   "execution_count": 2,
   "id": "c300da31-0af6-40cb-a78a-146f0b8804b3",
   "metadata": {},
   "outputs": [
    {
     "name": "stderr",
     "output_type": "stream",
     "text": [
      "/opt/anaconda3/lib/python3.8/site-packages/pydub/utils.py:170: RuntimeWarning: Couldn't find ffmpeg or avconv - defaulting to ffmpeg, but may not work\n",
      "  warn(\"Couldn't find ffmpeg or avconv - defaulting to ffmpeg, but may not work\", RuntimeWarning)\n"
     ]
    }
   ],
   "source": [
    "# Import libraries\n",
    "from pydub import AudioSegment\n",
    "import io\n",
    "import os\n",
    "from google.cloud import speech\n",
    "from google.cloud import storage\n",
    "import wave\n",
    "import moviepy.editor as mp\n"
   ]
  },
  {
   "cell_type": "code",
   "execution_count": 3,
   "id": "d55e3883-56ff-4a14-812c-b41f124db26a",
   "metadata": {},
   "outputs": [],
   "source": [
    "# Directory paths\n",
    "mp4_path = './Data/MP4_Files/' # Input mp4 file path\n",
    "wav_path = './Data/WAV_Files/' # Audio file path\n",
    "text_path = './Data/Text_Files/' # Final transcript path\n",
    "\n",
    "# Create empty directories for wav and text files (if they don't exist)\n",
    "if not os.path.exists(wav_path):\n",
    "    os.makedirs(wav_path)\n",
    "    \n",
    "if not os.path.exists(text_path):\n",
    "    os.makedirs(text_path)\n",
    "\n",
    "# Name of the google cloud bucket (this must be already created)\n",
    "bucket_name = \"education_mindfulness\" "
   ]
  },
  {
   "cell_type": "code",
   "execution_count": 4,
   "id": "6bfa6876-95f7-4dd3-af94-dd09386f7c69",
   "metadata": {},
   "outputs": [],
   "source": [
    "# Convert mp4 file to wav file\n",
    "def convert_mp4_to_wav(file_name, mp4_path, wav_path):\n",
    "    '''\n",
    "    Loads mp4 file and write to .wav file\n",
    "    \n",
    "    Inputs:\n",
    "    - file_name: name of file (without extension)\n",
    "    - mp4_path: path to folder for mp4 files\n",
    "    - wav_path: path to folder for wav files\n",
    "    \n",
    "    Outputs:\n",
    "    - Saves .wav file to wav_path\n",
    "    '''\n",
    "    \n",
    "    # Load mp4 file\n",
    "    orig_video = mp.VideoFileClip(mp4_path + file_name + \".mp4\")\n",
    "    # Write to wav file\n",
    "    orig_video.audio.write_audiofile(wav_path + file_name + \".wav\")\n",
    "    \n",
    "    return"
   ]
  },
  {
   "cell_type": "code",
   "execution_count": 5,
   "id": "0f700c9f-c195-479a-aea5-68f5cf4eef55",
   "metadata": {},
   "outputs": [],
   "source": [
    "# Convert stereo file to mono file\n",
    "def stereo_to_mono(file_name, wav_path):\n",
    "    sound = AudioSegment.from_wav(wav_path + file_name + '.wav')\n",
    "    sound = sound.set_channels(1)\n",
    "    sound.export(wav_path + file_name + '.wav', format=\"wav\")\n",
    "\n",
    "# Get frame rate and number of channels\n",
    "def frame_rate_channel(file_name, wav_path):\n",
    "    with wave.open(wav_path + file_name + '.wav', \"rb\") as wave_file:\n",
    "        frame_rate = wave_file.getframerate()\n",
    "        channels = wave_file.getnchannels()\n",
    "        return frame_rate, channels"
   ]
  },
  {
   "cell_type": "code",
   "execution_count": 6,
   "id": "175422f6-3fe4-4412-a3e2-ed516a2bb731",
   "metadata": {},
   "outputs": [],
   "source": [
    "# Upload file to Google storage\n",
    "def upload_blob(bucket_name, source_file_name, destination_blob_name):\n",
    "    storage_client = storage.Client()\n",
    "    bucket = storage_client.get_bucket(bucket_name)\n",
    "    blob = bucket.blob(destination_blob_name)\n",
    "    blob.upload_from_filename(source_file_name)\n",
    "    \n",
    "# Delete file in Google storage\n",
    "def delete_blob(bucket_name, blob_name):\n",
    "    storage_client = storage.Client()\n",
    "    bucket = storage_client.get_bucket(bucket_name)\n",
    "    blob = bucket.blob(blob_name)\n",
    "    blob.delete()"
   ]
  },
  {
   "cell_type": "code",
   "execution_count": 8,
   "id": "cfa3d2e2-b342-4b9f-b19a-5abde8a6f0bf",
   "metadata": {},
   "outputs": [],
   "source": [
    "# Transcribe audio with diarization\n",
    "def google_transcribe(file_name, wav_path, bucket_name):    \n",
    "    # Convert stereo file to mono file\n",
    "    frame_rate, channels = frame_rate_channel(file_name, wav_path)\n",
    "    if channels > 1:\n",
    "        stereo_to_mono(file_name, wav_path)\n",
    "    \n",
    "    # Upload file to google storage\n",
    "    source_file_name = wav_path + file_name + '.wav' # Local file path\n",
    "    destination_blob_name = file_name + '.wav' # File name on google\n",
    "    upload_blob(bucket_name, source_file_name, destination_blob_name) # Upload\n",
    "    gcs_uri = 'gs://' + bucket_name + '/' + file_name + '.wav' # Bucket path to file\n",
    "    \n",
    "    # Transcription\n",
    "    # Setup for transcription\n",
    "    client = speech.SpeechClient()\n",
    "    audio = speech.RecognitionAudio(uri = gcs_uri)\n",
    "    # Configuration to use speaker diarization\n",
    "    diarization_config = speech.SpeakerDiarizationConfig(\n",
    "        enable_speaker_diarization = True,\n",
    "        min_speaker_count = 2, # Teacher and other\n",
    "        max_speaker_count = 7, # Teacher, 5 students, begin/end simulation speaker\n",
    "    )\n",
    "    # Overall configuration\n",
    "    config = speech.RecognitionConfig(\n",
    "        encoding = speech.RecognitionConfig.AudioEncoding.LINEAR16,\n",
    "        enable_automatic_punctuation = True,\n",
    "        sample_rate_hertz = frame_rate,\n",
    "        language_code = 'en-US',\n",
    "        diarization_config = diarization_config)\n",
    "    # Transcribe audio\n",
    "    operation = client.long_running_recognize(config = config, audio = audio)\n",
    "    response = operation.result(timeout = 10000)\n",
    "    \n",
    "    # Delete audio file from google storage\n",
    "    delete_blob(bucket_name, destination_blob_name)\n",
    "    \n",
    "    # Turn raw response into transcript with speaker tags\n",
    "    transcript = transcript_with_speaker_tags(response)\n",
    "    \n",
    "    return transcript"
   ]
  },
  {
   "cell_type": "code",
   "execution_count": 9,
   "id": "ad2f906a-7666-4148-8e1a-ef74e5a8cc65",
   "metadata": {},
   "outputs": [],
   "source": [
    "# Turn raw response into transcript with speaker tags\n",
    "def transcript_with_speaker_tags(response):\n",
    "    transcript = '' # Initialize empty transcript\n",
    "    result = response.results[-1]\n",
    "    words_info = result.alternatives[0].words\n",
    "\n",
    "    tag = 1 # Initialize current speaker tag to 1\n",
    "    temp_transcript = '' # Initialize temporary transcript of what current speaker has said\n",
    "\n",
    "    # For each word in transcription\n",
    "    for word_info in words_info: \n",
    "        # If speaker tag is same as current tag\n",
    "        if word_info.speaker_tag == tag: \n",
    "            # Add current word to what they've already said (temp_transcript)\n",
    "            temp_transcript = temp_transcript + \" \" + word_info.word \n",
    "\n",
    "        # Otherwise we have a change in speaker\n",
    "        else: \n",
    "            # Add last speaker's temp_transcript to overall transcript\n",
    "            transcript += f'speaker {tag}: {temp_transcript} \\n'\n",
    "\n",
    "            # Update current speaker tag to new speaker\n",
    "            tag = word_info.speaker_tag\n",
    "\n",
    "            # Initialize this speaker's temp_transcript with what they just said\n",
    "            temp_transcript = '' + word_info.word\n",
    "\n",
    "    # Add final speaker's temp_transcript to overall transcript\n",
    "    transcript += f'speaker {tag}: {temp_transcript} \\n'\n",
    "\n",
    "    return transcript"
   ]
  },
  {
   "cell_type": "code",
   "execution_count": 10,
   "id": "63374dfb-ce92-4b26-9fa9-890ef78b1aa1",
   "metadata": {},
   "outputs": [],
   "source": [
    "# Write transcript to text file\n",
    "def write_transcripts(file_name, text_path, transcript):\n",
    "    f= open(text_path + file_name + '.txt', \"w+\")\n",
    "    f.write(transcript)\n",
    "    f.close()"
   ]
  },
  {
   "cell_type": "code",
   "execution_count": null,
   "id": "90c93ae1-58c6-4b1d-a48b-b03b71f85809",
   "metadata": {},
   "outputs": [],
   "source": []
  },
  {
   "cell_type": "code",
   "execution_count": 11,
   "id": "53b8a510-233a-419e-8f40-4e9837f4bcb1",
   "metadata": {},
   "outputs": [],
   "source": [
    "# List of file names\n",
    "file_list = os.listdir(mp4_path) # List all files in mp4 directory\n",
    "# Updated list of files names\n",
    "# remove extension and skip files that start with '.' (e.g. ipynb checkpoints)\n",
    "file_list = [x.replace('.mp4', '')for x in file_list if x[0] != '.'] # Remove extension"
   ]
  },
  {
   "cell_type": "code",
   "execution_count": 12,
   "id": "29b2f399-8583-4795-aae2-aa134c3516c0",
   "metadata": {},
   "outputs": [],
   "source": [
    "# Setting Google credential\n",
    "os.environ['GOOGLE_APPLICATION_CREDENTIALS']= 'google_secret_key.json'\n",
    "# Create client instance \n",
    "client = speech.SpeechClient()"
   ]
  },
  {
   "cell_type": "code",
   "execution_count": 13,
   "id": "b0fa4e24-2dd1-4c98-a7d2-8597308e227d",
   "metadata": {},
   "outputs": [
    {
     "name": "stderr",
     "output_type": "stream",
     "text": [
      "chunk:   3%|▎         | 213/7047 [00:00<00:03, 2129.26it/s, now=None]"
     ]
    },
    {
     "name": "stdout",
     "output_type": "stream",
     "text": [
      "MoviePy - Writing audio in ./Data/WAV_Files/223_2.26.20_S_SC.wav\n"
     ]
    },
    {
     "name": "stderr",
     "output_type": "stream",
     "text": [
      "                                                                      \r"
     ]
    },
    {
     "name": "stdout",
     "output_type": "stream",
     "text": [
      "MoviePy - Done.\n"
     ]
    },
    {
     "name": "stderr",
     "output_type": "stream",
     "text": [
      "chunk:   4%|▍         | 265/6877 [00:00<00:02, 2648.80it/s, now=None]"
     ]
    },
    {
     "name": "stdout",
     "output_type": "stream",
     "text": [
      "MoviePy - Writing audio in ./Data/WAV_Files/210_1.31.20_S_SC.wav\n"
     ]
    },
    {
     "name": "stderr",
     "output_type": "stream",
     "text": [
      "                                                                      \r"
     ]
    },
    {
     "name": "stdout",
     "output_type": "stream",
     "text": [
      "MoviePy - Done.\n"
     ]
    },
    {
     "name": "stderr",
     "output_type": "stream",
     "text": [
      "chunk:   4%|▍         | 275/6924 [00:00<00:02, 2747.50it/s, now=None]"
     ]
    },
    {
     "name": "stdout",
     "output_type": "stream",
     "text": [
      "MoviePy - Writing audio in ./Data/WAV_Files/228_3.4.20_S_SC.wav\n"
     ]
    },
    {
     "name": "stderr",
     "output_type": "stream",
     "text": [
      "                                                                      \r"
     ]
    },
    {
     "name": "stdout",
     "output_type": "stream",
     "text": [
      "MoviePy - Done.\n"
     ]
    },
    {
     "name": "stderr",
     "output_type": "stream",
     "text": [
      "chunk:   4%|▎         | 249/6898 [00:00<00:02, 2484.84it/s, now=None]"
     ]
    },
    {
     "name": "stdout",
     "output_type": "stream",
     "text": [
      "MoviePy - Writing audio in ./Data/WAV_Files/226_2.26.20_S_SC.wav\n"
     ]
    },
    {
     "name": "stderr",
     "output_type": "stream",
     "text": [
      "                                                                      "
     ]
    },
    {
     "name": "stdout",
     "output_type": "stream",
     "text": [
      "MoviePy - Done.\n"
     ]
    },
    {
     "name": "stderr",
     "output_type": "stream",
     "text": [
      "\r"
     ]
    }
   ],
   "source": [
    "# Convert mp4 files to wav files\n",
    "for file_name in file_list:\n",
    "    convert_mp4_to_wav(file_name, mp4_path, wav_path)"
   ]
  },
  {
   "cell_type": "code",
   "execution_count": 14,
   "id": "135aa54d-455f-4ea4-ae01-bc684fe7dc4c",
   "metadata": {},
   "outputs": [],
   "source": [
    "# Exceute program\n",
    "if __name__ == \"__main__\":\n",
    "    for file_name in file_list:\n",
    "        # Transcribe using google speech\n",
    "        transcript = google_transcribe(file_name, wav_path, bucket_name)\n",
    "        # Write transcript to text file\n",
    "        write_transcripts(file_name, text_path, transcript)"
   ]
  },
  {
   "cell_type": "code",
   "execution_count": null,
   "id": "49e89454-3657-4417-873c-d0be2bb58ce4",
   "metadata": {},
   "outputs": [],
   "source": []
  },
  {
   "cell_type": "code",
   "execution_count": null,
   "id": "dfd4078e-e8ab-4eeb-89f6-dff1bc4ea4a6",
   "metadata": {},
   "outputs": [],
   "source": []
  }
 ],
 "metadata": {
  "kernelspec": {
   "display_name": "Python 3",
   "language": "python",
   "name": "python3"
  },
  "language_info": {
   "codemirror_mode": {
    "name": "ipython",
    "version": 3
   },
   "file_extension": ".py",
   "mimetype": "text/x-python",
   "name": "python",
   "nbconvert_exporter": "python",
   "pygments_lexer": "ipython3",
   "version": "3.8.8"
  }
 },
 "nbformat": 4,
 "nbformat_minor": 5
}
